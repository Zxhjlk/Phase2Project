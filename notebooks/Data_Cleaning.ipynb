{
 "cells": [
  {
   "cell_type": "markdown",
   "metadata": {},
   "source": [
    "## Exploring the data\n",
    "Since there is so much data, we need to figure out what the data is and how, if we want to, to combine all the data. We also need to check if anything needs to be cleaned. "
   ]
  },
  {
   "cell_type": "code",
   "execution_count": 131,
   "metadata": {},
   "outputs": [],
   "source": [
    "import pandas as pd \n",
    "import numpy as np\n",
    "import sqlite3"
   ]
  },
  {
   "cell_type": "code",
   "execution_count": 132,
   "metadata": {},
   "outputs": [],
   "source": [
    "df_gross = pd.read_csv('../data/bom.movie_gross.csv', index_col=0)\n",
    "df_budgets = pd.read_csv('../data/tn.movie_budgets.csv', index_col=0)\n",
    "df_movies = pd.read_csv('../data/tmdb.movies.csv', index_col=0)\n",
    "df_reviews = pd.read_csv('../data/rt.reviews.tsv', index_col=0, sep='\\t', encoding='latin-1')\n",
    "df_info = pd.read_csv('../data/rt.movie_info.tsv', index_col=0, sep='\\t')\n",
    "conn = sqlite3.connect('../data/im.db')"
   ]
  },
  {
   "cell_type": "markdown",
   "metadata": {},
   "source": [
    "This dataset holds the amount of money a movie made domestically and foreignly, the studio associated with the movie and the year it came out."
   ]
  },
  {
   "cell_type": "code",
   "execution_count": 133,
   "metadata": {},
   "outputs": [
    {
     "data": {
      "application/vnd.microsoft.datawrangler.viewer.v0+json": {
       "columns": [
        {
         "name": "title",
         "rawType": "object",
         "type": "string"
        },
        {
         "name": "studio",
         "rawType": "object",
         "type": "string"
        },
        {
         "name": "domestic_gross",
         "rawType": "float64",
         "type": "float"
        },
        {
         "name": "foreign_gross",
         "rawType": "object",
         "type": "string"
        },
        {
         "name": "year",
         "rawType": "int64",
         "type": "integer"
        }
       ],
       "conversionMethod": "pd.DataFrame",
       "ref": "bc7c6043-9fd8-408c-afb4-fcb45313298a",
       "rows": [
        [
         "Toy Story 3",
         "BV",
         "415000000.0",
         "652000000",
         "2010"
        ],
        [
         "Alice in Wonderland (2010)",
         "BV",
         "334200000.0",
         "691300000",
         "2010"
        ],
        [
         "Harry Potter and the Deathly Hallows Part 1",
         "WB",
         "296000000.0",
         "664300000",
         "2010"
        ],
        [
         "Inception",
         "WB",
         "292600000.0",
         "535700000",
         "2010"
        ],
        [
         "Shrek Forever After",
         "P/DW",
         "238700000.0",
         "513900000",
         "2010"
        ],
        [
         "The Twilight Saga: Eclipse",
         "Sum.",
         "300500000.0",
         "398000000",
         "2010"
        ],
        [
         "Iron Man 2",
         "Par.",
         "312400000.0",
         "311500000",
         "2010"
        ],
        [
         "Tangled",
         "BV",
         "200800000.0",
         "391000000",
         "2010"
        ],
        [
         "Despicable Me",
         "Uni.",
         "251500000.0",
         "291600000",
         "2010"
        ],
        [
         "How to Train Your Dragon",
         "P/DW",
         "217600000.0",
         "277300000",
         "2010"
        ],
        [
         "Clash of the Titans (2010)",
         "WB",
         "163200000.0",
         "330000000",
         "2010"
        ],
        [
         "The Chronicles of Narnia: The Voyage of the Dawn Treader",
         "Fox",
         "104400000.0",
         "311300000",
         "2010"
        ],
        [
         "The King's Speech",
         "Wein.",
         "135500000.0",
         "275400000",
         "2010"
        ],
        [
         "Tron Legacy",
         "BV",
         "172100000.0",
         "228000000",
         "2010"
        ],
        [
         "The Karate Kid",
         "Sony",
         "176600000.0",
         "182500000",
         "2010"
        ],
        [
         "Prince of Persia: The Sands of Time",
         "BV",
         "90800000.0",
         "245600000",
         "2010"
        ],
        [
         "Black Swan",
         "FoxS",
         "107000000.0",
         "222400000",
         "2010"
        ],
        [
         "Megamind",
         "P/DW",
         "148400000.0",
         "173500000",
         "2010"
        ],
        [
         "Robin Hood",
         "Uni.",
         "105300000.0",
         "216400000",
         "2010"
        ],
        [
         "The Last Airbender",
         "Par.",
         "131800000.0",
         "187900000",
         "2010"
        ],
        [
         "Little Fockers",
         "Uni.",
         "148400000.0",
         "162200000",
         "2010"
        ],
        [
         "Resident Evil: Afterlife",
         "SGem",
         "60100000.0",
         "240100000",
         "2010"
        ],
        [
         "Shutter Island",
         "Par.",
         "128000000.0",
         "166800000",
         "2010"
        ],
        [
         "Salt",
         "Sony",
         "118300000.0",
         "175200000",
         "2010"
        ],
        [
         "Sex and the City 2",
         "WB (NL)",
         "95300000.0",
         "193000000",
         "2010"
        ],
        [
         "The Tourist",
         "Sony",
         "67600000.0",
         "210700000",
         "2010"
        ],
        [
         "The Expendables",
         "LGF",
         "103100000.0",
         "171400000",
         "2010"
        ],
        [
         "Grown Ups",
         "Sony",
         "162000000.0",
         "109400000",
         "2010"
        ],
        [
         "Knight & Day",
         "Fox",
         "76400000.0",
         "185500000",
         "2010"
        ],
        [
         "True Grit",
         "Par.",
         "171200000.0",
         "81000000",
         "2010"
        ],
        [
         "Gulliver's Travels",
         "Fox",
         "42800000.0",
         "194600000",
         "2010"
        ],
        [
         "Percy Jackson & The Olympians: The Lightning Thief",
         "Fox",
         "88800000.0",
         "137700000",
         "2010"
        ],
        [
         "The Social Network",
         "Sony",
         "97000000.0",
         "128000000",
         "2010"
        ],
        [
         "Valentine's Day",
         "WB (NL)",
         "110500000.0",
         "106000000",
         "2010"
        ],
        [
         "The Sorcerer's Apprentice",
         "BV",
         "63200000.0",
         "152100000",
         "2010"
        ],
        [
         "Due Date",
         "WB",
         "100500000.0",
         "111200000",
         "2010"
        ],
        [
         "Eat Pray Love",
         "Sony",
         "80600000.0",
         "124000000",
         "2010"
        ],
        [
         "Yogi Bear",
         "WB",
         "100200000.0",
         "101300000",
         "2010"
        ],
        [
         "Red",
         "Sum.",
         "90400000.0",
         "108600000",
         "2010"
        ],
        [
         "Paranormal Activity 2",
         "Par.",
         "84800000.0",
         "92800000",
         "2010"
        ],
        [
         "The A-Team",
         "Fox",
         "77200000.0",
         "100000000",
         "2010"
        ],
        [
         "Jackass 3-D",
         "Par.",
         "117200000.0",
         "54500000",
         "2010"
        ],
        [
         "The Other Guys",
         "Sony",
         "119200000.0",
         "51200000",
         "2010"
        ],
        [
         "Unstoppable",
         "Fox",
         "81600000.0",
         "86200000",
         "2010"
        ],
        [
         "Step Up 3-D",
         "BV",
         "42400000.0",
         "116900000",
         "2010"
        ],
        [
         "The Book of Eli",
         "WB",
         "94800000.0",
         "62300000",
         "2010"
        ],
        [
         "The Town",
         "WB",
         "92200000.0",
         "61800000",
         "2010"
        ],
        [
         "Date Night",
         "Fox",
         "98700000.0",
         "53600000",
         "2010"
        ],
        [
         "Legend of the Guardians: The Owls of Ga'Hoole",
         "WB",
         "55700000.0",
         "84400000",
         "2010"
        ],
        [
         "The Wolfman",
         "Uni.",
         "62000000.0",
         "77800000",
         "2010"
        ]
       ],
       "shape": {
        "columns": 4,
        "rows": 3387
       }
      },
      "text/html": [
       "<div>\n",
       "<style scoped>\n",
       "    .dataframe tbody tr th:only-of-type {\n",
       "        vertical-align: middle;\n",
       "    }\n",
       "\n",
       "    .dataframe tbody tr th {\n",
       "        vertical-align: top;\n",
       "    }\n",
       "\n",
       "    .dataframe thead th {\n",
       "        text-align: right;\n",
       "    }\n",
       "</style>\n",
       "<table border=\"1\" class=\"dataframe\">\n",
       "  <thead>\n",
       "    <tr style=\"text-align: right;\">\n",
       "      <th></th>\n",
       "      <th>studio</th>\n",
       "      <th>domestic_gross</th>\n",
       "      <th>foreign_gross</th>\n",
       "      <th>year</th>\n",
       "    </tr>\n",
       "    <tr>\n",
       "      <th>title</th>\n",
       "      <th></th>\n",
       "      <th></th>\n",
       "      <th></th>\n",
       "      <th></th>\n",
       "    </tr>\n",
       "  </thead>\n",
       "  <tbody>\n",
       "    <tr>\n",
       "      <th>Toy Story 3</th>\n",
       "      <td>BV</td>\n",
       "      <td>415000000.0</td>\n",
       "      <td>652000000</td>\n",
       "      <td>2010</td>\n",
       "    </tr>\n",
       "    <tr>\n",
       "      <th>Alice in Wonderland (2010)</th>\n",
       "      <td>BV</td>\n",
       "      <td>334200000.0</td>\n",
       "      <td>691300000</td>\n",
       "      <td>2010</td>\n",
       "    </tr>\n",
       "    <tr>\n",
       "      <th>Harry Potter and the Deathly Hallows Part 1</th>\n",
       "      <td>WB</td>\n",
       "      <td>296000000.0</td>\n",
       "      <td>664300000</td>\n",
       "      <td>2010</td>\n",
       "    </tr>\n",
       "    <tr>\n",
       "      <th>Inception</th>\n",
       "      <td>WB</td>\n",
       "      <td>292600000.0</td>\n",
       "      <td>535700000</td>\n",
       "      <td>2010</td>\n",
       "    </tr>\n",
       "    <tr>\n",
       "      <th>Shrek Forever After</th>\n",
       "      <td>P/DW</td>\n",
       "      <td>238700000.0</td>\n",
       "      <td>513900000</td>\n",
       "      <td>2010</td>\n",
       "    </tr>\n",
       "    <tr>\n",
       "      <th>...</th>\n",
       "      <td>...</td>\n",
       "      <td>...</td>\n",
       "      <td>...</td>\n",
       "      <td>...</td>\n",
       "    </tr>\n",
       "    <tr>\n",
       "      <th>The Quake</th>\n",
       "      <td>Magn.</td>\n",
       "      <td>6200.0</td>\n",
       "      <td>NaN</td>\n",
       "      <td>2018</td>\n",
       "    </tr>\n",
       "    <tr>\n",
       "      <th>Edward II (2018 re-release)</th>\n",
       "      <td>FM</td>\n",
       "      <td>4800.0</td>\n",
       "      <td>NaN</td>\n",
       "      <td>2018</td>\n",
       "    </tr>\n",
       "    <tr>\n",
       "      <th>El Pacto</th>\n",
       "      <td>Sony</td>\n",
       "      <td>2500.0</td>\n",
       "      <td>NaN</td>\n",
       "      <td>2018</td>\n",
       "    </tr>\n",
       "    <tr>\n",
       "      <th>The Swan</th>\n",
       "      <td>Synergetic</td>\n",
       "      <td>2400.0</td>\n",
       "      <td>NaN</td>\n",
       "      <td>2018</td>\n",
       "    </tr>\n",
       "    <tr>\n",
       "      <th>An Actor Prepares</th>\n",
       "      <td>Grav.</td>\n",
       "      <td>1700.0</td>\n",
       "      <td>NaN</td>\n",
       "      <td>2018</td>\n",
       "    </tr>\n",
       "  </tbody>\n",
       "</table>\n",
       "<p>3387 rows × 4 columns</p>\n",
       "</div>"
      ],
      "text/plain": [
       "                                                 studio  domestic_gross  \\\n",
       "title                                                                     \n",
       "Toy Story 3                                          BV     415000000.0   \n",
       "Alice in Wonderland (2010)                           BV     334200000.0   \n",
       "Harry Potter and the Deathly Hallows Part 1          WB     296000000.0   \n",
       "Inception                                            WB     292600000.0   \n",
       "Shrek Forever After                                P/DW     238700000.0   \n",
       "...                                                 ...             ...   \n",
       "The Quake                                         Magn.          6200.0   \n",
       "Edward II (2018 re-release)                          FM          4800.0   \n",
       "El Pacto                                           Sony          2500.0   \n",
       "The Swan                                     Synergetic          2400.0   \n",
       "An Actor Prepares                                 Grav.          1700.0   \n",
       "\n",
       "                                            foreign_gross  year  \n",
       "title                                                            \n",
       "Toy Story 3                                     652000000  2010  \n",
       "Alice in Wonderland (2010)                      691300000  2010  \n",
       "Harry Potter and the Deathly Hallows Part 1     664300000  2010  \n",
       "Inception                                       535700000  2010  \n",
       "Shrek Forever After                             513900000  2010  \n",
       "...                                                   ...   ...  \n",
       "The Quake                                             NaN  2018  \n",
       "Edward II (2018 re-release)                           NaN  2018  \n",
       "El Pacto                                              NaN  2018  \n",
       "The Swan                                              NaN  2018  \n",
       "An Actor Prepares                                     NaN  2018  \n",
       "\n",
       "[3387 rows x 4 columns]"
      ]
     },
     "execution_count": 133,
     "metadata": {},
     "output_type": "execute_result"
    }
   ],
   "source": [
    "#df_gross['domestic_gross'] = df_gross['domestic_gross'].map(lambda x: int(x) if pd.notnull(x) else x) Not working??\n",
    "df_gross"
   ]
  },
  {
   "cell_type": "markdown",
   "metadata": {},
   "source": [
    "This dataset is somewhat similar to the one above, except it has a more specific release date, and also the budget spent on the movie. Upon checking the gross columns, there are no missing boxes, so we can strip the columns and turn them into ints to make them easier to deal with. We will also drop movies before the 2000s as inflation will make the price comparisons not equal."
   ]
  },
  {
   "cell_type": "code",
   "execution_count": 134,
   "metadata": {},
   "outputs": [
    {
     "name": "stderr",
     "output_type": "stream",
     "text": [
      "c:\\Users\\Eddie\\anaconda3\\envs\\learn-env\\lib\\site-packages\\pandas\\core\\ops\\array_ops.py:73: FutureWarning: Comparison of Timestamp with datetime.date is deprecated in order to match the standard library behavior. In a future version these will be considered non-comparable. Use 'ts == pd.Timestamp(date)' or 'ts.date() == date' instead.\n",
      "  result = libops.scalar_compare(x.ravel(), y, op)\n"
     ]
    },
    {
     "data": {
      "application/vnd.microsoft.datawrangler.viewer.v0+json": {
       "columns": [
        {
         "name": "id",
         "rawType": "int64",
         "type": "integer"
        },
        {
         "name": "release_date",
         "rawType": "object",
         "type": "string"
        },
        {
         "name": "movie",
         "rawType": "object",
         "type": "string"
        },
        {
         "name": "production_budget",
         "rawType": "int64",
         "type": "integer"
        },
        {
         "name": "domestic_gross",
         "rawType": "int64",
         "type": "integer"
        },
        {
         "name": "worldwide_gross",
         "rawType": "int64",
         "type": "integer"
        }
       ],
       "conversionMethod": "pd.DataFrame",
       "ref": "e7d10564-fc66-4c90-b26c-f5d7c8b5fe6d",
       "rows": [
        [
         "1",
         "2009-12-18",
         "Avatar",
         "425000000",
         "760507625",
         "2776345279"
        ],
        [
         "2",
         "2011-05-20",
         "Pirates of the Caribbean: On Stranger Tides",
         "410600000",
         "241063875",
         "1045663875"
        ],
        [
         "3",
         "2019-06-07",
         "Dark Phoenix",
         "350000000",
         "42762350",
         "149762350"
        ],
        [
         "4",
         "2015-05-01",
         "Avengers: Age of Ultron",
         "330600000",
         "459005868",
         "1403013963"
        ],
        [
         "5",
         "2017-12-15",
         "Star Wars Ep. VIII: The Last Jedi",
         "317000000",
         "620181382",
         "1316721747"
        ],
        [
         "6",
         "2015-12-18",
         "Star Wars Ep. VII: The Force Awakens",
         "306000000",
         "936662225",
         "2053311220"
        ],
        [
         "7",
         "2018-04-27",
         "Avengers: Infinity War",
         "300000000",
         "678815482",
         "2048134200"
        ],
        [
         "8",
         "2007-05-24",
         "Pirates of the Caribbean: At Worldâs End",
         "300000000",
         "309420425",
         "963420425"
        ],
        [
         "9",
         "2017-11-17",
         "Justice League",
         "300000000",
         "229024295",
         "655945209"
        ],
        [
         "10",
         "2015-11-06",
         "Spectre",
         "300000000",
         "200074175",
         "879620923"
        ],
        [
         "11",
         "2012-07-20",
         "The Dark Knight Rises",
         "275000000",
         "448139099",
         "1084439099"
        ],
        [
         "12",
         "2018-05-25",
         "Solo: A Star Wars Story",
         "275000000",
         "213767512",
         "393151347"
        ],
        [
         "13",
         "2013-07-02",
         "The Lone Ranger",
         "275000000",
         "89302115",
         "260002115"
        ],
        [
         "14",
         "2012-03-09",
         "John Carter",
         "275000000",
         "73058679",
         "282778100"
        ],
        [
         "15",
         "2010-11-24",
         "Tangled",
         "260000000",
         "200821936",
         "586477240"
        ],
        [
         "16",
         "2007-05-04",
         "Spider-Man 3",
         "258000000",
         "336530303",
         "894860230"
        ],
        [
         "17",
         "2016-05-06",
         "Captain America: Civil War",
         "250000000",
         "408084349",
         "1140069413"
        ],
        [
         "18",
         "2016-03-25",
         "Batman v Superman: Dawn of Justice",
         "250000000",
         "330360194",
         "867500281"
        ],
        [
         "19",
         "2012-12-14",
         "The Hobbit: An Unexpected Journey",
         "250000000",
         "303003568",
         "1017003568"
        ],
        [
         "20",
         "2009-07-15",
         "Harry Potter and the Half-Blood Prince",
         "250000000",
         "302089278",
         "935213767"
        ],
        [
         "21",
         "2013-12-13",
         "The Hobbit: The Desolation of Smaug",
         "250000000",
         "258366855",
         "960366855"
        ],
        [
         "22",
         "2014-12-17",
         "The Hobbit: The Battle of the Five Armies",
         "250000000",
         "255119788",
         "945577621"
        ],
        [
         "23",
         "2017-04-14",
         "The Fate of the Furious",
         "250000000",
         "225764765",
         "1234846267"
        ],
        [
         "24",
         "2006-06-28",
         "Superman Returns",
         "232000000",
         "200120000",
         "374085065"
        ],
        [
         "25",
         "2017-05-26",
         "Pirates of the Caribbean: Dead Men Tell No Tales",
         "230000000",
         "172558876",
         "788241137"
        ],
        [
         "26",
         "2008-11-14",
         "Quantum of Solace",
         "230000000",
         "169368427",
         "591692078"
        ],
        [
         "27",
         "2012-05-04",
         "The Avengers",
         "225000000",
         "623279547",
         "1517935897"
        ],
        [
         "28",
         "2006-07-07",
         "Pirates of the Caribbean: Dead Manâs Chest",
         "225000000",
         "423315812",
         "1066215812"
        ],
        [
         "29",
         "2013-06-14",
         "Man of Steel",
         "225000000",
         "291045518",
         "667999518"
        ],
        [
         "30",
         "2008-05-16",
         "The Chronicles of Narnia: Prince Caspian",
         "225000000",
         "141621490",
         "417341288"
        ],
        [
         "31",
         "2012-07-03",
         "The Amazing Spider-Man",
         "220000000",
         "262030663",
         "757890267"
        ],
        [
         "32",
         "2012-05-18",
         "Battleship",
         "220000000",
         "65233400",
         "313477717"
        ],
        [
         "33",
         "2017-06-21",
         "Transformers: The Last Knight",
         "217000000",
         "130168683",
         "602893340"
        ],
        [
         "34",
         "2015-06-12",
         "Jurassic World",
         "215000000",
         "652270625",
         "1648854864"
        ],
        [
         "35",
         "2012-05-25",
         "Men in Black 3",
         "215000000",
         "179020854",
         "654213485"
        ],
        [
         "36",
         "2009-06-24",
         "Transformers: Revenge of the Fallen",
         "210000000",
         "402111870",
         "836519699"
        ],
        [
         "37",
         "2014-06-27",
         "Transformers: Age of Extinction",
         "210000000",
         "245439076",
         "1104039076"
        ],
        [
         "38",
         "2006-05-26",
         "X-Men: The Last Stand",
         "210000000",
         "234362462",
         "459260946"
        ],
        [
         "39",
         "2010-05-14",
         "Robin Hood",
         "210000000",
         "105487148",
         "322459006"
        ],
        [
         "40",
         "2005-12-14",
         "King Kong",
         "207000000",
         "218080025",
         "550517357"
        ],
        [
         "41",
         "2007-12-07",
         "The Golden Compass",
         "205000000",
         "70107728",
         "367262558"
        ],
        [
         "42",
         "2018-02-16",
         "Black Panther",
         "200000000",
         "700059566",
         "1348258224"
        ],
        [
         "44",
         "2018-06-15",
         "Incredibles 2",
         "200000000",
         "608581744",
         "1242520711"
        ],
        [
         "45",
         "2016-12-16",
         "Rogue One: A Star Wars Story",
         "200000000",
         "532177324",
         "1049102856"
        ],
        [
         "46",
         "2016-06-17",
         "Finding Dory",
         "200000000",
         "486295561",
         "1021215193"
        ],
        [
         "47",
         "2010-06-18",
         "Toy Story 3",
         "200000000",
         "415004880",
         "1068879522"
        ],
        [
         "48",
         "2013-05-03",
         "Iron Man 3",
         "200000000",
         "408992272",
         "1215392272"
        ],
        [
         "49",
         "2017-05-05",
         "Guardians of the Galaxy Vol 2",
         "200000000",
         "389813101",
         "862316233"
        ],
        [
         "50",
         "2004-06-30",
         "Spider-Man 2",
         "200000000",
         "373524485",
         "795110670"
        ],
        [
         "51",
         "2010-03-05",
         "Alice in Wonderland",
         "200000000",
         "334191110",
         "1025491110"
        ]
       ],
       "shape": {
        "columns": 5,
        "rows": 4387
       }
      },
      "text/html": [
       "<div>\n",
       "<style scoped>\n",
       "    .dataframe tbody tr th:only-of-type {\n",
       "        vertical-align: middle;\n",
       "    }\n",
       "\n",
       "    .dataframe tbody tr th {\n",
       "        vertical-align: top;\n",
       "    }\n",
       "\n",
       "    .dataframe thead th {\n",
       "        text-align: right;\n",
       "    }\n",
       "</style>\n",
       "<table border=\"1\" class=\"dataframe\">\n",
       "  <thead>\n",
       "    <tr style=\"text-align: right;\">\n",
       "      <th></th>\n",
       "      <th>release_date</th>\n",
       "      <th>movie</th>\n",
       "      <th>production_budget</th>\n",
       "      <th>domestic_gross</th>\n",
       "      <th>worldwide_gross</th>\n",
       "    </tr>\n",
       "    <tr>\n",
       "      <th>id</th>\n",
       "      <th></th>\n",
       "      <th></th>\n",
       "      <th></th>\n",
       "      <th></th>\n",
       "      <th></th>\n",
       "    </tr>\n",
       "  </thead>\n",
       "  <tbody>\n",
       "    <tr>\n",
       "      <th>1</th>\n",
       "      <td>2009-12-18</td>\n",
       "      <td>Avatar</td>\n",
       "      <td>425000000</td>\n",
       "      <td>760507625</td>\n",
       "      <td>2776345279</td>\n",
       "    </tr>\n",
       "    <tr>\n",
       "      <th>2</th>\n",
       "      <td>2011-05-20</td>\n",
       "      <td>Pirates of the Caribbean: On Stranger Tides</td>\n",
       "      <td>410600000</td>\n",
       "      <td>241063875</td>\n",
       "      <td>1045663875</td>\n",
       "    </tr>\n",
       "    <tr>\n",
       "      <th>3</th>\n",
       "      <td>2019-06-07</td>\n",
       "      <td>Dark Phoenix</td>\n",
       "      <td>350000000</td>\n",
       "      <td>42762350</td>\n",
       "      <td>149762350</td>\n",
       "    </tr>\n",
       "    <tr>\n",
       "      <th>4</th>\n",
       "      <td>2015-05-01</td>\n",
       "      <td>Avengers: Age of Ultron</td>\n",
       "      <td>330600000</td>\n",
       "      <td>459005868</td>\n",
       "      <td>1403013963</td>\n",
       "    </tr>\n",
       "    <tr>\n",
       "      <th>5</th>\n",
       "      <td>2017-12-15</td>\n",
       "      <td>Star Wars Ep. VIII: The Last Jedi</td>\n",
       "      <td>317000000</td>\n",
       "      <td>620181382</td>\n",
       "      <td>1316721747</td>\n",
       "    </tr>\n",
       "    <tr>\n",
       "      <th>...</th>\n",
       "      <td>...</td>\n",
       "      <td>...</td>\n",
       "      <td>...</td>\n",
       "      <td>...</td>\n",
       "      <td>...</td>\n",
       "    </tr>\n",
       "    <tr>\n",
       "      <th>77</th>\n",
       "      <td>2004-12-31</td>\n",
       "      <td>The Mongol King</td>\n",
       "      <td>7000</td>\n",
       "      <td>900</td>\n",
       "      <td>900</td>\n",
       "    </tr>\n",
       "    <tr>\n",
       "      <th>78</th>\n",
       "      <td>2018-12-31</td>\n",
       "      <td>Red 11</td>\n",
       "      <td>7000</td>\n",
       "      <td>0</td>\n",
       "      <td>0</td>\n",
       "    </tr>\n",
       "    <tr>\n",
       "      <th>80</th>\n",
       "      <td>2005-07-13</td>\n",
       "      <td>Return to the Land of Wonders</td>\n",
       "      <td>5000</td>\n",
       "      <td>1338</td>\n",
       "      <td>1338</td>\n",
       "    </tr>\n",
       "    <tr>\n",
       "      <th>81</th>\n",
       "      <td>2015-09-29</td>\n",
       "      <td>A Plague So Pleasant</td>\n",
       "      <td>1400</td>\n",
       "      <td>0</td>\n",
       "      <td>0</td>\n",
       "    </tr>\n",
       "    <tr>\n",
       "      <th>82</th>\n",
       "      <td>2005-08-05</td>\n",
       "      <td>My Date With Drew</td>\n",
       "      <td>1100</td>\n",
       "      <td>181041</td>\n",
       "      <td>181041</td>\n",
       "    </tr>\n",
       "  </tbody>\n",
       "</table>\n",
       "<p>4387 rows × 5 columns</p>\n",
       "</div>"
      ],
      "text/plain": [
       "   release_date                                        movie  \\\n",
       "id                                                             \n",
       "1    2009-12-18                                       Avatar   \n",
       "2    2011-05-20  Pirates of the Caribbean: On Stranger Tides   \n",
       "3    2019-06-07                                 Dark Phoenix   \n",
       "4    2015-05-01                      Avengers: Age of Ultron   \n",
       "5    2017-12-15            Star Wars Ep. VIII: The Last Jedi   \n",
       "..          ...                                          ...   \n",
       "77   2004-12-31                              The Mongol King   \n",
       "78   2018-12-31                                       Red 11   \n",
       "80   2005-07-13                Return to the Land of Wonders   \n",
       "81   2015-09-29                         A Plague So Pleasant   \n",
       "82   2005-08-05                            My Date With Drew   \n",
       "\n",
       "    production_budget  domestic_gross  worldwide_gross  \n",
       "id                                                      \n",
       "1           425000000       760507625       2776345279  \n",
       "2           410600000       241063875       1045663875  \n",
       "3           350000000        42762350        149762350  \n",
       "4           330600000       459005868       1403013963  \n",
       "5           317000000       620181382       1316721747  \n",
       "..                ...             ...              ...  \n",
       "77               7000             900              900  \n",
       "78               7000               0                0  \n",
       "80               5000            1338             1338  \n",
       "81               1400               0                0  \n",
       "82               1100          181041           181041  \n",
       "\n",
       "[4387 rows x 5 columns]"
      ]
     },
     "execution_count": 134,
     "metadata": {},
     "output_type": "execute_result"
    }
   ],
   "source": [
    "#df_budgets[['production_budget', 'domestic_gross', 'wordlwide_gross']] = df_budgets[['production_budget', 'domestic_gross', 'worldwide_gross']].apply(lambda x: x.replace('$', '').replace(',', ''))\n",
    "#Remove all symbols and convert to int\n",
    "df_budgets['production_budget'] = df_budgets['production_budget'].map(lambda x: int(x.replace('$', '').replace(',', '')))\n",
    "df_budgets['domestic_gross'] = df_budgets['domestic_gross'].map(lambda x: int(x.replace('$', '').replace(',', '')))\n",
    "df_budgets['worldwide_gross'] = df_budgets['worldwide_gross'].map(lambda x: int(x.replace('$', '').replace(',', '')))\n",
    "#convert to datetime, remove everything before 2000s\n",
    "df_budgets['release_date'] = pd.to_datetime(df_budgets['release_date']).dt.date\n",
    "df_budgets = df_budgets[df_budgets['release_date'] > pd.to_datetime('1999-12-31')]\n",
    "df_budgets"
   ]
  },
  {
   "cell_type": "markdown",
   "metadata": {},
   "source": [
    "What we can do with this dataset is create a value that measures how much the movie made compared to its production budget to get a simplified value of return."
   ]
  },
  {
   "cell_type": "code",
   "execution_count": 135,
   "metadata": {},
   "outputs": [
    {
     "data": {
      "application/vnd.microsoft.datawrangler.viewer.v0+json": {
       "columns": [
        {
         "name": "id",
         "rawType": "int64",
         "type": "integer"
        },
        {
         "name": "release_date",
         "rawType": "object",
         "type": "string"
        },
        {
         "name": "movie",
         "rawType": "object",
         "type": "string"
        },
        {
         "name": "production_budget",
         "rawType": "int64",
         "type": "integer"
        },
        {
         "name": "domestic_gross",
         "rawType": "int64",
         "type": "integer"
        },
        {
         "name": "worldwide_gross",
         "rawType": "int64",
         "type": "integer"
        },
        {
         "name": "return_ratio",
         "rawType": "float64",
         "type": "float"
        }
       ],
       "conversionMethod": "pd.DataFrame",
       "ref": "cc2be009-bc8a-47b4-b49d-b7447d35d9b1",
       "rows": [
        [
         "93",
         "2009-09-25",
         "Paranormal Activity",
         "450000",
         "107918810",
         "194183034",
         "430.52"
        ],
        [
         "80",
         "2015-07-10",
         "The Gallows",
         "100000",
         "22764410",
         "41656474",
         "415.56"
        ],
        [
         "10",
         "2004-05-07",
         "Super Size Me",
         "65000",
         "11529368",
         "22233808",
         "341.06"
        ],
        [
         "82",
         "2005-08-05",
         "My Date With Drew",
         "1100",
         "181041",
         "181041",
         "163.58"
        ],
        [
         "57",
         "2007-05-16",
         "Once",
         "150000",
         "9445857",
         "23323631",
         "154.49"
        ],
        [
         "75",
         "2004-10-08",
         "Primer",
         "7000",
         "424760",
         "841926",
         "119.28"
        ],
        [
         "8",
         "2004-06-11",
         "Napoleon Dynamite",
         "400000",
         "44540956",
         "46122713",
         "114.31"
        ],
        [
         "31",
         "2004-08-06",
         "Open Water",
         "500000",
         "30500882",
         "55518641",
         "110.04"
        ],
        [
         "81",
         "2006-09-29",
         "Facing the Giants",
         "100000",
         "10178331",
         "10243159",
         "101.43"
        ],
        [
         "12",
         "2012-01-06",
         "The Devil Inside",
         "1000000",
         "53262945",
         "101759490",
         "100.76"
        ],
        [
         "60",
         "2009-04-23",
         "Home",
         "500000",
         "15433",
         "44793168",
         "88.59"
        ],
        [
         "57",
         "2004-10-29",
         "Saw",
         "1200000",
         "55968727",
         "103880027",
         "85.57"
        ],
        [
         "48",
         "2002-04-19",
         "My Big Fat Greek Wedding",
         "5000000",
         "241438208",
         "374890034",
         "73.98"
        ],
        [
         "66",
         "2001-03-09",
         "Dayereh",
         "10000",
         "673780",
         "673780",
         "66.38"
        ],
        [
         "29",
         "2008-09-26",
         "Fireproof",
         "500000",
         "33456317",
         "33473297",
         "65.95"
        ],
        [
         "63",
         "2011-04-01",
         "Insidious",
         "1500000",
         "54009150",
         "99870886",
         "65.58"
        ],
        [
         "14",
         "2015-04-17",
         "Unfriended",
         "1000000",
         "32789645",
         "64364198",
         "63.36"
        ],
        [
         "65",
         "2010-10-20",
         "Paranormal Activity 2",
         "3000000",
         "84752907",
         "177512032",
         "58.17"
        ],
        [
         "50",
         "2017-01-20",
         "Split",
         "5000000",
         "138141585",
         "278964806",
         "54.79"
        ],
        [
         "90",
         "2014-03-21",
         "Godâs Not Dead",
         "1150000",
         "60755732",
         "63777092",
         "54.46"
        ],
        [
         "16",
         "2006-05-24",
         "An Inconvenient Truth",
         "1000000",
         "24146161",
         "53365925",
         "52.37"
        ],
        [
         "49",
         "2017-02-24",
         "Get Out",
         "5000000",
         "176040665",
         "255367951",
         "50.07"
        ],
        [
         "17",
         "2001-03-16",
         "Gabriela",
         "50000",
         "2335352",
         "2335352",
         "45.71"
        ],
        [
         "18",
         "2012-05-25",
         "Les Intouchables",
         "10800000",
         "13182281",
         "484873045",
         "43.9"
        ],
        [
         "64",
         "2016-10-21",
         "Moonlight",
         "1500000",
         "27854931",
         "65245512",
         "42.5"
        ],
        [
         "18",
         "2012-05-25",
         "Chernobyl Diaries",
         "1000000",
         "18119640",
         "42411721",
         "41.41"
        ],
        [
         "51",
         "2011-10-21",
         "Paranormal Activity 3",
         "5000000",
         "104028807",
         "207039844",
         "40.41"
        ],
        [
         "99",
         "2007-02-09",
         "Das Leben der Anderen",
         "2000000",
         "11284657",
         "81197047",
         "39.6"
        ],
        [
         "84",
         "2014-10-03",
         "Annabelle",
         "6500000",
         "84273813",
         "256862920",
         "38.52"
        ],
        [
         "35",
         "2005-06-24",
         "La marche de l'empereur",
         "3400000",
         "77437223",
         "133276359",
         "38.2"
        ],
        [
         "15",
         "2010-08-27",
         "The Last Exorcism",
         "1800000",
         "41034350",
         "70165900",
         "37.98"
        ],
        [
         "15",
         "2004-06-23",
         "Fahrenheit 9/11",
         "6000000",
         "119114517",
         "221148959",
         "35.86"
        ],
        [
         "86",
         "2007-12-05",
         "Juno",
         "7000000",
         "143495265",
         "231450102",
         "32.06"
        ],
        [
         "53",
         "2013-09-13",
         "Insidious Chapter 2",
         "5000000",
         "83586447",
         "161921515",
         "31.38"
        ],
        [
         "56",
         "2016-12-21",
         "Dangal",
         "9500000",
         "12391761",
         "294654618",
         "30.02"
        ],
        [
         "52",
         "2005-10-28",
         "Saw II",
         "5000000",
         "87025093",
         "152925093",
         "29.59"
        ],
        [
         "59",
         "2011-12-30",
         "Jodaeiye Nader az Simin",
         "800000",
         "7098492",
         "24426169",
         "29.53"
        ],
        [
         "67",
         "2013-06-07",
         "The Purge",
         "3000000",
         "64473115",
         "91266581",
         "29.42"
        ],
        [
         "55",
         "2016-07-22",
         "Lights Out",
         "5000000",
         "67268835",
         "148806510",
         "28.76"
        ],
        [
         "79",
         "2003-09-12",
         "Lost in Translation",
         "4000000",
         "44585453",
         "117085297",
         "28.27"
        ],
        [
         "69",
         "2012-10-12",
         "Sinister",
         "3000000",
         "48086903",
         "87727807",
         "28.24"
        ],
        [
         "97",
         "2010-11-26",
         "The Kingâs Speech",
         "15000000",
         "138797449",
         "430821168",
         "27.72"
        ],
        [
         "59",
         "2012-10-19",
         "Paranormal Activity 4",
         "5000000",
         "53900335",
         "142817992",
         "27.56"
        ],
        [
         "86",
         "2017-07-07",
         "A Ghost Story",
         "100000",
         "1594798",
         "2769782",
         "26.7"
        ],
        [
         "74",
         "2008-11-12",
         "Slumdog Millionaire",
         "14000000",
         "141330703",
         "384530440",
         "26.47"
        ],
        [
         "91",
         "2018-04-13",
         "Truth or Dare",
         "3500000",
         "41411015",
         "95127344",
         "26.18"
        ],
        [
         "17",
         "2013-08-23",
         "You're Next",
         "1000000",
         "18494006",
         "26887177",
         "25.89"
        ],
        [
         "94",
         "2005-12-25",
         "Wolf Creek",
         "1100000",
         "16186348",
         "29005064",
         "25.37"
        ],
        [
         "41",
         "2003-11-14",
         "Tupac Resurrection",
         "300000",
         "7718961",
         "7808524",
         "25.03"
        ],
        [
         "73",
         "2012-06-15",
         "Your Sister's Sister",
         "120000",
         "1597486",
         "3090593",
         "24.75"
        ]
       ],
       "shape": {
        "columns": 6,
        "rows": 4387
       }
      },
      "text/html": [
       "<div>\n",
       "<style scoped>\n",
       "    .dataframe tbody tr th:only-of-type {\n",
       "        vertical-align: middle;\n",
       "    }\n",
       "\n",
       "    .dataframe tbody tr th {\n",
       "        vertical-align: top;\n",
       "    }\n",
       "\n",
       "    .dataframe thead th {\n",
       "        text-align: right;\n",
       "    }\n",
       "</style>\n",
       "<table border=\"1\" class=\"dataframe\">\n",
       "  <thead>\n",
       "    <tr style=\"text-align: right;\">\n",
       "      <th></th>\n",
       "      <th>release_date</th>\n",
       "      <th>movie</th>\n",
       "      <th>production_budget</th>\n",
       "      <th>domestic_gross</th>\n",
       "      <th>worldwide_gross</th>\n",
       "      <th>return_ratio</th>\n",
       "    </tr>\n",
       "    <tr>\n",
       "      <th>id</th>\n",
       "      <th></th>\n",
       "      <th></th>\n",
       "      <th></th>\n",
       "      <th></th>\n",
       "      <th></th>\n",
       "      <th></th>\n",
       "    </tr>\n",
       "  </thead>\n",
       "  <tbody>\n",
       "    <tr>\n",
       "      <th>93</th>\n",
       "      <td>2009-09-25</td>\n",
       "      <td>Paranormal Activity</td>\n",
       "      <td>450000</td>\n",
       "      <td>107918810</td>\n",
       "      <td>194183034</td>\n",
       "      <td>430.52</td>\n",
       "    </tr>\n",
       "    <tr>\n",
       "      <th>80</th>\n",
       "      <td>2015-07-10</td>\n",
       "      <td>The Gallows</td>\n",
       "      <td>100000</td>\n",
       "      <td>22764410</td>\n",
       "      <td>41656474</td>\n",
       "      <td>415.56</td>\n",
       "    </tr>\n",
       "    <tr>\n",
       "      <th>10</th>\n",
       "      <td>2004-05-07</td>\n",
       "      <td>Super Size Me</td>\n",
       "      <td>65000</td>\n",
       "      <td>11529368</td>\n",
       "      <td>22233808</td>\n",
       "      <td>341.06</td>\n",
       "    </tr>\n",
       "    <tr>\n",
       "      <th>82</th>\n",
       "      <td>2005-08-05</td>\n",
       "      <td>My Date With Drew</td>\n",
       "      <td>1100</td>\n",
       "      <td>181041</td>\n",
       "      <td>181041</td>\n",
       "      <td>163.58</td>\n",
       "    </tr>\n",
       "    <tr>\n",
       "      <th>57</th>\n",
       "      <td>2007-05-16</td>\n",
       "      <td>Once</td>\n",
       "      <td>150000</td>\n",
       "      <td>9445857</td>\n",
       "      <td>23323631</td>\n",
       "      <td>154.49</td>\n",
       "    </tr>\n",
       "    <tr>\n",
       "      <th>...</th>\n",
       "      <td>...</td>\n",
       "      <td>...</td>\n",
       "      <td>...</td>\n",
       "      <td>...</td>\n",
       "      <td>...</td>\n",
       "      <td>...</td>\n",
       "    </tr>\n",
       "    <tr>\n",
       "      <th>4</th>\n",
       "      <td>2011-12-31</td>\n",
       "      <td>Tracker</td>\n",
       "      <td>6500000</td>\n",
       "      <td>0</td>\n",
       "      <td>3149</td>\n",
       "      <td>-1.00</td>\n",
       "    </tr>\n",
       "    <tr>\n",
       "      <th>81</th>\n",
       "      <td>2016-10-16</td>\n",
       "      <td>Mi America</td>\n",
       "      <td>2100000</td>\n",
       "      <td>3330</td>\n",
       "      <td>3330</td>\n",
       "      <td>-1.00</td>\n",
       "    </tr>\n",
       "    <tr>\n",
       "      <th>83</th>\n",
       "      <td>2012-12-31</td>\n",
       "      <td>Infected</td>\n",
       "      <td>2100000</td>\n",
       "      <td>0</td>\n",
       "      <td>0</td>\n",
       "      <td>-1.00</td>\n",
       "    </tr>\n",
       "    <tr>\n",
       "      <th>52</th>\n",
       "      <td>2015-12-11</td>\n",
       "      <td>The Ridiculous 6</td>\n",
       "      <td>60000000</td>\n",
       "      <td>0</td>\n",
       "      <td>0</td>\n",
       "      <td>-1.00</td>\n",
       "    </tr>\n",
       "    <tr>\n",
       "      <th>14</th>\n",
       "      <td>2015-02-13</td>\n",
       "      <td>Girlhouse</td>\n",
       "      <td>1500000</td>\n",
       "      <td>0</td>\n",
       "      <td>0</td>\n",
       "      <td>-1.00</td>\n",
       "    </tr>\n",
       "  </tbody>\n",
       "</table>\n",
       "<p>4387 rows × 6 columns</p>\n",
       "</div>"
      ],
      "text/plain": [
       "   release_date                movie  production_budget  domestic_gross  \\\n",
       "id                                                                        \n",
       "93   2009-09-25  Paranormal Activity             450000       107918810   \n",
       "80   2015-07-10          The Gallows             100000        22764410   \n",
       "10   2004-05-07        Super Size Me              65000        11529368   \n",
       "82   2005-08-05    My Date With Drew               1100          181041   \n",
       "57   2007-05-16                 Once             150000         9445857   \n",
       "..          ...                  ...                ...             ...   \n",
       "4    2011-12-31              Tracker            6500000               0   \n",
       "81   2016-10-16           Mi America            2100000            3330   \n",
       "83   2012-12-31             Infected            2100000               0   \n",
       "52   2015-12-11     The Ridiculous 6           60000000               0   \n",
       "14   2015-02-13            Girlhouse            1500000               0   \n",
       "\n",
       "    worldwide_gross  return_ratio  \n",
       "id                                 \n",
       "93        194183034        430.52  \n",
       "80         41656474        415.56  \n",
       "10         22233808        341.06  \n",
       "82           181041        163.58  \n",
       "57         23323631        154.49  \n",
       "..              ...           ...  \n",
       "4              3149         -1.00  \n",
       "81             3330         -1.00  \n",
       "83                0         -1.00  \n",
       "52                0         -1.00  \n",
       "14                0         -1.00  \n",
       "\n",
       "[4387 rows x 6 columns]"
      ]
     },
     "execution_count": 135,
     "metadata": {},
     "output_type": "execute_result"
    }
   ],
   "source": [
    "df_budgets['return_ratio'] = ((df_budgets['worldwide_gross'] - df_budgets['production_budget']) / df_budgets['production_budget'] ).round(2)\n",
    "df_budgets.sort_values('return_ratio', ascending=False)"
   ]
  },
  {
   "cell_type": "markdown",
   "metadata": {},
   "source": [
    "This dataset has an interesting column genre_ids, which holds arrays of numbers. These numbers presumably can be associated with a dict of some sort that holds what genre it is from the number. It also has a popularity number which isn't obvious what it is, the vote_average, which is presumably out of 10, and the vote count. We will drop the genre_ids since there doesn't seem to be another table that links it to the actual genres."
   ]
  },
  {
   "cell_type": "code",
   "execution_count": 136,
   "metadata": {},
   "outputs": [
    {
     "name": "stderr",
     "output_type": "stream",
     "text": [
      "c:\\Users\\Eddie\\anaconda3\\envs\\learn-env\\lib\\site-packages\\pandas\\core\\ops\\array_ops.py:73: FutureWarning: Comparison of Timestamp with datetime.date is deprecated in order to match the standard library behavior. In a future version these will be considered non-comparable. Use 'ts == pd.Timestamp(date)' or 'ts.date() == date' instead.\n",
      "  result = libops.scalar_compare(x.ravel(), y, op)\n"
     ]
    },
    {
     "data": {
      "application/vnd.microsoft.datawrangler.viewer.v0+json": {
       "columns": [
        {
         "name": "id",
         "rawType": "int64",
         "type": "integer"
        },
        {
         "name": "original_language",
         "rawType": "object",
         "type": "string"
        },
        {
         "name": "original_title",
         "rawType": "object",
         "type": "string"
        },
        {
         "name": "popularity",
         "rawType": "float64",
         "type": "float"
        },
        {
         "name": "release_date",
         "rawType": "object",
         "type": "string"
        },
        {
         "name": "title",
         "rawType": "object",
         "type": "string"
        },
        {
         "name": "vote_average",
         "rawType": "float64",
         "type": "float"
        },
        {
         "name": "vote_count",
         "rawType": "int64",
         "type": "integer"
        }
       ],
       "conversionMethod": "pd.DataFrame",
       "ref": "0add690d-daa7-4906-97b7-56788e995477",
       "rows": [
        [
         "12444",
         "en",
         "Harry Potter and the Deathly Hallows: Part 1",
         "33.533",
         "2010-11-19",
         "Harry Potter and the Deathly Hallows: Part 1",
         "7.7",
         "10788"
        ],
        [
         "10191",
         "en",
         "How to Train Your Dragon",
         "28.734",
         "2010-03-26",
         "How to Train Your Dragon",
         "7.7",
         "7610"
        ],
        [
         "10138",
         "en",
         "Iron Man 2",
         "28.515",
         "2010-05-07",
         "Iron Man 2",
         "6.8",
         "12368"
        ],
        [
         "27205",
         "en",
         "Inception",
         "27.92",
         "2010-07-16",
         "Inception",
         "8.3",
         "22186"
        ],
        [
         "32657",
         "en",
         "Percy Jackson & the Olympians: The Lightning Thief",
         "26.691",
         "2010-02-11",
         "Percy Jackson & the Olympians: The Lightning Thief",
         "6.1",
         "4229"
        ],
        [
         "19995",
         "en",
         "Avatar",
         "26.526",
         "2009-12-18",
         "Avatar",
         "7.4",
         "18676"
        ],
        [
         "10193",
         "en",
         "Toy Story 3",
         "24.445",
         "2010-06-17",
         "Toy Story 3",
         "7.7",
         "8340"
        ],
        [
         "20352",
         "en",
         "Despicable Me",
         "23.673",
         "2010-07-09",
         "Despicable Me",
         "7.2",
         "10057"
        ],
        [
         "38055",
         "en",
         "Megamind",
         "22.855",
         "2010-11-04",
         "Megamind",
         "6.8",
         "3635"
        ],
        [
         "12155",
         "en",
         "Alice in Wonderland",
         "22.02",
         "2010-03-05",
         "Alice in Wonderland",
         "6.6",
         "8713"
        ],
        [
         "27578",
         "en",
         "The Expendables",
         "21.517",
         "2010-08-03",
         "The Expendables",
         "6.1",
         "4647"
        ],
        [
         "38757",
         "en",
         "Tangled",
         "21.511",
         "2010-11-24",
         "Tangled",
         "7.5",
         "6407"
        ],
        [
         "41439",
         "en",
         "Saw 3D",
         "20.37",
         "2010-10-28",
         "Saw: The Final Chapter",
         "6.0",
         "1488"
        ],
        [
         "24021",
         "en",
         "The Twilight Saga: Eclipse",
         "20.34",
         "2010-06-23",
         "The Twilight Saga: Eclipse",
         "6.0",
         "4909"
        ],
        [
         "20504",
         "en",
         "The Book of Eli",
         "18.985",
         "2010-01-11",
         "The Book of Eli",
         "6.7",
         "3495"
        ],
        [
         "52371",
         "nl",
         "LelleBelle",
         "18.586",
         "2010-10-09",
         "LelleBelle",
         "4.5",
         "36"
        ],
        [
         "2502",
         "en",
         "The Bourne Supremacy",
         "18.199",
         "2004-07-23",
         "The Bourne Supremacy",
         "7.3",
         "4367"
        ],
        [
         "11324",
         "en",
         "Shutter Island",
         "18.06",
         "2010-02-18",
         "Shutter Island",
         "8.1",
         "12625"
        ],
        [
         "2501",
         "en",
         "The Bourne Identity",
         "17.935",
         "2002-06-14",
         "The Bourne Identity",
         "7.4",
         "5406"
        ],
        [
         "37834",
         "en",
         "Knight and Day",
         "17.713",
         "2010-06-23",
         "Knight and Day",
         "6.0",
         "2494"
        ],
        [
         "10140",
         "en",
         "The Chronicles of Narnia: The Voyage of the Dawn Treader",
         "17.382",
         "2010-12-10",
         "The Chronicles of Narnia: The Voyage of the Dawn Treader",
         "6.3",
         "3196"
        ],
        [
         "41233",
         "en",
         "Step Up 3D",
         "17.174",
         "2010-08-06",
         "Step Up 3D",
         "6.7",
         "1160"
        ],
        [
         "34544",
         "en",
         "The A-Team",
         "17.097",
         "2010-06-11",
         "The A-Team",
         "6.3",
         "2703"
        ],
        [
         "45269",
         "en",
         "The King's Speech",
         "16.798",
         "2010-09-06",
         "The King's Speech",
         "7.7",
         "5013"
        ],
        [
         "10196",
         "en",
         "The Last Airbender",
         "16.595",
         "2010-07-01",
         "The Last Airbender",
         "4.6",
         "2143"
        ],
        [
         "34851",
         "en",
         "Predators",
         "16.216",
         "2010-07-03",
         "Predators",
         "6.1",
         "1979"
        ],
        [
         "37799",
         "en",
         "The Social Network",
         "15.889",
         "2010-10-01",
         "The Social Network",
         "7.2",
         "6116"
        ],
        [
         "38234",
         "en",
         "Undisputed III: Redemption",
         "15.886",
         "2010-05-22",
         "Undisputed III: Redemption",
         "7.4",
         "302"
        ],
        [
         "2503",
         "en",
         "The Bourne Ultimatum",
         "15.62",
         "2007-08-03",
         "The Bourne Ultimatum",
         "7.4",
         "4440"
        ],
        [
         "18823",
         "en",
         "Clash of the Titans",
         "15.574",
         "2010-04-02",
         "Clash of the Titans",
         "5.7",
         "3714"
        ],
        [
         "34806",
         "en",
         "The Back-Up Plan",
         "15.49",
         "2010-04-23",
         "The Back-Up Plan",
         "6.0",
         "806"
        ],
        [
         "20662",
         "en",
         "Robin Hood",
         "15.444",
         "2010-05-14",
         "Robin Hood",
         "6.3",
         "2569"
        ],
        [
         "35019",
         "en",
         "Nanny McPhee and the Big Bang",
         "15.213",
         "2010-08-20",
         "Nanny McPhee and the Big Bang",
         "6.1",
         "953"
        ],
        [
         "10192",
         "en",
         "Shrek Forever After",
         "15.041",
         "2010-05-16",
         "Shrek Forever After",
         "6.1",
         "3843"
        ],
        [
         "37735",
         "en",
         "Easy A",
         "14.69",
         "2010-09-17",
         "Easy A",
         "6.8",
         "4168"
        ],
        [
         "27022",
         "en",
         "The Sorcerer's Apprentice",
         "14.463",
         "2010-07-13",
         "The Sorcerer's Apprentice",
         "5.9",
         "2879"
        ],
        [
         "22538",
         "en",
         "Scott Pilgrim vs. the World",
         "14.383",
         "2010-08-13",
         "Scott Pilgrim vs. the World",
         "7.3",
         "3882"
        ],
        [
         "38365",
         "en",
         "Grown Ups",
         "14.291",
         "2010-06-24",
         "Grown Ups",
         "6.1",
         "3171"
        ],
        [
         "41283",
         "en",
         "Faster",
         "14.172",
         "2010-11-23",
         "Faster",
         "6.2",
         "895"
        ],
        [
         "7978",
         "en",
         "The Wolfman",
         "14.03",
         "2010-02-12",
         "The Wolfman",
         "5.7",
         "1009"
        ],
        [
         "44048",
         "en",
         "Unstoppable",
         "14.01",
         "2010-11-12",
         "Unstoppable",
         "6.4",
         "1913"
        ],
        [
         "44214",
         "en",
         "Black Swan",
         "13.745",
         "2010-12-03",
         "Black Swan",
         "7.6",
         "8374"
        ],
        [
         "44683",
         "en",
         "Tinker Bell and the Great Fairy Rescue",
         "13.724",
         "2010-09-21",
         "Tinker Bell and the Great Fairy Rescue",
         "6.5",
         "451"
        ],
        [
         "61979",
         "es",
         "Tres metros sobre el cielo",
         "13.721",
         "2010-12-20",
         "Three Steps Above Heaven",
         "7.5",
         "960"
        ],
        [
         "23759",
         "en",
         "Centurion",
         "13.548",
         "2010-02-15",
         "Centurion",
         "6.1",
         "673"
        ],
        [
         "27581",
         "en",
         "The Other Guys",
         "13.508",
         "2010-08-06",
         "The Other Guys",
         "6.2",
         "2187"
        ],
        [
         "23168",
         "en",
         "The Town",
         "13.476",
         "2010-09-17",
         "The Town",
         "7.1",
         "2386"
        ],
        [
         "20533",
         "en",
         "Jonah Hex",
         "13.467",
         "2010-06-18",
         "Jonah Hex",
         "4.6",
         "708"
        ],
        [
         "20526",
         "en",
         "TRON: Legacy",
         "13.459",
         "2010-12-10",
         "TRON: Legacy",
         "6.3",
         "4387"
        ],
        [
         "9543",
         "en",
         "Prince of Persia: The Sands of Time",
         "13.44",
         "2010-05-27",
         "Prince of Persia: The Sands of Time",
         "6.2",
         "4040"
        ]
       ],
       "shape": {
        "columns": 7,
        "rows": 26398
       }
      },
      "text/html": [
       "<div>\n",
       "<style scoped>\n",
       "    .dataframe tbody tr th:only-of-type {\n",
       "        vertical-align: middle;\n",
       "    }\n",
       "\n",
       "    .dataframe tbody tr th {\n",
       "        vertical-align: top;\n",
       "    }\n",
       "\n",
       "    .dataframe thead th {\n",
       "        text-align: right;\n",
       "    }\n",
       "</style>\n",
       "<table border=\"1\" class=\"dataframe\">\n",
       "  <thead>\n",
       "    <tr style=\"text-align: right;\">\n",
       "      <th></th>\n",
       "      <th>original_language</th>\n",
       "      <th>original_title</th>\n",
       "      <th>popularity</th>\n",
       "      <th>release_date</th>\n",
       "      <th>title</th>\n",
       "      <th>vote_average</th>\n",
       "      <th>vote_count</th>\n",
       "    </tr>\n",
       "    <tr>\n",
       "      <th>id</th>\n",
       "      <th></th>\n",
       "      <th></th>\n",
       "      <th></th>\n",
       "      <th></th>\n",
       "      <th></th>\n",
       "      <th></th>\n",
       "      <th></th>\n",
       "    </tr>\n",
       "  </thead>\n",
       "  <tbody>\n",
       "    <tr>\n",
       "      <th>12444</th>\n",
       "      <td>en</td>\n",
       "      <td>Harry Potter and the Deathly Hallows: Part 1</td>\n",
       "      <td>33.533</td>\n",
       "      <td>2010-11-19</td>\n",
       "      <td>Harry Potter and the Deathly Hallows: Part 1</td>\n",
       "      <td>7.7</td>\n",
       "      <td>10788</td>\n",
       "    </tr>\n",
       "    <tr>\n",
       "      <th>10191</th>\n",
       "      <td>en</td>\n",
       "      <td>How to Train Your Dragon</td>\n",
       "      <td>28.734</td>\n",
       "      <td>2010-03-26</td>\n",
       "      <td>How to Train Your Dragon</td>\n",
       "      <td>7.7</td>\n",
       "      <td>7610</td>\n",
       "    </tr>\n",
       "    <tr>\n",
       "      <th>10138</th>\n",
       "      <td>en</td>\n",
       "      <td>Iron Man 2</td>\n",
       "      <td>28.515</td>\n",
       "      <td>2010-05-07</td>\n",
       "      <td>Iron Man 2</td>\n",
       "      <td>6.8</td>\n",
       "      <td>12368</td>\n",
       "    </tr>\n",
       "    <tr>\n",
       "      <th>27205</th>\n",
       "      <td>en</td>\n",
       "      <td>Inception</td>\n",
       "      <td>27.920</td>\n",
       "      <td>2010-07-16</td>\n",
       "      <td>Inception</td>\n",
       "      <td>8.3</td>\n",
       "      <td>22186</td>\n",
       "    </tr>\n",
       "    <tr>\n",
       "      <th>32657</th>\n",
       "      <td>en</td>\n",
       "      <td>Percy Jackson &amp; the Olympians: The Lightning T...</td>\n",
       "      <td>26.691</td>\n",
       "      <td>2010-02-11</td>\n",
       "      <td>Percy Jackson &amp; the Olympians: The Lightning T...</td>\n",
       "      <td>6.1</td>\n",
       "      <td>4229</td>\n",
       "    </tr>\n",
       "    <tr>\n",
       "      <th>...</th>\n",
       "      <td>...</td>\n",
       "      <td>...</td>\n",
       "      <td>...</td>\n",
       "      <td>...</td>\n",
       "      <td>...</td>\n",
       "      <td>...</td>\n",
       "      <td>...</td>\n",
       "    </tr>\n",
       "    <tr>\n",
       "      <th>488143</th>\n",
       "      <td>en</td>\n",
       "      <td>Laboratory Conditions</td>\n",
       "      <td>0.600</td>\n",
       "      <td>2018-10-13</td>\n",
       "      <td>Laboratory Conditions</td>\n",
       "      <td>0.0</td>\n",
       "      <td>1</td>\n",
       "    </tr>\n",
       "    <tr>\n",
       "      <th>485975</th>\n",
       "      <td>en</td>\n",
       "      <td>_EXHIBIT_84xxx_</td>\n",
       "      <td>0.600</td>\n",
       "      <td>2018-05-01</td>\n",
       "      <td>_EXHIBIT_84xxx_</td>\n",
       "      <td>0.0</td>\n",
       "      <td>1</td>\n",
       "    </tr>\n",
       "    <tr>\n",
       "      <th>381231</th>\n",
       "      <td>en</td>\n",
       "      <td>The Last One</td>\n",
       "      <td>0.600</td>\n",
       "      <td>2018-10-01</td>\n",
       "      <td>The Last One</td>\n",
       "      <td>0.0</td>\n",
       "      <td>1</td>\n",
       "    </tr>\n",
       "    <tr>\n",
       "      <th>366854</th>\n",
       "      <td>en</td>\n",
       "      <td>Trailer Made</td>\n",
       "      <td>0.600</td>\n",
       "      <td>2018-06-22</td>\n",
       "      <td>Trailer Made</td>\n",
       "      <td>0.0</td>\n",
       "      <td>1</td>\n",
       "    </tr>\n",
       "    <tr>\n",
       "      <th>309885</th>\n",
       "      <td>en</td>\n",
       "      <td>The Church</td>\n",
       "      <td>0.600</td>\n",
       "      <td>2018-10-05</td>\n",
       "      <td>The Church</td>\n",
       "      <td>0.0</td>\n",
       "      <td>1</td>\n",
       "    </tr>\n",
       "  </tbody>\n",
       "</table>\n",
       "<p>26398 rows × 7 columns</p>\n",
       "</div>"
      ],
      "text/plain": [
       "       original_language                                     original_title  \\\n",
       "id                                                                            \n",
       "12444                 en       Harry Potter and the Deathly Hallows: Part 1   \n",
       "10191                 en                           How to Train Your Dragon   \n",
       "10138                 en                                         Iron Man 2   \n",
       "27205                 en                                          Inception   \n",
       "32657                 en  Percy Jackson & the Olympians: The Lightning T...   \n",
       "...                  ...                                                ...   \n",
       "488143                en                              Laboratory Conditions   \n",
       "485975                en                                    _EXHIBIT_84xxx_   \n",
       "381231                en                                       The Last One   \n",
       "366854                en                                       Trailer Made   \n",
       "309885                en                                         The Church   \n",
       "\n",
       "        popularity release_date  \\\n",
       "id                                \n",
       "12444       33.533   2010-11-19   \n",
       "10191       28.734   2010-03-26   \n",
       "10138       28.515   2010-05-07   \n",
       "27205       27.920   2010-07-16   \n",
       "32657       26.691   2010-02-11   \n",
       "...            ...          ...   \n",
       "488143       0.600   2018-10-13   \n",
       "485975       0.600   2018-05-01   \n",
       "381231       0.600   2018-10-01   \n",
       "366854       0.600   2018-06-22   \n",
       "309885       0.600   2018-10-05   \n",
       "\n",
       "                                                    title  vote_average  \\\n",
       "id                                                                        \n",
       "12444        Harry Potter and the Deathly Hallows: Part 1           7.7   \n",
       "10191                            How to Train Your Dragon           7.7   \n",
       "10138                                          Iron Man 2           6.8   \n",
       "27205                                           Inception           8.3   \n",
       "32657   Percy Jackson & the Olympians: The Lightning T...           6.1   \n",
       "...                                                   ...           ...   \n",
       "488143                              Laboratory Conditions           0.0   \n",
       "485975                                    _EXHIBIT_84xxx_           0.0   \n",
       "381231                                       The Last One           0.0   \n",
       "366854                                       Trailer Made           0.0   \n",
       "309885                                         The Church           0.0   \n",
       "\n",
       "        vote_count  \n",
       "id                  \n",
       "12444        10788  \n",
       "10191         7610  \n",
       "10138        12368  \n",
       "27205        22186  \n",
       "32657         4229  \n",
       "...            ...  \n",
       "488143           1  \n",
       "485975           1  \n",
       "381231           1  \n",
       "366854           1  \n",
       "309885           1  \n",
       "\n",
       "[26398 rows x 7 columns]"
      ]
     },
     "execution_count": 136,
     "metadata": {},
     "output_type": "execute_result"
    }
   ],
   "source": [
    "df_movies.drop(columns='genre_ids', inplace=True)\n",
    "df_movies.set_index('id', inplace=True)\n",
    "\n",
    "df_movies['release_date'] = pd.to_datetime(df_movies['release_date']).dt.date\n",
    "df_movies = df_movies[df_movies['release_date'] > pd.to_datetime('1999-12-31')]\n",
    "df_movies"
   ]
  },
  {
   "cell_type": "markdown",
   "metadata": {},
   "source": [
    "This dataset holds a large amount of reviews with the text, and the score associated with it. This one seems to have many missing rating numbers, some not even being numbers. The fresh section shows this came from rotten tomatoes."
   ]
  },
  {
   "cell_type": "code",
   "execution_count": 137,
   "metadata": {},
   "outputs": [
    {
     "data": {
      "application/vnd.microsoft.datawrangler.viewer.v0+json": {
       "columns": [
        {
         "name": "id",
         "rawType": "int64",
         "type": "integer"
        },
        {
         "name": "review",
         "rawType": "object",
         "type": "string"
        },
        {
         "name": "rating",
         "rawType": "object",
         "type": "string"
        },
        {
         "name": "fresh",
         "rawType": "object",
         "type": "string"
        },
        {
         "name": "critic",
         "rawType": "object",
         "type": "string"
        },
        {
         "name": "top_critic",
         "rawType": "int64",
         "type": "integer"
        },
        {
         "name": "publisher",
         "rawType": "object",
         "type": "string"
        },
        {
         "name": "date",
         "rawType": "object",
         "type": "string"
        }
       ],
       "conversionMethod": "pd.DataFrame",
       "ref": "a63ef4c7-2817-45c8-8e04-d645cb030110",
       "rows": [
        [
         "3",
         "A distinctly gallows take on contemporary financial mores, as one absurdly rich man's limo ride across town for a haircut functions as a state-of-the-nation discourse. ",
         "3/5",
         "fresh",
         "PJ Nabarro",
         "0",
         "Patrick Nabarro",
         "November 10, 2018"
        ],
        [
         "3",
         "It's an allegory in search of a meaning that never arrives...It's just old-fashioned bad storytelling.",
         null,
         "rotten",
         "Annalee Newitz",
         "0",
         "io9.com",
         "May 23, 2018"
        ],
        [
         "3",
         "... life lived in a bubble in financial dealings and digital communications and brief face-to-face conversations and sexual intermissions in a space shuttle of a limousine creeping through the gridlock of an anonymous New York City.",
         null,
         "fresh",
         "Sean Axmaker",
         "0",
         "Stream on Demand",
         "January 4, 2018"
        ],
        [
         "3",
         "Continuing along a line introduced in last year's \"A Dangerous Method\", David Cronenberg pushes his cinema towards a talky abstraction in his uncanny, perversely funny and frighteningly insular adaptation of Don DeLillo, \"Cosmopolis\".",
         null,
         "fresh",
         "Daniel Kasman",
         "0",
         "MUBI",
         "November 16, 2017"
        ],
        [
         "3",
         "... a perverse twist on neorealism... ",
         null,
         "fresh",
         null,
         "0",
         "Cinema Scope",
         "October 12, 2017"
        ],
        [
         "3",
         "... Cronenberg's Cosmopolis expresses something new and necessary about the book, which is to say about limits, the gaps in what can be known, both within and between us.",
         null,
         "fresh",
         "Michelle Orange",
         "0",
         "Capital New York",
         "September 11, 2017"
        ],
        [
         "3",
         "Quickly grows repetitive and tiresome, meandering toward messages that land softly, producing little impact.",
         "C",
         "rotten",
         "Eric D. Snider",
         "0",
         "EricDSnider.com",
         "July 17, 2013"
        ],
        [
         "3",
         "Cronenberg is not a director to be daunted by a scenario in which the antihero spends most of his time in a stretch limo. Turning it into a film that interests anyone ... is another matter",
         "2/5",
         "rotten",
         "Matt Kelemen",
         "0",
         "Las Vegas CityLife",
         "April 21, 2013"
        ],
        [
         "3",
         "Cronenberg's cold, exacting precision and emotionally removed observation may not grab all viewers, but under those perfect surfaces is a raw horror trying to claw out of the denial.",
         null,
         "fresh",
         "Sean Axmaker",
         "0",
         "Parallax View",
         "March 24, 2013"
        ],
        [
         "3",
         "Over and above its topical urgency or the bit about the misfortune of globalism, it does what this director has always done in his films: split open the head of a character, plunge inside and try to visualise the bad and the ugly things to be found there.",
         null,
         "fresh",
         "Kong Rithdee",
         "0",
         "Bangkok Post",
         "March 4, 2013"
        ],
        [
         "3",
         "Cosmopolis\" is a hypnotic examination of our modern anxieties about the dehumanization brought on by wealth, power, and technology.",
         null,
         "fresh",
         "Tim Grierson",
         "0",
         "Deadspin",
         "February 12, 2013"
        ],
        [
         "3",
         "While not one of Cronenberg's stronger films, this anti-capitalist adaptation still merits attention.",
         "B-",
         "fresh",
         "Emanuel Levy",
         "0",
         "EmanuelLevy.Com",
         "February 3, 2013"
        ],
        [
         "3",
         "Robert Pattinson works mighty hard to make Cosmopolis more than just an erudite slap at modern capitalism. The Twilight heartthrob ultimately fails to rescue a meandering story hitting stale versions of the same talking points.",
         "2/4",
         "rotten",
         "Christian Toto",
         "0",
         "Big Hollywood",
         "January 15, 2013"
        ],
        [
         "3",
         "The anger over the injustice of the financial collapse and bailout is what powered the Tea Party movement as well as the Occupy Wall Street movement, and it powers this movie, too.",
         "B",
         "fresh",
         "Robert Roten",
         "0",
         "Laramie Movie Scope",
         "January 7, 2013"
        ],
        [
         "3",
         "For those who like their Cronenberg thick and chewy",
         "3/4",
         "fresh",
         "Marty Mapes",
         "0",
         "Movie Habit",
         "October 20, 2012"
        ],
        [
         "3",
         "For better or worse - often both - Cosmopolis is a quintessential David Cronenberg film. Cosmopolis is simultaneously fascinating and impenetrable, profound and absurd, labyrinthine yet intimate.",
         "3/5",
         "fresh",
         "Adam Ross",
         "0",
         "The Aristocrat",
         "September 27, 2012"
        ],
        [
         "3",
         "For one of the smartest films I've seen in a while, Cosmopolis is also one of the least outwardly enjoyable. That by no means makes it anything less than a great film however.",
         "4/5",
         "fresh",
         "Patrick Kolan",
         "0",
         "Shotgun Cinema",
         "September 26, 2012"
        ],
        [
         "3",
         "Its major problem is that it's not cinematic.",
         "B",
         "fresh",
         "Dennis Schwartz",
         "0",
         "Ozus' World Movie Reviews",
         "September 25, 2012"
        ],
        [
         "3",
         "It's fascinating to watch Pattinson actually acting, rather than merely brooding through another \"Twilight\" movie, but he's as trapped in Cronenberg's sterile intellectualism as Packer is in his leather-upholstered hell.",
         "2/4",
         "rotten",
         "Sean P. Means",
         "0",
         "Salt Lake Tribune",
         "September 14, 2012"
        ],
        [
         "3",
         "A black comedy as dry and deadpan as a bleached skull. To this end, the movie opens with a sort of death's-head grin: an in-your-face closeup of the grille of a stretch limousine...",
         "4/4",
         "fresh",
         "John Beifuss",
         "0",
         "Commercial Appeal (Memphis, TN)",
         "September 10, 2012"
        ],
        [
         "3",
         "While 'Cosmopolis' is mostly emotionless and a big letdown it isn't completely boring and has the potential to be better with repeat viewings, but it just isn't as good as a Cronenberg film should be.",
         "6/10",
         "fresh",
         "Chris Sawin",
         "0",
         "Examiner.com",
         "September 7, 2012"
        ],
        [
         "3",
         "In the past, Cronenberg has used such deadpan performances to striking effect, but in the case of Cosmopolis, the approach just leaves a giant vaccum in the soul of the celluloid",
         "1/4",
         "rotten",
         "Jason Buchanan",
         "0",
         "TV Guide",
         "September 7, 2012"
        ],
        [
         "3",
         "... a movie about a sentient zombie, trapped in a womblike limousine while outside the dead souls of Manhattan roil, spraying paint on his windows and hurling rats. Everything he wants is posthumous.",
         "8",
         "fresh",
         "Philip Martin",
         "0",
         "Arkansas Democrat-Gazette",
         "September 7, 2012"
        ],
        [
         "3",
         "Those who said Don DeLillo's book was unfilmable were wrong. This is a film. That much is undeniable. Whether it's a compelling one is a whole other question.",
         "2/5",
         "rotten",
         "Mike Scott",
         "0",
         "Times-Picayune",
         "September 7, 2012"
        ],
        [
         "3",
         "The rapid dialogue is dry and mannered, like a David Mamet play, there's virtually no story and Cronenberg's visual scheme is cold and claustrophobic.",
         "2.5/4",
         "rotten",
         "Joe Williams",
         "1",
         "St. Louis Post-Dispatch",
         "September 6, 2012"
        ],
        [
         "3",
         "Cosmopolis\" is proof that a film can be provocative yet completely un-enjoyable.",
         "4/10",
         "rotten",
         "Justin Craig",
         "0",
         "FoxNews.com",
         "September 5, 2012"
        ],
        [
         "3",
         "It's fascinating but anti-cinematic and a frustrating film to get your arms around.",
         null,
         "fresh",
         "Roger Moore",
         "0",
         "Tribune News Service",
         "September 4, 2012"
        ],
        [
         "3",
         "Throws heady ideas at you faster than Michael Bay can explode a building, but the rate at which ideas stick is inconsistent. It does, however, develop a rhythm. The metered language forces you to adjust just as emotion develops.",
         "2.5/4",
         "fresh",
         "Eric Melin",
         "0",
         "Scene-Stealers.com",
         "September 4, 2012"
        ],
        [
         "3",
         "A master filmmaker's rumination on capitalism as a vision of diseased titanium",
         null,
         "fresh",
         "Fernando F. Croce",
         "0",
         "CinePassion",
         "September 4, 2012"
        ],
        [
         "3",
         "David Cronenberg takes a wayward shot at making a film out of Don DeLillo's artful novel Cosmopolis. Cronenberg's version drones and flounders.",
         "2.0/5",
         "rotten",
         "Tony Macklin",
         "0",
         "tonymacklin.net",
         "September 2, 2012"
        ],
        [
         "3",
         "Cynical and futile - a total waste of time and money.",
         "3/10",
         "rotten",
         "Susan Granger",
         "0",
         "SSG Syndicate",
         "September 1, 2012"
        ],
        [
         "3",
         "If there has ever been a point in human history when the phrase \"asymmetrical prostate\" got a bigger laugh than it does [here], I've never heard of it.",
         "7/10",
         "fresh",
         "Tim Brayton",
         "0",
         "Antagony &amp; Ecstasy",
         "August 31, 2012"
        ],
        [
         "3",
         "Well, if it isn't the most confounding movie of the year.",
         null,
         "rotten",
         "Monica Castillo",
         "0",
         "Dig Boston",
         "August 31, 2012"
        ],
        [
         "3",
         "If Cosmopolis remains chilly and remote, it does so in a way that often feels unsettlingly familiar.",
         "3/5",
         "fresh",
         "Scott Renshaw",
         "0",
         "Salt Lake City Weekly",
         "August 30, 2012"
        ],
        [
         "3",
         "I don't know if DeLillo's fetishized doubletalk ever works in a visual medium like film, but I can tell you that Robert Pattinson sure as hell isn't up to it, at least not without better direction than this. ",
         "C",
         "rotten",
         "Vincent Mancini",
         "0",
         "FilmDrunk",
         "August 30, 2012"
        ],
        [
         "3",
         "Though hardly a crowd-pleaser. it's the sort of challenging, thought-provoking, stylistically striking piece of auteurism one rarely encounters nowadays.",
         "A-",
         "fresh",
         "Frank Swietek",
         "0",
         "One Guy's Opinion",
         "August 30, 2012"
        ],
        [
         "3",
         "Cosmopolis deconstructs language, symbols and theories to present a sprawling and dense post-GFC Heart of Darkness.",
         "4/5",
         "fresh",
         "Thomas Caldwell",
         "0",
         "Cinema Autopsy",
         "August 29, 2012"
        ],
        [
         "3",
         "Cold and calculated, Cosmospolis is a mesmerizing journey that takes us deep into the heart of darkness -- familiar territory for such an extraordinary auteur.",
         null,
         "fresh",
         "Mark Sells",
         "0",
         "The Reel Deal",
         "August 28, 2012"
        ],
        [
         "3",
         "With a cast like this we expected major Cronenberg. Didn't happen.",
         null,
         "fresh",
         "Kelly Vance",
         "0",
         "East Bay Express",
         "August 27, 2012"
        ],
        [
         "3",
         "Not worth seeing",
         null,
         "rotten",
         "Diana Saenger",
         "0",
         "ReviewExpress.com",
         "August 25, 2012"
        ],
        [
         "3",
         "Cosmopolis is an investment that pays off enormous dividends.",
         "5/5",
         "fresh",
         "Peter Sobczynski",
         "0",
         "eFilmCritic.com",
         "August 24, 2012"
        ],
        [
         "3",
         "Cosmopolis is something like the anti-matter version of Atlas Shrugged.",
         null,
         "fresh",
         null,
         "0",
         "MetroActive",
         "August 24, 2012"
        ],
        [
         "3",
         "If you pay even a single penny to watch the thing, you'll be making the most ill-advised purchase of your natural born life.",
         "F",
         "rotten",
         "Erick Weber",
         "0",
         "NECN",
         "August 24, 2012"
        ],
        [
         "3",
         "I can't convince myself that Cosmopolis is anything other than unscripted documentary about the life of Robert Pattinson, shot by security cameras. ",
         "3.5/4",
         "fresh",
         "Phil Villarreal",
         "0",
         "OK! Magazine",
         "August 24, 2012"
        ],
        [
         "3",
         "I must admit Robert Pattinson does dead extremely well.",
         "3/5",
         "fresh",
         "Marc Savlov",
         "0",
         "Austin Chronicle",
         "August 24, 2012"
        ],
        [
         "3",
         "Cosmopolis\" is a deeply subversive, deeply intelligent movie for grown-ups. Brilliant.",
         "4/4",
         "fresh",
         "Jeffrey M. Anderson",
         "0",
         "San Francisco Examiner",
         "August 24, 2012"
        ],
        [
         "3",
         "Robert Pattinson... brings a slick, knowing roboticness to a man desperate to maintain a pretense of control and command of the world around him.",
         null,
         "fresh",
         "MaryAnn Johanson",
         "0",
         "Flick Filosopher",
         "August 24, 2012"
        ],
        [
         "3",
         "It feels like each and every moment bursts forth with urgent dialogue, and yet what does anyone actually say?",
         "2/4",
         "rotten",
         "Stephanie Merry",
         "1",
         "Washington Post",
         "August 24, 2012"
        ],
        [
         "3",
         "Then there's the matter of the screenplay, which places everything in a haze of mannered syntax and enigmatic phrasing.",
         "2/4",
         "rotten",
         "Mark Dujsik",
         "0",
         "Mark Reviews Movies",
         "August 23, 2012"
        ],
        [
         "3",
         "Art-house cinema at its most achingly smarmy and self-indulgent. Frustrating verging on abysmal verging on infuriating.",
         null,
         "rotten",
         "Dustin Putman",
         "0",
         "TheFilmFile.com",
         "August 23, 2012"
        ]
       ],
       "shape": {
        "columns": 7,
        "rows": 54432
       }
      },
      "text/html": [
       "<div>\n",
       "<style scoped>\n",
       "    .dataframe tbody tr th:only-of-type {\n",
       "        vertical-align: middle;\n",
       "    }\n",
       "\n",
       "    .dataframe tbody tr th {\n",
       "        vertical-align: top;\n",
       "    }\n",
       "\n",
       "    .dataframe thead th {\n",
       "        text-align: right;\n",
       "    }\n",
       "</style>\n",
       "<table border=\"1\" class=\"dataframe\">\n",
       "  <thead>\n",
       "    <tr style=\"text-align: right;\">\n",
       "      <th></th>\n",
       "      <th>review</th>\n",
       "      <th>rating</th>\n",
       "      <th>fresh</th>\n",
       "      <th>critic</th>\n",
       "      <th>top_critic</th>\n",
       "      <th>publisher</th>\n",
       "      <th>date</th>\n",
       "    </tr>\n",
       "    <tr>\n",
       "      <th>id</th>\n",
       "      <th></th>\n",
       "      <th></th>\n",
       "      <th></th>\n",
       "      <th></th>\n",
       "      <th></th>\n",
       "      <th></th>\n",
       "      <th></th>\n",
       "    </tr>\n",
       "  </thead>\n",
       "  <tbody>\n",
       "    <tr>\n",
       "      <th>3</th>\n",
       "      <td>A distinctly gallows take on contemporary fina...</td>\n",
       "      <td>3/5</td>\n",
       "      <td>fresh</td>\n",
       "      <td>PJ Nabarro</td>\n",
       "      <td>0</td>\n",
       "      <td>Patrick Nabarro</td>\n",
       "      <td>November 10, 2018</td>\n",
       "    </tr>\n",
       "    <tr>\n",
       "      <th>3</th>\n",
       "      <td>It's an allegory in search of a meaning that n...</td>\n",
       "      <td>NaN</td>\n",
       "      <td>rotten</td>\n",
       "      <td>Annalee Newitz</td>\n",
       "      <td>0</td>\n",
       "      <td>io9.com</td>\n",
       "      <td>May 23, 2018</td>\n",
       "    </tr>\n",
       "    <tr>\n",
       "      <th>3</th>\n",
       "      <td>... life lived in a bubble in financial dealin...</td>\n",
       "      <td>NaN</td>\n",
       "      <td>fresh</td>\n",
       "      <td>Sean Axmaker</td>\n",
       "      <td>0</td>\n",
       "      <td>Stream on Demand</td>\n",
       "      <td>January 4, 2018</td>\n",
       "    </tr>\n",
       "    <tr>\n",
       "      <th>3</th>\n",
       "      <td>Continuing along a line introduced in last yea...</td>\n",
       "      <td>NaN</td>\n",
       "      <td>fresh</td>\n",
       "      <td>Daniel Kasman</td>\n",
       "      <td>0</td>\n",
       "      <td>MUBI</td>\n",
       "      <td>November 16, 2017</td>\n",
       "    </tr>\n",
       "    <tr>\n",
       "      <th>3</th>\n",
       "      <td>... a perverse twist on neorealism...</td>\n",
       "      <td>NaN</td>\n",
       "      <td>fresh</td>\n",
       "      <td>NaN</td>\n",
       "      <td>0</td>\n",
       "      <td>Cinema Scope</td>\n",
       "      <td>October 12, 2017</td>\n",
       "    </tr>\n",
       "    <tr>\n",
       "      <th>...</th>\n",
       "      <td>...</td>\n",
       "      <td>...</td>\n",
       "      <td>...</td>\n",
       "      <td>...</td>\n",
       "      <td>...</td>\n",
       "      <td>...</td>\n",
       "      <td>...</td>\n",
       "    </tr>\n",
       "    <tr>\n",
       "      <th>2000</th>\n",
       "      <td>The real charm of this trifle is the deadpan c...</td>\n",
       "      <td>NaN</td>\n",
       "      <td>fresh</td>\n",
       "      <td>Laura Sinagra</td>\n",
       "      <td>1</td>\n",
       "      <td>Village Voice</td>\n",
       "      <td>September 24, 2002</td>\n",
       "    </tr>\n",
       "    <tr>\n",
       "      <th>2000</th>\n",
       "      <td>NaN</td>\n",
       "      <td>1/5</td>\n",
       "      <td>rotten</td>\n",
       "      <td>Michael Szymanski</td>\n",
       "      <td>0</td>\n",
       "      <td>Zap2it.com</td>\n",
       "      <td>September 21, 2005</td>\n",
       "    </tr>\n",
       "    <tr>\n",
       "      <th>2000</th>\n",
       "      <td>NaN</td>\n",
       "      <td>2/5</td>\n",
       "      <td>rotten</td>\n",
       "      <td>Emanuel Levy</td>\n",
       "      <td>0</td>\n",
       "      <td>EmanuelLevy.Com</td>\n",
       "      <td>July 17, 2005</td>\n",
       "    </tr>\n",
       "    <tr>\n",
       "      <th>2000</th>\n",
       "      <td>NaN</td>\n",
       "      <td>2.5/5</td>\n",
       "      <td>rotten</td>\n",
       "      <td>Christopher Null</td>\n",
       "      <td>0</td>\n",
       "      <td>Filmcritic.com</td>\n",
       "      <td>September 7, 2003</td>\n",
       "    </tr>\n",
       "    <tr>\n",
       "      <th>2000</th>\n",
       "      <td>NaN</td>\n",
       "      <td>3/5</td>\n",
       "      <td>fresh</td>\n",
       "      <td>Nicolas Lacroix</td>\n",
       "      <td>0</td>\n",
       "      <td>Showbizz.net</td>\n",
       "      <td>November 12, 2002</td>\n",
       "    </tr>\n",
       "  </tbody>\n",
       "</table>\n",
       "<p>54432 rows × 7 columns</p>\n",
       "</div>"
      ],
      "text/plain": [
       "                                                 review rating   fresh  \\\n",
       "id                                                                       \n",
       "3     A distinctly gallows take on contemporary fina...    3/5   fresh   \n",
       "3     It's an allegory in search of a meaning that n...    NaN  rotten   \n",
       "3     ... life lived in a bubble in financial dealin...    NaN   fresh   \n",
       "3     Continuing along a line introduced in last yea...    NaN   fresh   \n",
       "3                ... a perverse twist on neorealism...     NaN   fresh   \n",
       "...                                                 ...    ...     ...   \n",
       "2000  The real charm of this trifle is the deadpan c...    NaN   fresh   \n",
       "2000                                                NaN    1/5  rotten   \n",
       "2000                                                NaN    2/5  rotten   \n",
       "2000                                                NaN  2.5/5  rotten   \n",
       "2000                                                NaN    3/5   fresh   \n",
       "\n",
       "                 critic  top_critic         publisher                date  \n",
       "id                                                                         \n",
       "3            PJ Nabarro           0   Patrick Nabarro   November 10, 2018  \n",
       "3        Annalee Newitz           0           io9.com        May 23, 2018  \n",
       "3          Sean Axmaker           0  Stream on Demand     January 4, 2018  \n",
       "3         Daniel Kasman           0              MUBI   November 16, 2017  \n",
       "3                   NaN           0      Cinema Scope    October 12, 2017  \n",
       "...                 ...         ...               ...                 ...  \n",
       "2000      Laura Sinagra           1     Village Voice  September 24, 2002  \n",
       "2000  Michael Szymanski           0        Zap2it.com  September 21, 2005  \n",
       "2000       Emanuel Levy           0   EmanuelLevy.Com       July 17, 2005  \n",
       "2000   Christopher Null           0    Filmcritic.com   September 7, 2003  \n",
       "2000    Nicolas Lacroix           0      Showbizz.net   November 12, 2002  \n",
       "\n",
       "[54432 rows x 7 columns]"
      ]
     },
     "execution_count": 137,
     "metadata": {},
     "output_type": "execute_result"
    }
   ],
   "source": [
    "df_reviews"
   ]
  },
  {
   "cell_type": "markdown",
   "metadata": {},
   "source": [
    "This dataset has a lot of info in it. The genre, director, writer, dates, runtime, studio, to name a few which might not be found in the other datasets."
   ]
  },
  {
   "cell_type": "code",
   "execution_count": 138,
   "metadata": {},
   "outputs": [
    {
     "data": {
      "application/vnd.microsoft.datawrangler.viewer.v0+json": {
       "columns": [
        {
         "name": "id",
         "rawType": "int64",
         "type": "integer"
        },
        {
         "name": "synopsis",
         "rawType": "object",
         "type": "string"
        },
        {
         "name": "rating",
         "rawType": "object",
         "type": "string"
        },
        {
         "name": "genre",
         "rawType": "object",
         "type": "string"
        },
        {
         "name": "director",
         "rawType": "object",
         "type": "string"
        },
        {
         "name": "writer",
         "rawType": "object",
         "type": "string"
        },
        {
         "name": "theater_date",
         "rawType": "object",
         "type": "string"
        },
        {
         "name": "dvd_date",
         "rawType": "object",
         "type": "string"
        },
        {
         "name": "currency",
         "rawType": "object",
         "type": "string"
        },
        {
         "name": "box_office",
         "rawType": "object",
         "type": "string"
        },
        {
         "name": "runtime",
         "rawType": "object",
         "type": "string"
        },
        {
         "name": "studio",
         "rawType": "object",
         "type": "string"
        }
       ],
       "conversionMethod": "pd.DataFrame",
       "ref": "6e0ce755-2f7a-4e09-8cda-d5b93123b266",
       "rows": [
        [
         "1",
         "This gritty, fast-paced, and innovative police drama earned five Academy Awards, including Best Picture, Best Adapted Screenplay (written by Ernest Tidyman), and Best Actor (Gene Hackman). Jimmy \"Popeye\" Doyle (Hackman) and his partner, Buddy Russo (Roy Scheider), are New York City police detectives on narcotics detail, trying to track down the source of heroin from Europe into the United States. Suave Alain Charnier (Fernando Rey) is the French drug kingpin who provides a large percentage of New York City's dope, and Pierre Nicoli (Marcel Bozzuffi) is a hired killer and Charnier's right-hand man. Acting on a hunch, Popeye and Buddy start tailing Sal Boca (Tony Lo Bianco) and his wife, Angie (Arlene Faber), who live pretty high for a couple whose corner store brings in about 7,000 dollars a year. It turns out Popeye's suspicions are right -- Sal and Angie are the New York agents for Charnier, who will be smuggling 32 million dollars' worth of heroin into the city in a car shipped over from France. The French Connection broke plenty of new ground for screen thrillers; Popeye Doyle was a highly unusual \"hero,\" an often violent, racist, and mean-spirited cop whose dedication to his job fell just short of dangerous obsession. The film's high point, a high-speed car chase with Popeye tailing an elevated train, was one of the most viscerally exciting screen moments of its day and set the stage for dozens of action sequences to follow. And the film's grimy realism (and downbeat ending) was a big change from the buff-and-shine gloss and good-guys-always-win heroics of most police dramas that preceded it. The French Connection was inspired by a true story, and Eddie Egan and Sonny Grosso, Popeye and Buddy's real life counterparts, both have small roles in the film. A sequel followed four years later.",
         "R",
         "Action and Adventure|Classics|Drama",
         "William Friedkin",
         "Ernest Tidyman",
         "Oct 9, 1971",
         "Sep 25, 2001",
         null,
         null,
         "104 minutes",
         null
        ],
        [
         "3",
         "New York City, not-too-distant-future: Eric Packer, a 28 year-old finance golden boy dreaming of living in a civilization ahead of this one, watches a dark shadow cast over the firmament of the Wall Street galaxy, of which he is the uncontested king. As he is chauffeured across midtown Manhattan to get a haircut at his father's old barber, his anxious eyes are glued to the yuan's exchange rate: it is mounting against all expectations, destroying Eric's bet against it. Eric Packer is losing his empire with every tick of the clock. Meanwhile, an eruption of wild activity unfolds in the city's streets. Petrified as the threats of the real world infringe upon his cloud of virtual convictions, his paranoia intensifies during the course of his 24-hour cross-town odyssey. Packer starts to piece together clues that lead him to a most terrifying secret: his imminent assassination. -- (C) Official Site",
         "R",
         "Drama|Science Fiction and Fantasy",
         "David Cronenberg",
         "David Cronenberg|Don DeLillo",
         "Aug 17, 2012",
         "Jan 1, 2013",
         "$",
         "600,000",
         "108 minutes",
         "Entertainment One"
        ],
        [
         "5",
         "Illeana Douglas delivers a superb performance as Denise Waverly, a fictional singer and songwriter whose life bears more than a passing resemblance to that of real-life pop star Carole King. Edna Buxton, the daughter of a Philadelphia steel tycoon, aspires to a career as a singer, and when against her mother's bidding she sings a sultry version of \"Hey There (You With the Stars in Your Eyes)\" (instead of Mom's choice, \"You'll Never Walk Alone\") at a talent contest, she wins a recording contact and moves to New York City. She cuts a record and gains a new stage name, Denise Waverly; however, she soon finds that girl singers are a dime a dozen in the Big Apple and her career as a vocalist goes nowhere. But she has a knack for writing songs, and eccentric producer Joel Milner (John Turturro) asks her to pen some songs for his upcoming projects. Teamed with Howard Caszatt (Eric Stoltz), a hipster songwriter who wants to express his political and social ideals through pop tunes, she finds both a successful collaborator and husband. While her work with Howard gains Denise writing credits on a string of hit records and respect within the industry, their marriage falls apart, and she becomes involved with Jay Phillips (Matt Dillon), the gifted but unstable leader of a popular West Coast surf music combo. Students of pop music history will have a ball with the various characters modeled after real-life rock legends, and the 1960s-style song score includes numbers written by Joni Mitchell and J. Mascis (of the band Dinosaur Jr.), as well as one-time King collaborator Gerry Goffin; a collaboration between Elvis Costello and Burt Bacharach, \"God Give Me Strength,\" led to a full album written by the two great tunesmiths.",
         "R",
         "Drama|Musical and Performing Arts",
         "Allison Anders",
         "Allison Anders",
         "Sep 13, 1996",
         "Apr 18, 2000",
         null,
         null,
         "116 minutes",
         null
        ],
        [
         "6",
         "Michael Douglas runs afoul of a treacherous supervisor in this film version of Michael Crichton's novel. Douglas plays Tom Sanders, an executive at DigiCom, a leading computer software firm. DigiCom is about to launch a new virtual reality-based data storage system that is expected to revolutionize the industry, and Bob Garvin (Donald Sutherland), the owner of the company, is in the midst of negotiating a merger that could bring",
         "R",
         "Drama|Mystery and Suspense",
         "Barry Levinson",
         "Paul Attanasio|Michael Crichton",
         "Dec 9, 1994",
         "Aug 27, 1997",
         null,
         null,
         "128 minutes",
         null
        ],
        [
         "7",
         null,
         "NR",
         "Drama|Romance",
         "Rodney Bennett",
         "Giles Cooper",
         null,
         null,
         null,
         null,
         "200 minutes",
         null
        ],
        [
         "8",
         "The year is 1942. As the Allies unite overseas to keep the world safe for democracy, there are voices at home that are barely heard. One of them belongs to Willie Morris, a shy and gawky eight-year-old whose childhood is even more quiet and isolated than his home town of Yazoo, Mississippi. An only child, ignored at school and uncomfortable with girls, Willie looks up to and confides in next-door neighbor Dink Jenkins, the town's star athlete, who's preparing to ship out in the service of Uncle Sam. Willie's father, Jack Morris, a stern but good-hearted veteran who lost his leg in the Spanish Civil War, is chiefly responsible for Willie's overprotective upbringing. Pushing in the other direction is his mother, Ellen Morris, a capable woman who knows that what Willie needs most is some freedom and a friend. Willie's ninth birthday gives her an opportunity to offer him both, in the form of a Jack Russell terrier puppy that the delighted Willie names Skip. Skip's outgoing personality helps Willie to build a friendship with Rivers Applewhite, the prettiest girl in school. Skip then further serves as matchmaker for Willie and Rivers at the movie theater, and lends a paw after Willie is challenged by Big Boy Wilkinson, Henjie Henick and Spit McGee to prove his worth in a football game. With Skip's canine help, Willie starts becoming \"one of the boys.\" Then unexpectedly, Dink returns to Yazoo. But the dark truth soon emerges: Dink, when confronted by the realities of war, went AWOL. In trying to reconcile his hero worship of the Dink he once knew with his disappointment in the disgraced soldier, Willie begins to contend with the complexities of war and human conduct. He reaches a new perspective on these matters through his father's eyes and his own. Dink fails to show up at Willie's first baseball game, and the disappointed Willie takes it out on Skip, who runs away. The dog's disappearance and subsequent recovery teach Willie the strength of forgiveness, and give Dink a chance to embrace the power of redemption. Ultimately, it is a dog's love that teaches Willie Morris lifelong lessons of the human spirit.",
         "PG",
         "Drama|Kids and Family",
         "Jay Russell",
         "Gail Gilchriest",
         "Mar 3, 2000",
         "Jul 11, 2000",
         null,
         null,
         "95 minutes",
         "Warner Bros. Pictures"
        ],
        [
         "10",
         "Some cast and crew from NBC's highly acclaimed, little-seen series Freaks and Geeks reunite for this teen comedy that also marks the first starring role for Tom Hanks' son, Colin. The younger Hanks plays Shaun Brumder, a high schooler eager to propel himself out of the land of surf bums and ranch homes to which the film's title refers. He's had his sights set on Stanford ever since he read the works of professor Marcus Skinner (Kevin Kline), and his transcript is stellar enough to gain him admission. Shaun is understandably furious, then, when he receives a rejection letter in the mail; after some detective work on his part, he realizes that his flaky counselor (Lily Tomlin) mistakenly sent the university the wrong papers. It's up to him to get to Stanford within 24 hours to set the record straight -- literally -- and he enlists the help of his slacker brother Lance (Jack Black) to do so. Orange County co-stars Catharine O'Hara and John Lithgow as Shaun and Lance's slightly unhinged parents; the film was directed by Jake Kasdan and written by Mike White, both of whom contributed to several episodes of Freaks and Geeks.",
         "PG-13",
         "Comedy",
         "Jake Kasdan",
         "Mike White",
         "Jan 11, 2002",
         "Jun 18, 2002",
         "$",
         "41,032,915",
         "82 minutes",
         "Paramount Pictures"
        ],
        [
         "13",
         "Stewart Kane, an Irishman living in the Australian town of Jindabyne, is on a fishing trip in isolated hill country with three other men when they discover the body of a murdered girl in the river. Rather than return to the town immediately, they continue fishing and report their gruesome find days later. Stewart's wife Claire is the last to find out. Deeply disturbed by her husband's actions, her faith in her relationship with Stewart is shaken to the core. She wants to understand and tries to make things right. In her determination to help the victim's family Claire sets herself not only against her own family and friends but also those of the dead girl. Her marriage is taken to the brink and her peaceful life with Stewart and their young son hangs in the balance.",
         "R",
         "Drama",
         "Ray Lawrence",
         "Raymond Carver|Beatrix Christian",
         "Apr 27, 2006",
         "Oct 2, 2007",
         "$",
         "224,114",
         "123 minutes",
         "Sony Pictures Classics"
        ],
        [
         "14",
         "\"Love Ranch\" is a bittersweet love story that turns explosive when the players in a romantic triangle lose control and cross the line. Set in the late-1970s, the film depicts larger than life personalities living on the edge, Grace Bontempo and Charlie Bontempo, the husband and wife team who own and run Nevada's first legalized brothel. Their lives are suddenly altered when Armando Bruza, a husky, world famous heavy weight boxer from South America is brought to the Ranch to train as part of Charlie's ever-expanding entrepreneurial empire. Plans quickly go awry when Bruza comes between Grace and Charlie as an unforeseen love triangle develops that erupts into uncontrollable passion and murder.",
         "R",
         "Drama",
         "Taylor Hackford",
         "Mark Jacobson",
         "Jun 30, 2010",
         "Nov 9, 2010",
         "$",
         "134,904",
         "117 minutes",
         null
        ],
        [
         "15",
         "When a diamond expedition in the Congo is lost, a scientist is sent in to find out what happened. Tagging along is an primatologist taking a trained gorilla back to the wild and a Romanian treasure hunter. Jungle adventure flick is fun but never realistic.",
         "PG-13",
         "Action and Adventure|Mystery and Suspense|Science Fiction and Fantasy",
         "Frank Marshall",
         "John Patrick Shanley",
         "Jun 9, 1995",
         "Jul 27, 1999",
         null,
         null,
         "108 minutes",
         null
        ],
        [
         "17",
         null,
         null,
         null,
         null,
         null,
         null,
         null,
         null,
         null,
         null,
         null
        ],
        [
         "18",
         "In 1979, Bill Viola and Frank Caliguri dreamed up a contest pitting barroom bigmouths against wrestlers, martial artists, boxers, bouncers and brawlers, billed as no-holds-barred new type of competitive fighting. When the fights succeeded beyond their wildest expectations, they were swept up in a chain of events that ended in the first mixed-martial arts ban in the nation. \"Tough Guys\" chronicles the inception of Caliguri and Viola's first bouts and the colorful, crazy cast of fighters who made them a hit as well as the politicians who brought it all crashing down. The film brings to life a moment when the national martial arts craze was building to a crescendo as the economies of Pennsylvania steel towns were plummeting to levels of unemployment never seen, breeding desperate men looking for a chance to prove their worth and make some money in the ring.",
         "NR",
         "Documentary",
         null,
         "Robert Zullo",
         null,
         null,
         null,
         null,
         null,
         "Showtime Documentary Films"
        ],
        [
         "19",
         "While Microsoft may be the biggest software company in the world, not every computer user is a fan of their products, or their way of doing business. While Microsoft's Windows became the most widely used operating system for personal computers in the world, many experts took issue with Microsoft's strict policies regarding licensing, ownership, distribution, and alteration of their software. The objections of many high-profile technology experts, most notably Richard Stallman, led to what has become known as \"the Open Source Movement,\" which is centered on the belief that computer software should be free both in the economic and intellectual senses of the word. Eventually, one of Stallman's admirers, Linus Torvalds, created a new operating system called Linux, a freely distributed software which many programmers consider to be markedly superior to Windows. Revolution OS is a documentary that examines the genesis of the Open Source Movement, and explores and explains the technical and intellectual issues involved in a manner understandable to computer aficionados and non-techheads alike.",
         "NR",
         "Documentary|Special Interest",
         null,
         null,
         "Aug 23, 2002",
         "Sep 30, 2003",
         null,
         null,
         "90 minutes",
         "Seventh Art Releasing"
        ],
        [
         "20",
         "Rachel (Britt Ekland) is an Amish girl who rejects her religious upbringing and travels to the big city. She meets Raymond Paine (Jason Robards) and Billy Minsky (Elliot Gould) who put her on stage. A sensual striptease emerges from what was supposed to be a religious dance, eventually causing the cops to bust the place. Soon her father comes after his daughter who by now is coveted by gangsters. Forrest Tucker plays gangster Trim Houlihan, the quick-tempered Irishman. The film accurately reflects the mood of the burlesque halls which had died out by the time the feature was released. Veteran comic Burt Lahr, one of the last true burlesque and vaudeville performers, makes his last film appearance as Professor Spats. British comedian Norman Wisdom steals the show in his role as Chick Williams. Rudy Valee, the top crooning heartthrob of the 1920s, narrates and sings a few songs. The surviving Minsky brother Morton acted as technical advisor for this song and dance filled slice of Americana. Burlesque had all but died out by the time the film was release, and this feature accurately recalls the bygone era that started before talking pictures and even radio were mainstream items.",
         "PG-13",
         "Classics|Comedy|Drama",
         "William Friedkin",
         "Sidney Michaels|Arnold Schulman|Norman Lear",
         "Dec 22, 1968",
         "May 20, 2008",
         null,
         null,
         "97 minutes",
         null
        ],
        [
         "21",
         "Old-school comic Rodney \"I get no respect\" Dangerfield headlines this broad-based comedy satire of trashy '90s-style television talk-shows. He plays the title host of an afternoon show that has become so sleazy that all but his most die-hard fans have stopped watching. Studio executive Lenny Spencer (Burt Reynolds) is so disgusted, that he gives Sparks one week to improve the ratings or else. To this end, Sparks attends a special reception hosted by his arch nemesis, ultra-conservative Governor Floyd Preston (David Ogden Stiers).",
         "R",
         "Comedy",
         "Peter Baldwin",
         "Rodney Dangerfield|Harry Basil",
         "Jan 31, 1997",
         "Sep 20, 1999",
         null,
         null,
         "106 minutes",
         null
        ],
        [
         "22",
         "Two-time Academy Award Winner Kevin Spacey gives the performance of a lifetime in CASINO JACK, a riotous new film starring Spacey as a man hell bent on acquiring all that the good life has to offer. He plays in the same game as the highest of rollers and resorts to awe-inspiring levels of conning, scheming and fraudulent antics to get what he wants. Inspired by true events that are too over-the-top for even the wildest imaginations to conjure, CASINO JACK lays bare the wild excesses and escapades of Jack Abramoff. Aided by his business partner Michael Scanlon (Barry Pepper), Jack parlays his clout over some of the world's most powerful men with the goal of creating a personal empire of wealth and influence. When the two enlist a mob-connected buddy (Jon Lovitz) to help with one of their illegal schemes, they soon find themselves in over their heads, entrenched in a world of mafia assassins, murder and a scandal that spins so out of control that it makes worldwide headlines. Directed by George Hickenlooper (FACTORY GIRL, THE MAN FROM ELYSIAN FIELDS), CASINO JACK returns Spacey to the type of role that made him famous - a cool-headed, articulate snake charmer whose wild ambitions knows no limits or boundaries. The film also stars Kelly Preston and Rachelle Lefevre and is produced by Gary Howsam, Bill Marks and George Vitetzakis from an original screenplay by Norman Snider. Executive Producers are Richard Rionda Del Castro, Lewin Webb, Donald Zuckerman, Dana Brunetti, Patricia Eberle, Warren Nimchuk, Angelo Paletta and Domenic Serafino. The Associate Producer is Rick Chad. -- (C) Art Takes Over",
         "R",
         "Comedy|Drama|Mystery and Suspense",
         "George Hickenlooper",
         "Norman Snider",
         "Dec 17, 2010",
         "Apr 5, 2011",
         "$",
         "1,039,869",
         "108 minutes",
         "ATO Pictures"
        ],
        [
         "23",
         "A fictional film set in the alluring world of one of the most stunning scandals to rock our nation, American Hustle tells the story of brilliant con man Irving Rosenfeld (Christian Bale), who along with his equally cunning and seductive British partner Sydney Prosser (Amy Adams) is forced to work for a wild FBI agent Richie DiMaso (Bradley Cooper). DiMaso pushes them into a world of Jersey powerbrokers and mafia that's as dangerous as it is enchanting. Jeremy Renner is Carmine Polito, the passionate, volatile, New Jersey political operator caught between the con-artists and Feds. Irving's unpredictable wife Rosalyn (Jennifer Lawrence) could be the one to pull the thread that brings the entire world crashing down. Like David O. Russell's previous films, American Hustle defies genre, hinging on raw emotion, and life and death stakes. (c) Sony",
         "R",
         "Drama",
         null,
         null,
         "Dec 20, 2013",
         "Mar 18, 2014",
         "$",
         "99,165,609",
         "129 minutes",
         "Sony Pictures"
        ],
        [
         "24",
         "Three young boys discover a stranded Russian sailor on the shores of Key West in this well-meaning but unexciting drama. Initially viewing him as an enemy, the boys soon grow to like their new companion and agree to help him find a way back to his homeland.",
         "PG",
         "Action and Adventure|Comedy|Drama",
         "Rick Rosenthal",
         "Sheldon Lettich|Michael Nankin|Alan Jay Glueckman",
         "Nov 6, 1987",
         "Mar 8, 2005",
         null,
         null,
         "98 minutes",
         null
        ],
        [
         "25",
         "From ancient Japan's most enduring tale, the epic 3D fantasy-adventure 47 Ronin is born. Keanu Reeves leads the cast as Kai, an outcast who joins Oishi (Hiroyuki Sanada), the leader of 47 outcast samurai. Together they seek vengeance upon the treacherous overlord who killed their master and banished their kind. To restore honor to their homeland, the warriors embark upon a quest that challenges them with a series of trials that would destroy ordinary warriors. 47 Ronin is helmed by visionary director Carl Erik Rinsch (The Gift). Inspired by styles as diverse as Miyazaki and Hokusai, Rinsch will bring to life the stunning landscapes and enormous battles that will display the timeless Ronin story to global audiences in a way that's never been seen before. -- (C) Universal",
         "PG-13",
         "Action and Adventure|Drama|Science Fiction and Fantasy",
         "Carl Erik Rinsch",
         "Chris Morgan|Hossein Amini",
         "Dec 25, 2013",
         "Apr 1, 2014",
         "$",
         "20,518,224",
         "127 minutes",
         "Universal Pictures"
        ],
        [
         "26",
         "A comic series of short vignettes build on one another to create a cumulative effect, as the characters discuss things as diverse as caffeine popsicles, Paris in the '20s, and the use of nicotine as an insecticide--all the while sitting around sipping coffee and smoking cigarettes. As director Jim Jarmusch delves into the normal pace of our world from an extraordinary angle, he shows just how absorbing the obsessions, joys and addictions of life can be, if truly observed.",
         "R",
         "Art House and International|Comedy|Drama|Musical and Performing Arts",
         "Jim Jarmusch",
         "Jim Jarmusch",
         "May 14, 2004",
         "Sep 21, 2004",
         "$",
         "1,971,135",
         "96 minutes",
         "MGM"
        ],
        [
         "27",
         null,
         "NR",
         "Musical and Performing Arts",
         null,
         null,
         null,
         null,
         null,
         null,
         null,
         null
        ],
        [
         "28",
         "Elvis goes Hawaiian for the second time in this tuneful romantic adventure. He plays an irresponsible pilot who, with a partner, struggles to set up a charter helicopter business. When not toiling at that, the King is wooing island beauties and singing.",
         "G",
         "Classics|Comedy|Musical and Performing Arts|Romance",
         null,
         "Allan Weiss|Anthony Lawrence",
         "Jun 15, 1966",
         "Jan 7, 2003",
         null,
         null,
         "90 minutes",
         null
        ],
        [
         "29",
         "This futuristic adventure stars Lee Majors as a former racing champ who reassembles his old Porsche and drives to California in a world where cars have been outlawed by the powers that be.",
         "PG",
         "Action and Adventure|Drama|Science Fiction and Fantasy",
         "Martyn Burke",
         null,
         "Apr 1, 1981",
         "May 10, 2011",
         null,
         null,
         "101 minutes",
         null
        ],
        [
         "33",
         "Howard W. Campbell Jr. (Nick Nolte) is an American playwright living in pre-World War II Berlin. He is happily married to his lovely wife Helga (Sheryl Lee), and is acclaimed for his work, which gains him entree into Berlin's highest political and social circles. Then one day he's approached by Frank Wirtenan (John Goodman), an American intelligence agent who offers Campbell the opportunity to spy for his country. Campbell refuses. He wonders why he was asked. \"You're obsessed with the notion of pure hearts and heroism. You love good and you hate evil ...and you'd sacrifice anything in the name of romance,\" Wirtenan tells him. So Campbell agrees. He seamlessly infiltrates the Nazis and gets a job spewing hateful Nazi propaganda on a weekly radio show beamed across Europe. He barely survives the war, his wife supposedly doesn't, and finds himself living in New York City, penniless and befriended by a next-door neighbor, a painter and fellow widower (Alan Arkin). He might have lived quietly beyond that, but gets found by a ragged group of American neo-Nazis -- and, incredibly, his wife. The neo-Nazis publicize his presence and he learns that his neighbor is actually a spy and that his wife is really her little sister. Guilt-stricken and alone, Campbell turns himself in to the Israelis, who charge him with being a war criminal. He's about to go on trial in Israel when he receives a letter from Wirteman promising to reveal his heroic spying and exonerate him, but Campbell hangs himself in his cell.",
         "R",
         "Action and Adventure|Drama|Mystery and Suspense",
         "Keith Gordon",
         null,
         "Nov 1, 1996",
         "Aug 22, 2000",
         null,
         null,
         "114 minutes",
         null
        ],
        [
         "34",
         "Director John Woo brings Hong Kong-style martial arts action to this comic book-flavored sequel that eschews the complicated plot and political maneuverings of its predecessor in favor of pure, adrenaline-charged thrills. Tom Cruise returns as Ethan Hunt, an operative for the top-secret government agency IMF (Impossible Missions Force). Fellow agent Sean Ambrose (Dougray Scott) has gone rogue, stealing a sample of a deadly synthetic virus named Chimera that could rapidly wipe out the world's population. Ambrose's plan is to sell Chimera to the highest bidder in exchange for shares of stock in the winner's company. Summoned by the new IMF chief (Anthony Hopkins in an uncredited cameo role), Ethan is assigned to recruit the help of Ambrose's former lover Nyah Nordoff-Hall (Thandie Newton), a gorgeous woman who left Ambrose broken-hearted and who may be able to quickly regain his confidence. Once he meets and spends a night with Nyah, however, Ethan is smitten, and now must both capture Ambrose and keep Nyah alive as she infiltrates a nest of vipers. Sophisticated disguises, gun battles, and high-speed chases are the order of the day, very much in the James Bond mold. Mission: Impossible 2 is based on a story by Star Trek: The Next Generation writers Ronald D. Moore and Brannon Braga, with a script polish by Robert Towne.",
         "PG-13",
         "Action and Adventure|Mystery and Suspense",
         "John Woo",
         "William Goldman|John Logan|David Marconi|Michael Tolkin|Robert Towne|Rick Berman",
         "Dec 31, 2000",
         "Nov 7, 2000",
         null,
         null,
         "123 minutes",
         "Paramount Pictures"
        ],
        [
         "35",
         "In this film, conjoined twins Blake and Francis Falls share many vital organs. They have come to the big city to find their long-lost mother and end their suffering. Befriending a prostitute, Blake reveals that Francis is dying. He must choose between dying with his brother or a risky operation.",
         "R",
         "Drama",
         "Michael Polish",
         "Michael Polish|Mark Polish",
         "Jul 30, 1999",
         "Jan 18, 2000",
         null,
         null,
         "110 minutes",
         null
        ],
        [
         "38",
         "You'd think they would know better from their first glance at the foreboding stone exterior of the blood-sucking Count's castle, but apparently they didn't, for this young couple, who are looking for the young man's missing brother, walks right into Dracula's lair. Christopher Lee plays Count Dracula in this gory and violent scare-maker.",
         "R",
         "Art House and International|Classics|Horror|Mystery and Suspense",
         "Roy Ward Baker",
         "Anthony Hinds|John Elder",
         "Dec 23, 1970",
         "Aug 7, 2001",
         null,
         null,
         "96 minutes",
         null
        ],
        [
         "39",
         "A group of stoners at a rock festival is stalked by a serial killer wearing a Ronald Reagan mask in the unrated version of this outrageous horror comedy featuring a cast that includes Courteney Cox and David Arquette, who also co-wrote and directed. Jaime King, Thomas Jane, Jason Mewes, Balthazar Getty.",
         "R",
         "Horror",
         "David Arquette",
         "David Arquette|Joe Harris",
         "Apr 20, 2007",
         "Oct 30, 2007",
         null,
         null,
         "97 minutes",
         "After Dark Films/Freestyle Releasing"
        ],
        [
         "40",
         "John Sayles' Casa de los Babys tells the tale of a half-dozen American women who travel to Latin America in order to pick up their adopted children. They all stay at the same motel while they each wade through the bureaucracy. Sharing with each other their fears, hopes, dreams, and frustrations at the thoughts of becoming mothers comprises the majority of the drama in the film. The cast includes Maggie Gyllenhaal, Daryl Hannah, Marcia Gay Harden, Susan Lynch, Mary Steenburgen, Lili Taylor, and Rita Moreno.",
         "R",
         "Drama",
         "John Sayles",
         "John Sayles",
         "Sep 19, 2003",
         "Apr 13, 2004",
         "$",
         "312,136",
         "95 minutes",
         null
        ],
        [
         "41",
         "Ken Loach directs Sweet Sixteen, a gritty drama about a young man slowly succumbing to a life of crime. Liam (Martin Compson) hopes that his imprisoned mother (Michelle Coulter) will be free by his 16th birthday. Hoping to help his mother escape her abusive heroin-dealing boyfriend (Gary McCormack), Liam rats him out to the cops. Liam's sister, Chantelle (Annmarie Fulton), suggests that a new trailer park might be a better place for their mother to live. With the help of his best friend, Pinball (William Ruanne), Liam sells the boyfriend's supply in order to raise the money, but this gets him into trouble with gangsters whose turf he was selling in. Soon Liam is on the way up in the criminal world, but that success comes with a toll. The accents in this Scottish-set film are so thick that English subtitles are used throughout. Sweet Sixteen was screened in competition at the 2002 Cannes Film Festival.",
         "R",
         "Drama",
         "Ken Loach",
         "Paul Laverty",
         "May 16, 2003",
         "Oct 7, 2003",
         "$",
         "201,010",
         "106 minutes",
         "Lions Gate Films"
        ],
        [
         "42",
         "Warner Bros.' \"Perry Mason\" series quietly slipped from the \"A\" to the \"B\" category with this adaptation of Erle Stanley Gardner's The Case of the Caretaker's Cat. Ricardo Cortez and June Travis take over from Warren William and Claire Dodd as criminal attorney Perry Mason and his faithful secretary Della Street. Though the characters had been married in Case of the Velvet Claws, they're unattached again here, though Della is still hoping. This time there are three murders, all connected with a hectic treasure hunt and a screeching feline (grey, not black",
         "G",
         "Action and Adventure|Classics|Drama|Mystery and Suspense",
         null,
         "Frederick Hugh Herbert",
         null,
         null,
         null,
         null,
         "65 minutes",
         null
        ],
        [
         "43",
         "Based on the play",
         "NR",
         "Classics|Comedy|Musical and Performing Arts",
         "William Wellman",
         "Nunnally Johnson",
         null,
         null,
         null,
         null,
         "75 minutes",
         null
        ],
        [
         "44",
         "Can death be a good career move? The star of Bio-Dome, Jury Duty, and In the Army Now decides to find out in this satirical comedy. Pauly Shore (playing himself) takes a role on a new situation comedy series for FOX TV after a string of awful movies puts paid to his film career, but when the show is axed at the last moment, Shore finds himself flat broke and unable to find work in Hollywood. At the end of his rope, one night Shore is visited by the ghost of comic Sam Kinison, who suggests that killing himself might be the answer. Shore lacks the nerve to go quite that far, but he goes half-way by faking his own death and is amazed to discover an outpouring of post-mortem enthusiasm for him and his body of work, with the dead comic now praised as a genius; however, as Shore tries to figure out how to capitalize on this outpouring of acceptance, word begins to spread that the comic is actually alive and well, which only causes more problems for him. Produced under the title You'll Never Wiez In This Town Again, Pauly Shore Is Dead was written and directed by Shore himself and features an impressive list of celebrity cameos including Chris Rock, Sean Penn, Ellen DeGeneres, Britney Spears, Vince Vaughn, Andy Dick, Paris Hilton, and lots more.",
         "R",
         "Comedy",
         "Pauly Shore",
         "Pauly Shore|Kirk Fox",
         "Mar 11, 2003",
         "Jan 25, 2005",
         null,
         null,
         "82 minutes",
         "Regent Releasing"
        ],
        [
         "45",
         "Hawaiian surfer dudes Stew (Steve Van Wormer) and Phil Deedle (Paul Walker), fraternal twins, are about to be expelled from school, so their wealthy and concerned father (Eric Braeden) offers summer camp in Wyoming as a solution. Arriving in Jackson Hole with their wet suits, the Deedle twins are like fish out of water, and a series of accidents put them in a hospital. Mistaken for new recruits by Yellowstone Park ranger Capt. Pine (Douglas Ashton), the duo go along with the error after meeting their training officer, the attractive Lt. Jesse Ryan (A.J. Langer), but they are unprepared to adapt to life in the wild, as they cope with mountainside rappelling, sleeping in tents, eating worms, and dealing with hordes of prairie dogs unleashed by ex-ranger Frank Slater (Dennis Hopper), who seeks vengeance for his past problems in the park. There are several pop-culture references, including a cameo by Bart the Bear (of The Edge).",
         "PG",
         "Comedy|Kids and Family",
         "Steve Boyum",
         "Jim Herzfeld|Dale Pollock",
         null,
         null,
         null,
         null,
         "92 minutes",
         null
        ],
        [
         "46",
         "Six guys with nothing left to lose try losing their clothing for fun and profit in this international hit comedy. Gaz (Robert Carlyle) and Dave (Mark Addy) are two former steelworkers in the British industrial town of Sheffield who have been devastated by the economic downturn in their community. Gaz is threatened with losing visitation rights with his son if he can't pay his child support, while Dave feels emasculated by his inability to support his wife. One day, Gaz stops by a local pub for a drink and is told it's women only tonight -- the Chippendales male exotic dancing troupe is playing, and they are demanding a hefty cover charge. Gaz decides there's nothing a bunch of pantywaists from America can do that he and his pals can't do better, and decides to form his own crew of male strippers, called \"Hard Steel.\" However, the local talent pool leaves a bit to be desired. Gaz isn't bad looking, but Dave is a bit heavy and very self conscious about it. Horse (Paul Barber) was probably hot stuff at Soul Night in the mid-70's, but his joints don't move like they used to. Guy (Hugo Speer) can't dance to save his life, but makes the troupe because ... well, let's say he and Dirk Diggler would have a lot to say to each other. Lomper (Steve Huison) is sometimes too busy attempting suicide to practice. And Gerald (Tom Wilkinson), their choreographer, isn't much on male exotic dancing -- ballroom dancing is more his speed. While \"Hard Steel\"'s performances are more amusing then enticing, for the first time since they lost their jobs the men have a reason to get up in the morning; joining the group has given them a circle of friendship, and a renewed sense of purpose. Combining broad comedy with believable and well-drawn characters, The Full Monty was a major box-office hit both in England and the United States and was nominated for Academy Awards as Best Picture, Best Director, and Best Original Screenplay.",
         "R",
         "Comedy|Musical and Performing Arts",
         "Peter Cattaneo",
         "Simon Beaufoy|Simon Beaufor",
         "Aug 13, 1997",
         "Nov 2, 1999",
         null,
         null,
         "91 minutes",
         null
        ],
        [
         "48",
         "To fully enjoy the rugged outdoors adventure The Mountain, one must accept the notion that 55-year-old Spencer Tracy and 25-year-old Robert Wagner are brothers. Tracy plays veteran mountain guide Zachary Wheeler, who is coaxed out of retirement when a passenger plane crashes on high mountain. He decides it isn't worth risking his life to recover the bodies of the passengers, but hot-headed younger brother Chris (Robert Wagner), hoping to claim the victims' valuables, talks Zachary into accompanying him to the mountaintop. After their treacherous upward journey, the brothers discover that one of the passengers, a Hindu girl (Anna Kashfi), is still alive. Zachary wants to bring her back to safety, but the greedy Chris would rather abandon her and make off with the valuables. It is, inevitable, then, that not everyone involved is going to get off the mountain alive. A worthwhile character study enhanced by superb location photography, The Mountain is compromised by its overreliance on phony-looking studio \"exteriors\".",
         "NR",
         "Action and Adventure|Drama|Western",
         "Edward Dmytryk",
         "Ranald MacDougall",
         null,
         null,
         null,
         null,
         "73 minutes",
         null
        ],
        [
         "49",
         "Two gorgeous women -- Donna (Dona Speir) and Taryn (Hope Marie Carlton) -- operate a airplane cargo delivery service in Hawaii. Their latest shipment includes a very large, very nasty snake destined for the local zoo. But the delivery is interrupted when they stumble on a cache of diamonds that were to go to a ruthless drug dealer, Seth (Rodrigo Obregon). Seth sends a transvestite to kidnap the owner of a restaurant, Edy (Cynthia Brimhall), so his men can torture her with a female bodybuilder into revealing where Donna and Taryn are. Luckily for all the good guys, Special Agent Rowdy Abilene (Ronn Moss) has a bazooka, and he knows how to use it. And unluckily for Seth, that nasty snake has broken out of its box.",
         "R",
         "Action and Adventure|Comedy|Mystery and Suspense",
         "Andy Sidaris",
         "Andy Sidaris",
         null,
         null,
         null,
         null,
         "100 minutes",
         null
        ],
        [
         "50",
         "A New York City police officer (Don Murray) uses brutal methods to dispose of a would-be mugger (James Earl Jones) and then entreats the mugger's victim (Diahn Williams) to keep the affair a secret. While initially agreeing, she begins to suspect that he's holding something back.",
         "R",
         "Action and Adventure|Drama",
         "Ivan Nagy",
         "Don Petersen|George Wislocki",
         null,
         null,
         null,
         null,
         "99 minutes",
         null
        ],
        [
         "51",
         "Wait Until Dark is an innovative, highly entertaining and suspenseful thriller about a blind housewife, Susy Hendrix (Audrey Hepburn). Independent and resourceful, Susy is learning to cope with her blindness, which resulted from a recent accident. She is aided by her difficult, slightly unreliable young neighbor Gloria (Julie Herrod) with whom she has an exasperated but lovingly maternal relationship. Susy's life is changed as she is terrorized by a group of criminals who believe she has hidden a baby doll used by them to smuggle heroin into the country. Unknown to Susy, her photographer husband Sam (Efrem Zimbalist Jr.) took the doll as a favor for a woman he met on an international plane flight and unwittingly brought the doll to the couple's New York apartment when the woman became afraid of the customs officials. Alone in her apartment and cut-off from the outside world, Susy must fight for her life against a gang of ruthless criminals, led by the violent, psychotic Roat (Alan Arkin). The tension builds as Roat, aided by his gang, impersonates police officers and friends of her husband in order to win Susy's confidence, gaining access to her apartment to look for the doll. The climax of the film, a violent physical confrontation between Susie and Roat in her dark kitchen, is one of the most memorable and frightening scenes in screen history. All performances are outstanding, particularly those of Audrey Hepburn who plays a vulnerable, but self-reliant woman, and Alan Arkin, in perhaps his best role, as the ruthless, manipulative Roat.",
         "NR",
         "Mystery and Suspense",
         "Terence Young",
         "Jane-Howard Carrington|Robert Carrington",
         "Oct 26, 1967",
         "Aug 5, 2003",
         null,
         null,
         "108 minutes",
         null
        ],
        [
         "52",
         "This offbeat romantic comedy has some rather dark underpinnings that add, rather than detract from the fun. It is the story of Lucy, an extremely lonely young woman who works as a toll-taker for the Chicago Transit Authority. She is secretly in love with a handsome stranger in a camel-hair coat who passes by her every day but never even says hello to her. Just before Christmas, she is at work when she sees her \"love\" pushed, mugged and shoved off the train platform. Without hesitation she leaps down to pull the unconscious fellow out of the path of a speeding train. Later in the hospital, a series of complex misunderstandings occur and the woman is mistaken for the man's fiancee. As he is deeply comatose, Lucy goes along with it, much to the delight of the man's loud, dysfunctional family. Lucy has no real family, and she is happy to be a part of his strange brood. To make sure she stays, she decides to take certain liberties with her sleeping husband-to-be. Meanwhile, she and the patient's brother find themselves drawn to each other.",
         "PG",
         "Comedy|Drama|Romance",
         "Jon Turteltaub",
         null,
         "Apr 21, 1995",
         "Feb 3, 1998",
         null,
         null,
         "103 minutes",
         null
        ],
        [
         "53",
         "La autobiograf",
         "PG",
         "Drama|Romance",
         null,
         null,
         null,
         null,
         null,
         null,
         "112 minutes",
         null
        ],
        [
         "54",
         "Journalist Jep Gambardella (the dazzling Toni Servillo, Il divo and Gomorrah) has charmed and seduced his way through the lavish nightlife of Rome for decades. Since the legendary success of his one and only novel, he has been a permanent fixture in the city's literary and social circles, but when his sixty-fifth birthday coincides with a shock from the past, Jep finds himself unexpectedly taking stock of his life, turning his cutting wit on himself and his contemporaries, and looking past the extravagant nightclubs, parties, and caf",
         "NR",
         "Comedy|Drama",
         "Paolo Sorrentino",
         "Paolo Sorrentino|Umberto Contarello",
         "Nov 15, 2013",
         "Mar 25, 2014",
         null,
         null,
         "142 minutes",
         "Janus Films"
        ],
        [
         "55",
         "A progressive scientist builds a machine that allows him time travel in this adaptation of the classic from H.G. Wells.",
         "NR",
         "Action and Adventure|Science Fiction and Fantasy",
         "Henning Schellerup",
         null,
         null,
         null,
         null,
         null,
         "99 minutes",
         null
        ],
        [
         "56",
         "Albert Hughes and his brother Allen Hughes followed their striking debut Menace II Society with this ambitious look at the social and political lives of the African-American community in the late 1960s and early 1970s. Anthony Curtis (Larenz Tate) is a young man coming of age in the Bronx in 1968. Working two part-time jobs -- one as a milkman's helper and another for local numbers runner Kirby (Keith David) -- Anthony is torn between doing the right thing and trying to get by in a environment that offers few opportunities to young black men. After graduating from high school, Anthony decides to join the Marines, news that is not well-received by his parents, who want him to go to college, or his girlfriend Juanita (Rose Jackson), with whom Anthony recently lost his virginity. After serving a horrific tour of duty in Viet Nam with his friends Skip (Chris Tucker) and Jose (Freddy Rodriguez), Anthony finds himself back home in 1973, where Juanita has been raising the child he fathered before he shipped out, drugs and crime have crippled his community, and honest job prospects are practically nil. Eventually, Anthony falls in with Kirby, Skip, and Jose, who have teamed with Juanita's sister Delilah (N'Bushe Wright), a Black Power activist, and Cleon (Bokeem Woodbine), in a scheme to rob an armored truck taking worn greenbacks (\"dead presidents\") to a mint to be destroyed. Martin Sheen and Seymour Cassel appear unbilled in small roles.",
         "R",
         "Drama",
         "Allen Hughes|Albert Hughes",
         "Michael Henry Brown|Albert Hughes|Allen Hughes",
         "Oct 6, 1995",
         "May 19, 1998",
         null,
         null,
         "119 minutes",
         null
        ],
        [
         "57",
         "Life doesn't always go according to plan. Pat Solatano (Bradley Cooper) has lost everything -- his house, his job, and his wife. He now finds himself living back with his mother (Jacki Weaver) and father (Robert DeNiro) after spending eight months is a state institution on a plea bargain. Pat is determined to rebuild his life, remain positive and reunite with his wife, despite the challenging circumstances of their separation. All Pat's parents want is for him to get back on his feet-and to share their family's obsession with the Philadelphia Eagles football team. When Pat meets Tiffany (Jennifer Lawrence), a mysterious girl with problems of her own, things get complicated. Tiffany offers to help Pat reconnect with his wife, but only if he'll do something very important for her in return. As their deal plays out, an unexpected bond begins to form between them, and silver linings appear in both of their lives. -- (C) Weinstein",
         "R",
         "Comedy",
         null,
         null,
         "Nov 21, 2012",
         "Apr 30, 2013",
         "$",
         "132,088,910",
         "122 minutes",
         "The Weinstein Company"
        ],
        [
         "58",
         "A smaller, amusing comedy from writer/director Woody Allen, Broadway Danny Rose begins with a bunch of show business vets sitting around a table at New York's Carnegie Deli and reminiscing about the legendary titular character, a loser of an agent who would represent anyone, including blind xylophonists, piano-playing birds, and has-been crooners with drinking problems. Allen plays Rose as a befuddled, warm-hearted schlub who finally has a shot at getting somewhere when he signs washed-up lounge singer Lou Canova (Nick Apollo Forte) and nearly brings his career back to life. Danny gets him a date at the Waldorf, where Milton Berle is in the audience, looking for guests for his TV special. Canova has a complicated love life, juggling both a wife and a girlfriend. so he enlists Danny to take the girlfriend, Tina Vitale (Mia Farrow), to the concert. But Canova and Tina have a fight, she goes back to her Mafioso boyfriend, and Danny winds up getting chased halfway around New York and New Jersey by the Mob. And of course, once Canova gets his big break, he dumps Danny for another agent. Allen, Forte, and especially Farrow all do strong work with characters that could have easily become stereotypes, and the film has a lighter, warmer touch than the Allen films that preceded it (Stardust Memories and Zelig).",
         "PG",
         "Comedy|Romance",
         "Woody Allen",
         "Woody Allen",
         "Jan 27, 1984",
         "Nov 6, 2001",
         null,
         null,
         "86 minutes",
         null
        ],
        [
         "59",
         "Set in the northern province of Shandong during the 1920s and early 30s, a young bride, on her way to a prearranged future with the leprous owner of a wine distillery, avoids rape and then abduction, is seduced, takes over her mysteriously dead husband's business, is captured, then ransomed and ultimately perishes during the Manchurian invasion by the Japanese.",
         "NR",
         "Art House and International|Drama",
         "Yimou Zhang",
         null,
         null,
         null,
         null,
         null,
         "91 minutes",
         null
        ],
        [
         "60",
         "In 1982, Crippen High School was the scene of a gruesome series of dismemberment murders, but the killer was never identified. Five years later, Cosmic Pictures arrives at the long-abandoned campus to make a low-budget horror movie based on the tragedy, and suddenly the terror begins anew. The police department arrives at the school to find the building and grounds covered in gore and human body parts, the remains of the unfortunate film crew. The only survivor of this new massacre is the screenwriter, Arthur (Richard Brestoff), who tries to explain the horrifying events to the authorities. The troubled production's leading lady is angered over the demeaning nature of her role, the producer and director argue over the film's lack of artistic merits, and when cast members start disappearing, everyone else assumes that they're just quitting out of disgust. Who is the culprit? Is it the school's principal, appearing as himself in the film for the sake of realism? The janitor, who hopes to parlay his cameo into a pornography career? Or maybe Steven (Brendan Hughes), who was a student at Crippen during the original murder spree and finds himself reluctantly cast as the hero? This self-referential slasher parody features George Clooney in a small part as the film's first victim, and The Brady Bunch's Maureen McCormick as a policewoman with a lust for blood and hot dogs.",
         "R",
         "Horror",
         "Bill Froehlich",
         null,
         "Jan 1, 1987",
         "Nov 27, 2001",
         null,
         null,
         "95 minutes",
         null
        ],
        [
         "61",
         "Death once again shows he's determined to get what he wants in this teen-centric thriller. Wendy (Mary Elizabeth Winstead) is a high school student hanging out with her friends at an amusement park one night when they decide to ride on the roller coaster. Wendy, however, has a premonition that something horrible will happen, and finds a way to save herself shortly before the ride goes off the rails, killing most of its passengers, including her boyfriend, Jason (Jesse Moss), and best friend, Carrie (Gina Holden). However, while Wendy may have survived the night at the park, she soon discovers that a malevolent spirit is following her and her classmates as they begin dying in strange and horrible ways. Wendy learns that a series of snapshots taken that evening give clues to the mayhem that followed her pals, and she teams up with Kevin (Ryan Merriman), Carrie's sweetheart, to try to warn the potential victims about the fates soon to befall them. Final Destination 3 was directed and co-scripted by James Wong, who also helmed the first two films in the franchise.",
         "R",
         "Action and Adventure|Drama|Horror|Mystery and Suspense",
         "James Wong",
         "James Wong|Glen Morgan",
         "Feb 10, 2006",
         "Jul 25, 2006",
         "$",
         "54,100,000",
         "93 minutes",
         "New Line Cinema"
        ],
        [
         "63",
         "A policeman plays Good Samaritan to a visitor from Ireland, only to discover that he has a potentially deadly secret. Belfast-born Frankie McGuire (Brad Pitt) saw his father gunned down by enemy soldiers at the age of eight, and when he grew up he joined the Irish Republican Army, determined that one day his father's death would be avenged. An especially ruthless \"volunteer,\" Frankie is responsible for the death of 13 British soldiers and 11 policemen. After a particularly bloody battle, Frankie sails to the United States in a ragged tugboat he has restored; with a huge bundle of cash, Frankie intends to buy a stock of Stinger missiles from an underground arms dealer in America, Billy Burke (Treat Williams). Upon arrival in New York, Frankie is met by a judge who is sympathetic to the IRA's cause and who arranges a place for him to stay. Using the name Rory Devaney, Frankie moves into the home of Tom O'Meara (Harrison Ford), a scrupulously honest cop. Tom is already in the midst of a personal crisis; his friend and partner Edwin Diaz (Ruben Blades) recently shot a man that he knew was unarmed in the line of duty, and while Edwin wants Tom to help him cover up the matter, Tom's conscience will not allow it. When Tom begins to realize that \"Rory\" is not simply a man running from the violence of his homeland, he's torn between his sympathy for Frankie's tragic childhood and his desire to see justice served and prevent needless death in Ireland.",
         "R",
         "Action and Adventure|Drama|Mystery and Suspense",
         null,
         "David Aaron Cohen|Kevin Jarre|Vincent Patrick|Robin Squibb|Karen Wookey|Gary Capo",
         "Mar 26, 1997",
         "Feb 24, 1998",
         null,
         null,
         "111 minutes",
         null
        ]
       ],
       "shape": {
        "columns": 11,
        "rows": 1560
       }
      },
      "text/html": [
       "<div>\n",
       "<style scoped>\n",
       "    .dataframe tbody tr th:only-of-type {\n",
       "        vertical-align: middle;\n",
       "    }\n",
       "\n",
       "    .dataframe tbody tr th {\n",
       "        vertical-align: top;\n",
       "    }\n",
       "\n",
       "    .dataframe thead th {\n",
       "        text-align: right;\n",
       "    }\n",
       "</style>\n",
       "<table border=\"1\" class=\"dataframe\">\n",
       "  <thead>\n",
       "    <tr style=\"text-align: right;\">\n",
       "      <th></th>\n",
       "      <th>synopsis</th>\n",
       "      <th>rating</th>\n",
       "      <th>genre</th>\n",
       "      <th>director</th>\n",
       "      <th>writer</th>\n",
       "      <th>theater_date</th>\n",
       "      <th>dvd_date</th>\n",
       "      <th>currency</th>\n",
       "      <th>box_office</th>\n",
       "      <th>runtime</th>\n",
       "      <th>studio</th>\n",
       "    </tr>\n",
       "    <tr>\n",
       "      <th>id</th>\n",
       "      <th></th>\n",
       "      <th></th>\n",
       "      <th></th>\n",
       "      <th></th>\n",
       "      <th></th>\n",
       "      <th></th>\n",
       "      <th></th>\n",
       "      <th></th>\n",
       "      <th></th>\n",
       "      <th></th>\n",
       "      <th></th>\n",
       "    </tr>\n",
       "  </thead>\n",
       "  <tbody>\n",
       "    <tr>\n",
       "      <th>1</th>\n",
       "      <td>This gritty, fast-paced, and innovative police...</td>\n",
       "      <td>R</td>\n",
       "      <td>Action and Adventure|Classics|Drama</td>\n",
       "      <td>William Friedkin</td>\n",
       "      <td>Ernest Tidyman</td>\n",
       "      <td>Oct 9, 1971</td>\n",
       "      <td>Sep 25, 2001</td>\n",
       "      <td>NaN</td>\n",
       "      <td>NaN</td>\n",
       "      <td>104 minutes</td>\n",
       "      <td>NaN</td>\n",
       "    </tr>\n",
       "    <tr>\n",
       "      <th>3</th>\n",
       "      <td>New York City, not-too-distant-future: Eric Pa...</td>\n",
       "      <td>R</td>\n",
       "      <td>Drama|Science Fiction and Fantasy</td>\n",
       "      <td>David Cronenberg</td>\n",
       "      <td>David Cronenberg|Don DeLillo</td>\n",
       "      <td>Aug 17, 2012</td>\n",
       "      <td>Jan 1, 2013</td>\n",
       "      <td>$</td>\n",
       "      <td>600,000</td>\n",
       "      <td>108 minutes</td>\n",
       "      <td>Entertainment One</td>\n",
       "    </tr>\n",
       "    <tr>\n",
       "      <th>5</th>\n",
       "      <td>Illeana Douglas delivers a superb performance ...</td>\n",
       "      <td>R</td>\n",
       "      <td>Drama|Musical and Performing Arts</td>\n",
       "      <td>Allison Anders</td>\n",
       "      <td>Allison Anders</td>\n",
       "      <td>Sep 13, 1996</td>\n",
       "      <td>Apr 18, 2000</td>\n",
       "      <td>NaN</td>\n",
       "      <td>NaN</td>\n",
       "      <td>116 minutes</td>\n",
       "      <td>NaN</td>\n",
       "    </tr>\n",
       "    <tr>\n",
       "      <th>6</th>\n",
       "      <td>Michael Douglas runs afoul of a treacherous su...</td>\n",
       "      <td>R</td>\n",
       "      <td>Drama|Mystery and Suspense</td>\n",
       "      <td>Barry Levinson</td>\n",
       "      <td>Paul Attanasio|Michael Crichton</td>\n",
       "      <td>Dec 9, 1994</td>\n",
       "      <td>Aug 27, 1997</td>\n",
       "      <td>NaN</td>\n",
       "      <td>NaN</td>\n",
       "      <td>128 minutes</td>\n",
       "      <td>NaN</td>\n",
       "    </tr>\n",
       "    <tr>\n",
       "      <th>7</th>\n",
       "      <td>NaN</td>\n",
       "      <td>NR</td>\n",
       "      <td>Drama|Romance</td>\n",
       "      <td>Rodney Bennett</td>\n",
       "      <td>Giles Cooper</td>\n",
       "      <td>NaN</td>\n",
       "      <td>NaN</td>\n",
       "      <td>NaN</td>\n",
       "      <td>NaN</td>\n",
       "      <td>200 minutes</td>\n",
       "      <td>NaN</td>\n",
       "    </tr>\n",
       "    <tr>\n",
       "      <th>...</th>\n",
       "      <td>...</td>\n",
       "      <td>...</td>\n",
       "      <td>...</td>\n",
       "      <td>...</td>\n",
       "      <td>...</td>\n",
       "      <td>...</td>\n",
       "      <td>...</td>\n",
       "      <td>...</td>\n",
       "      <td>...</td>\n",
       "      <td>...</td>\n",
       "      <td>...</td>\n",
       "    </tr>\n",
       "    <tr>\n",
       "      <th>1996</th>\n",
       "      <td>Forget terrorists or hijackers -- there's a ha...</td>\n",
       "      <td>R</td>\n",
       "      <td>Action and Adventure|Horror|Mystery and Suspense</td>\n",
       "      <td>NaN</td>\n",
       "      <td>NaN</td>\n",
       "      <td>Aug 18, 2006</td>\n",
       "      <td>Jan 2, 2007</td>\n",
       "      <td>$</td>\n",
       "      <td>33,886,034</td>\n",
       "      <td>106 minutes</td>\n",
       "      <td>New Line Cinema</td>\n",
       "    </tr>\n",
       "    <tr>\n",
       "      <th>1997</th>\n",
       "      <td>The popular Saturday Night Live sketch was exp...</td>\n",
       "      <td>PG</td>\n",
       "      <td>Comedy|Science Fiction and Fantasy</td>\n",
       "      <td>Steve Barron</td>\n",
       "      <td>Terry Turner|Tom Davis|Dan Aykroyd|Bonnie Turner</td>\n",
       "      <td>Jul 23, 1993</td>\n",
       "      <td>Apr 17, 2001</td>\n",
       "      <td>NaN</td>\n",
       "      <td>NaN</td>\n",
       "      <td>88 minutes</td>\n",
       "      <td>Paramount Vantage</td>\n",
       "    </tr>\n",
       "    <tr>\n",
       "      <th>1998</th>\n",
       "      <td>Based on a novel by Richard Powell, when the l...</td>\n",
       "      <td>G</td>\n",
       "      <td>Classics|Comedy|Drama|Musical and Performing Arts</td>\n",
       "      <td>Gordon Douglas</td>\n",
       "      <td>NaN</td>\n",
       "      <td>Jan 1, 1962</td>\n",
       "      <td>May 11, 2004</td>\n",
       "      <td>NaN</td>\n",
       "      <td>NaN</td>\n",
       "      <td>111 minutes</td>\n",
       "      <td>NaN</td>\n",
       "    </tr>\n",
       "    <tr>\n",
       "      <th>1999</th>\n",
       "      <td>The Sandlot is a coming-of-age story about a g...</td>\n",
       "      <td>PG</td>\n",
       "      <td>Comedy|Drama|Kids and Family|Sports and Fitness</td>\n",
       "      <td>David Mickey Evans</td>\n",
       "      <td>David Mickey Evans|Robert Gunter</td>\n",
       "      <td>Apr 1, 1993</td>\n",
       "      <td>Jan 29, 2002</td>\n",
       "      <td>NaN</td>\n",
       "      <td>NaN</td>\n",
       "      <td>101 minutes</td>\n",
       "      <td>NaN</td>\n",
       "    </tr>\n",
       "    <tr>\n",
       "      <th>2000</th>\n",
       "      <td>Suspended from the force, Paris cop Hubert is ...</td>\n",
       "      <td>R</td>\n",
       "      <td>Action and Adventure|Art House and Internation...</td>\n",
       "      <td>NaN</td>\n",
       "      <td>Luc Besson</td>\n",
       "      <td>Sep 27, 2001</td>\n",
       "      <td>Feb 11, 2003</td>\n",
       "      <td>NaN</td>\n",
       "      <td>NaN</td>\n",
       "      <td>94 minutes</td>\n",
       "      <td>Columbia Pictures</td>\n",
       "    </tr>\n",
       "  </tbody>\n",
       "</table>\n",
       "<p>1560 rows × 11 columns</p>\n",
       "</div>"
      ],
      "text/plain": [
       "                                               synopsis rating  \\\n",
       "id                                                               \n",
       "1     This gritty, fast-paced, and innovative police...      R   \n",
       "3     New York City, not-too-distant-future: Eric Pa...      R   \n",
       "5     Illeana Douglas delivers a superb performance ...      R   \n",
       "6     Michael Douglas runs afoul of a treacherous su...      R   \n",
       "7                                                   NaN     NR   \n",
       "...                                                 ...    ...   \n",
       "1996  Forget terrorists or hijackers -- there's a ha...      R   \n",
       "1997  The popular Saturday Night Live sketch was exp...     PG   \n",
       "1998  Based on a novel by Richard Powell, when the l...      G   \n",
       "1999  The Sandlot is a coming-of-age story about a g...     PG   \n",
       "2000  Suspended from the force, Paris cop Hubert is ...      R   \n",
       "\n",
       "                                                  genre            director  \\\n",
       "id                                                                            \n",
       "1                   Action and Adventure|Classics|Drama    William Friedkin   \n",
       "3                     Drama|Science Fiction and Fantasy    David Cronenberg   \n",
       "5                     Drama|Musical and Performing Arts      Allison Anders   \n",
       "6                            Drama|Mystery and Suspense      Barry Levinson   \n",
       "7                                         Drama|Romance      Rodney Bennett   \n",
       "...                                                 ...                 ...   \n",
       "1996   Action and Adventure|Horror|Mystery and Suspense                 NaN   \n",
       "1997                 Comedy|Science Fiction and Fantasy        Steve Barron   \n",
       "1998  Classics|Comedy|Drama|Musical and Performing Arts      Gordon Douglas   \n",
       "1999    Comedy|Drama|Kids and Family|Sports and Fitness  David Mickey Evans   \n",
       "2000  Action and Adventure|Art House and Internation...                 NaN   \n",
       "\n",
       "                                                writer  theater_date  \\\n",
       "id                                                                     \n",
       "1                                       Ernest Tidyman   Oct 9, 1971   \n",
       "3                         David Cronenberg|Don DeLillo  Aug 17, 2012   \n",
       "5                                       Allison Anders  Sep 13, 1996   \n",
       "6                      Paul Attanasio|Michael Crichton   Dec 9, 1994   \n",
       "7                                         Giles Cooper           NaN   \n",
       "...                                                ...           ...   \n",
       "1996                                               NaN  Aug 18, 2006   \n",
       "1997  Terry Turner|Tom Davis|Dan Aykroyd|Bonnie Turner  Jul 23, 1993   \n",
       "1998                                               NaN   Jan 1, 1962   \n",
       "1999                  David Mickey Evans|Robert Gunter   Apr 1, 1993   \n",
       "2000                                        Luc Besson  Sep 27, 2001   \n",
       "\n",
       "          dvd_date currency  box_office      runtime             studio  \n",
       "id                                                                       \n",
       "1     Sep 25, 2001      NaN         NaN  104 minutes                NaN  \n",
       "3      Jan 1, 2013        $     600,000  108 minutes  Entertainment One  \n",
       "5     Apr 18, 2000      NaN         NaN  116 minutes                NaN  \n",
       "6     Aug 27, 1997      NaN         NaN  128 minutes                NaN  \n",
       "7              NaN      NaN         NaN  200 minutes                NaN  \n",
       "...            ...      ...         ...          ...                ...  \n",
       "1996   Jan 2, 2007        $  33,886,034  106 minutes    New Line Cinema  \n",
       "1997  Apr 17, 2001      NaN         NaN   88 minutes  Paramount Vantage  \n",
       "1998  May 11, 2004      NaN         NaN  111 minutes                NaN  \n",
       "1999  Jan 29, 2002      NaN         NaN  101 minutes                NaN  \n",
       "2000  Feb 11, 2003      NaN         NaN   94 minutes  Columbia Pictures  \n",
       "\n",
       "[1560 rows x 11 columns]"
      ]
     },
     "execution_count": 138,
     "metadata": {},
     "output_type": "execute_result"
    }
   ],
   "source": [
    "df_info"
   ]
  },
  {
   "cell_type": "markdown",
   "metadata": {},
   "source": [
    "The rotten tomato datasets may be one we decide to not use. Not only are the columns missing a lot of values, neither datasets have titles that we can tie the data to. Another option would be to instead just atribute the data to studios, but even the studio data is pretty sparse and missing a lot of data."
   ]
  },
  {
   "cell_type": "markdown",
   "metadata": {},
   "source": [
    "We need to figure out the structure of this database first. There are quite a few tables and the key that connects them is unknown. There might be data that isn't shown in the other datasets, such as principals, movie_akas, and known_for. So for now, we will explore those since the other tables likely have redundant data."
   ]
  },
  {
   "cell_type": "code",
   "execution_count": 139,
   "metadata": {},
   "outputs": [
    {
     "data": {
      "application/vnd.microsoft.datawrangler.viewer.v0+json": {
       "columns": [
        {
         "name": "index",
         "rawType": "int64",
         "type": "integer"
        },
        {
         "name": "name",
         "rawType": "object",
         "type": "string"
        }
       ],
       "conversionMethod": "pd.DataFrame",
       "ref": "5440c127-67dc-4e8e-ad0a-1ef8a341f599",
       "rows": [
        [
         "0",
         "movie_basics"
        ],
        [
         "1",
         "directors"
        ],
        [
         "2",
         "known_for"
        ],
        [
         "3",
         "movie_akas"
        ],
        [
         "4",
         "movie_ratings"
        ],
        [
         "5",
         "persons"
        ],
        [
         "6",
         "principals"
        ],
        [
         "7",
         "writers"
        ]
       ],
       "shape": {
        "columns": 1,
        "rows": 8
       }
      },
      "text/html": [
       "<div>\n",
       "<style scoped>\n",
       "    .dataframe tbody tr th:only-of-type {\n",
       "        vertical-align: middle;\n",
       "    }\n",
       "\n",
       "    .dataframe tbody tr th {\n",
       "        vertical-align: top;\n",
       "    }\n",
       "\n",
       "    .dataframe thead th {\n",
       "        text-align: right;\n",
       "    }\n",
       "</style>\n",
       "<table border=\"1\" class=\"dataframe\">\n",
       "  <thead>\n",
       "    <tr style=\"text-align: right;\">\n",
       "      <th></th>\n",
       "      <th>name</th>\n",
       "    </tr>\n",
       "  </thead>\n",
       "  <tbody>\n",
       "    <tr>\n",
       "      <th>0</th>\n",
       "      <td>movie_basics</td>\n",
       "    </tr>\n",
       "    <tr>\n",
       "      <th>1</th>\n",
       "      <td>directors</td>\n",
       "    </tr>\n",
       "    <tr>\n",
       "      <th>2</th>\n",
       "      <td>known_for</td>\n",
       "    </tr>\n",
       "    <tr>\n",
       "      <th>3</th>\n",
       "      <td>movie_akas</td>\n",
       "    </tr>\n",
       "    <tr>\n",
       "      <th>4</th>\n",
       "      <td>movie_ratings</td>\n",
       "    </tr>\n",
       "    <tr>\n",
       "      <th>5</th>\n",
       "      <td>persons</td>\n",
       "    </tr>\n",
       "    <tr>\n",
       "      <th>6</th>\n",
       "      <td>principals</td>\n",
       "    </tr>\n",
       "    <tr>\n",
       "      <th>7</th>\n",
       "      <td>writers</td>\n",
       "    </tr>\n",
       "  </tbody>\n",
       "</table>\n",
       "</div>"
      ],
      "text/plain": [
       "            name\n",
       "0   movie_basics\n",
       "1      directors\n",
       "2      known_for\n",
       "3     movie_akas\n",
       "4  movie_ratings\n",
       "5        persons\n",
       "6     principals\n",
       "7        writers"
      ]
     },
     "execution_count": 139,
     "metadata": {},
     "output_type": "execute_result"
    }
   ],
   "source": [
    "pd.read_sql(\n",
    "\"\"\"\n",
    "SELECT name\n",
    "FROM sqlite_master\n",
    "WHERE type='table'            \n",
    "\"\"\", conn)"
   ]
  },
  {
   "cell_type": "markdown",
   "metadata": {},
   "source": [
    "It seems like in these databases, people are not referred to by name, instead by an id that will link them to another table. In any case, this table shows the people who worked on a movie, their roles, and potentially the characters name they played."
   ]
  },
  {
   "cell_type": "code",
   "execution_count": 140,
   "metadata": {},
   "outputs": [
    {
     "data": {
      "application/vnd.microsoft.datawrangler.viewer.v0+json": {
       "columns": [
        {
         "name": "index",
         "rawType": "int64",
         "type": "integer"
        },
        {
         "name": "movie_id",
         "rawType": "object",
         "type": "string"
        },
        {
         "name": "ordering",
         "rawType": "int64",
         "type": "integer"
        },
        {
         "name": "person_id",
         "rawType": "object",
         "type": "string"
        },
        {
         "name": "category",
         "rawType": "object",
         "type": "string"
        },
        {
         "name": "job",
         "rawType": "object",
         "type": "string"
        },
        {
         "name": "characters",
         "rawType": "object",
         "type": "string"
        }
       ],
       "conversionMethod": "pd.DataFrame",
       "ref": "7d1202c4-6284-438e-b122-6a46eeaaea9d",
       "rows": [
        [
         "0",
         "tt0111414",
         "1",
         "nm0246005",
         "actor",
         null,
         "[\"The Man\"]"
        ],
        [
         "1",
         "tt0111414",
         "2",
         "nm0398271",
         "director",
         null,
         null
        ],
        [
         "2",
         "tt0111414",
         "3",
         "nm3739909",
         "producer",
         "producer",
         null
        ],
        [
         "3",
         "tt0323808",
         "10",
         "nm0059247",
         "editor",
         null,
         null
        ],
        [
         "4",
         "tt0323808",
         "1",
         "nm3579312",
         "actress",
         null,
         "[\"Beth Boothby\"]"
        ],
        [
         "5",
         "tt0323808",
         "2",
         "nm2694680",
         "actor",
         null,
         "[\"Steve Thomson\"]"
        ],
        [
         "6",
         "tt0323808",
         "3",
         "nm0574615",
         "actor",
         null,
         "[\"Sir Lachlan Morrison\"]"
        ],
        [
         "7",
         "tt0323808",
         "4",
         "nm0502652",
         "actress",
         null,
         "[\"Lady Delia Morrison\"]"
        ],
        [
         "8",
         "tt0323808",
         "5",
         "nm0362736",
         "director",
         null,
         null
        ],
        [
         "9",
         "tt0323808",
         "6",
         "nm0811056",
         "producer",
         "producer",
         null
        ],
        [
         "10",
         "tt0323808",
         "7",
         "nm0914939",
         "producer",
         "producer",
         null
        ],
        [
         "11",
         "tt0323808",
         "8",
         "nm0779346",
         "composer",
         null,
         null
        ],
        [
         "12",
         "tt0323808",
         "9",
         "nm0676104",
         "cinematographer",
         null,
         null
        ],
        [
         "13",
         "tt0417610",
         "10",
         "nm0284261",
         "composer",
         null,
         null
        ],
        [
         "14",
         "tt0417610",
         "1",
         "nm0532721",
         "actor",
         null,
         "[\"Lucio\"]"
        ],
        [
         "15",
         "tt0417610",
         "2",
         "nm0330974",
         "actress",
         null,
         "[\"Diana\"]"
        ],
        [
         "16",
         "tt0417610",
         "3",
         "nm0069209",
         "actor",
         null,
         "[\"Dr. Samaniego\"]"
        ],
        [
         "17",
         "tt0417610",
         "4",
         "nm0679167",
         "actress",
         null,
         "[\"Adriana María\"]"
        ],
        [
         "18",
         "tt0417610",
         "5",
         "nm1145057",
         "director",
         null,
         null
        ],
        [
         "19",
         "tt0417610",
         "6",
         "nm0083201",
         "writer",
         "story",
         null
        ],
        [
         "20",
         "tt0417610",
         "7",
         "nm0147416",
         "producer",
         "producer",
         null
        ],
        [
         "21",
         "tt0417610",
         "8",
         "nm0215732",
         "producer",
         "producer",
         null
        ],
        [
         "22",
         "tt0417610",
         "9",
         "nm1900304",
         "producer",
         "producer",
         null
        ],
        [
         "23",
         "tt0469152",
         "10",
         "nm3745712",
         "editor",
         null,
         null
        ],
        [
         "24",
         "tt0469152",
         "1",
         "nm0036109",
         "actress",
         null,
         "[\"Eleanor Jordan\"]"
        ],
        [
         "25",
         "tt0469152",
         "2",
         "nm0005253",
         "actress",
         null,
         "[\"Diana Whelan\"]"
        ],
        [
         "26",
         "tt0469152",
         "3",
         "nm0002090",
         "actor",
         null,
         "[\"Anson\"]"
        ],
        [
         "27",
         "tt0469152",
         "4",
         "nm1469262",
         "actor",
         null,
         "[\"Jack Jordan Jr.\"]"
        ],
        [
         "28",
         "tt0469152",
         "5",
         "nm0707738",
         "director",
         null,
         null
        ],
        [
         "29",
         "tt0469152",
         "6",
         "nm0071770",
         "writer",
         null,
         null
        ],
        [
         "30",
         "tt0469152",
         "7",
         "nm1165122",
         "producer",
         "producer",
         null
        ],
        [
         "31",
         "tt0469152",
         "8",
         "nm4458962",
         "composer",
         null,
         null
        ],
        [
         "32",
         "tt0469152",
         "9",
         "nm1013599",
         "cinematographer",
         null,
         null
        ],
        [
         "33",
         "tt0473032",
         "1",
         "nm2093546",
         "actor",
         null,
         "[\"Uncle Nimlash\"]"
        ],
        [
         "34",
         "tt0473032",
         "2",
         "nm0020804",
         "actor",
         null,
         "[\"Reverend Sun Amen Chill\"]"
        ],
        [
         "35",
         "tt0473032",
         "3",
         "nm0776090",
         "director",
         null,
         null
        ],
        [
         "36",
         "tt0475290",
         "10",
         "nm0005683",
         "cinematographer",
         "director of photography",
         null
        ],
        [
         "37",
         "tt0475290",
         "1",
         "nm0000982",
         "actor",
         null,
         "[\"Eddie Mannix\"]"
        ],
        [
         "38",
         "tt0475290",
         "2",
         "nm0000123",
         "actor",
         null,
         "[\"Baird Whitlock\"]"
        ],
        [
         "39",
         "tt0475290",
         "3",
         "nm2403277",
         "actor",
         null,
         "[\"Hobie Doyle\"]"
        ],
        [
         "40",
         "tt0475290",
         "4",
         "nm0000146",
         "actor",
         null,
         "[\"Laurence Laurentz\"]"
        ],
        [
         "41",
         "tt0475290",
         "5",
         "nm0001053",
         "director",
         null,
         null
        ],
        [
         "42",
         "tt0475290",
         "6",
         "nm0001054",
         "director",
         null,
         null
        ],
        [
         "43",
         "tt0475290",
         "7",
         "nm0079677",
         "producer",
         "producer",
         null
        ],
        [
         "44",
         "tt0475290",
         "8",
         "nm0271479",
         "producer",
         "producer",
         null
        ],
        [
         "45",
         "tt0475290",
         "9",
         "nm0001980",
         "composer",
         null,
         null
        ],
        [
         "46",
         "tt0477302",
         "10",
         "nm0579580",
         "cinematographer",
         "director of photography",
         null
        ],
        [
         "47",
         "tt0477302",
         "1",
         "nm4223385",
         "actor",
         null,
         "[\"Oskar Schell\"]"
        ],
        [
         "48",
         "tt0477302",
         "2",
         "nm0000158",
         "actor",
         null,
         "[\"Thomas Schell\"]"
        ],
        [
         "49",
         "tt0477302",
         "3",
         "nm0000113",
         "actress",
         null,
         "[\"Linda Schell\"]"
        ]
       ],
       "shape": {
        "columns": 6,
        "rows": 1028186
       }
      },
      "text/html": [
       "<div>\n",
       "<style scoped>\n",
       "    .dataframe tbody tr th:only-of-type {\n",
       "        vertical-align: middle;\n",
       "    }\n",
       "\n",
       "    .dataframe tbody tr th {\n",
       "        vertical-align: top;\n",
       "    }\n",
       "\n",
       "    .dataframe thead th {\n",
       "        text-align: right;\n",
       "    }\n",
       "</style>\n",
       "<table border=\"1\" class=\"dataframe\">\n",
       "  <thead>\n",
       "    <tr style=\"text-align: right;\">\n",
       "      <th></th>\n",
       "      <th>movie_id</th>\n",
       "      <th>ordering</th>\n",
       "      <th>person_id</th>\n",
       "      <th>category</th>\n",
       "      <th>job</th>\n",
       "      <th>characters</th>\n",
       "    </tr>\n",
       "  </thead>\n",
       "  <tbody>\n",
       "    <tr>\n",
       "      <th>0</th>\n",
       "      <td>tt0111414</td>\n",
       "      <td>1</td>\n",
       "      <td>nm0246005</td>\n",
       "      <td>actor</td>\n",
       "      <td>None</td>\n",
       "      <td>[\"The Man\"]</td>\n",
       "    </tr>\n",
       "    <tr>\n",
       "      <th>1</th>\n",
       "      <td>tt0111414</td>\n",
       "      <td>2</td>\n",
       "      <td>nm0398271</td>\n",
       "      <td>director</td>\n",
       "      <td>None</td>\n",
       "      <td>None</td>\n",
       "    </tr>\n",
       "    <tr>\n",
       "      <th>2</th>\n",
       "      <td>tt0111414</td>\n",
       "      <td>3</td>\n",
       "      <td>nm3739909</td>\n",
       "      <td>producer</td>\n",
       "      <td>producer</td>\n",
       "      <td>None</td>\n",
       "    </tr>\n",
       "    <tr>\n",
       "      <th>3</th>\n",
       "      <td>tt0323808</td>\n",
       "      <td>10</td>\n",
       "      <td>nm0059247</td>\n",
       "      <td>editor</td>\n",
       "      <td>None</td>\n",
       "      <td>None</td>\n",
       "    </tr>\n",
       "    <tr>\n",
       "      <th>4</th>\n",
       "      <td>tt0323808</td>\n",
       "      <td>1</td>\n",
       "      <td>nm3579312</td>\n",
       "      <td>actress</td>\n",
       "      <td>None</td>\n",
       "      <td>[\"Beth Boothby\"]</td>\n",
       "    </tr>\n",
       "    <tr>\n",
       "      <th>...</th>\n",
       "      <td>...</td>\n",
       "      <td>...</td>\n",
       "      <td>...</td>\n",
       "      <td>...</td>\n",
       "      <td>...</td>\n",
       "      <td>...</td>\n",
       "    </tr>\n",
       "    <tr>\n",
       "      <th>1028181</th>\n",
       "      <td>tt9692684</td>\n",
       "      <td>1</td>\n",
       "      <td>nm0186469</td>\n",
       "      <td>actor</td>\n",
       "      <td>None</td>\n",
       "      <td>[\"Ebenezer Scrooge\"]</td>\n",
       "    </tr>\n",
       "    <tr>\n",
       "      <th>1028182</th>\n",
       "      <td>tt9692684</td>\n",
       "      <td>2</td>\n",
       "      <td>nm4929530</td>\n",
       "      <td>self</td>\n",
       "      <td>None</td>\n",
       "      <td>[\"Herself\",\"Regan\"]</td>\n",
       "    </tr>\n",
       "    <tr>\n",
       "      <th>1028183</th>\n",
       "      <td>tt9692684</td>\n",
       "      <td>3</td>\n",
       "      <td>nm10441594</td>\n",
       "      <td>director</td>\n",
       "      <td>None</td>\n",
       "      <td>None</td>\n",
       "    </tr>\n",
       "    <tr>\n",
       "      <th>1028184</th>\n",
       "      <td>tt9692684</td>\n",
       "      <td>4</td>\n",
       "      <td>nm6009913</td>\n",
       "      <td>writer</td>\n",
       "      <td>writer</td>\n",
       "      <td>None</td>\n",
       "    </tr>\n",
       "    <tr>\n",
       "      <th>1028185</th>\n",
       "      <td>tt9692684</td>\n",
       "      <td>5</td>\n",
       "      <td>nm10441595</td>\n",
       "      <td>producer</td>\n",
       "      <td>producer</td>\n",
       "      <td>None</td>\n",
       "    </tr>\n",
       "  </tbody>\n",
       "</table>\n",
       "<p>1028186 rows × 6 columns</p>\n",
       "</div>"
      ],
      "text/plain": [
       "          movie_id  ordering   person_id  category       job  \\\n",
       "0        tt0111414         1   nm0246005     actor      None   \n",
       "1        tt0111414         2   nm0398271  director      None   \n",
       "2        tt0111414         3   nm3739909  producer  producer   \n",
       "3        tt0323808        10   nm0059247    editor      None   \n",
       "4        tt0323808         1   nm3579312   actress      None   \n",
       "...            ...       ...         ...       ...       ...   \n",
       "1028181  tt9692684         1   nm0186469     actor      None   \n",
       "1028182  tt9692684         2   nm4929530      self      None   \n",
       "1028183  tt9692684         3  nm10441594  director      None   \n",
       "1028184  tt9692684         4   nm6009913    writer    writer   \n",
       "1028185  tt9692684         5  nm10441595  producer  producer   \n",
       "\n",
       "                   characters  \n",
       "0                 [\"The Man\"]  \n",
       "1                        None  \n",
       "2                        None  \n",
       "3                        None  \n",
       "4            [\"Beth Boothby\"]  \n",
       "...                       ...  \n",
       "1028181  [\"Ebenezer Scrooge\"]  \n",
       "1028182   [\"Herself\",\"Regan\"]  \n",
       "1028183                  None  \n",
       "1028184                  None  \n",
       "1028185                  None  \n",
       "\n",
       "[1028186 rows x 6 columns]"
      ]
     },
     "execution_count": 140,
     "metadata": {},
     "output_type": "execute_result"
    }
   ],
   "source": [
    "pd.read_sql(\n",
    "\"\"\"\n",
    "SELECT *\n",
    "FROM principals\n",
    "\"\"\", conn)"
   ]
  },
  {
   "cell_type": "markdown",
   "metadata": {},
   "source": [
    "This table seems to be for movies that have different titles since they're in a different language. "
   ]
  },
  {
   "cell_type": "code",
   "execution_count": 141,
   "metadata": {},
   "outputs": [
    {
     "data": {
      "application/vnd.microsoft.datawrangler.viewer.v0+json": {
       "columns": [
        {
         "name": "index",
         "rawType": "int64",
         "type": "integer"
        },
        {
         "name": "movie_id",
         "rawType": "object",
         "type": "string"
        },
        {
         "name": "ordering",
         "rawType": "int64",
         "type": "integer"
        },
        {
         "name": "title",
         "rawType": "object",
         "type": "string"
        },
        {
         "name": "region",
         "rawType": "object",
         "type": "string"
        },
        {
         "name": "language",
         "rawType": "object",
         "type": "string"
        },
        {
         "name": "types",
         "rawType": "object",
         "type": "string"
        },
        {
         "name": "attributes",
         "rawType": "object",
         "type": "string"
        },
        {
         "name": "is_original_title",
         "rawType": "float64",
         "type": "float"
        }
       ],
       "conversionMethod": "pd.DataFrame",
       "ref": "c0576778-109d-4288-819c-23a277b4a8fc",
       "rows": [
        [
         "0",
         "tt0369610",
         "10",
         "Джурасик свят",
         "BG",
         "bg",
         null,
         null,
         "0.0"
        ],
        [
         "1",
         "tt0369610",
         "11",
         "Jurashikku warudo",
         "JP",
         null,
         "imdbDisplay",
         null,
         "0.0"
        ],
        [
         "2",
         "tt0369610",
         "12",
         "Jurassic World: O Mundo dos Dinossauros",
         "BR",
         null,
         "imdbDisplay",
         null,
         "0.0"
        ],
        [
         "3",
         "tt0369610",
         "13",
         "O Mundo dos Dinossauros",
         "BR",
         null,
         null,
         "short title",
         "0.0"
        ],
        [
         "4",
         "tt0369610",
         "14",
         "Jurassic World",
         "FR",
         null,
         "imdbDisplay",
         null,
         "0.0"
        ],
        [
         "5",
         "tt0369610",
         "15",
         "Jurassic World",
         "GR",
         null,
         "imdbDisplay",
         null,
         "0.0"
        ],
        [
         "6",
         "tt0369610",
         "16",
         "Jurassic World",
         "IT",
         null,
         "imdbDisplay",
         null,
         "0.0"
        ],
        [
         "7",
         "tt0369610",
         "17",
         "Jurski svijet",
         "HR",
         null,
         "imdbDisplay",
         null,
         "0.0"
        ],
        [
         "8",
         "tt0369610",
         "18",
         "Olam ha'Yura",
         "IL",
         "he",
         "imdbDisplay",
         null,
         "0.0"
        ],
        [
         "9",
         "tt0369610",
         "19",
         "Jurassic World: Mundo Jurásico",
         "MX",
         null,
         "imdbDisplay",
         null,
         "0.0"
        ],
        [
         "10",
         "tt0369610",
         "1",
         "Jurassic World: Sauruste maailm",
         "EE",
         null,
         "imdbDisplay",
         null,
         "0.0"
        ],
        [
         "11",
         "tt0369610",
         "20",
         "Jurassic World",
         "SE",
         null,
         "imdbDisplay",
         null,
         "0.0"
        ],
        [
         "12",
         "tt0369610",
         "21",
         "Jurassic World 3D",
         "US",
         null,
         null,
         "3-D version",
         "0.0"
        ],
        [
         "13",
         "tt0369610",
         "22",
         "Jurassic World 3D",
         "DE",
         null,
         null,
         "3-D version",
         "0.0"
        ],
        [
         "14",
         "tt0369610",
         "23",
         "Jurassic World 3D",
         "XWW",
         null,
         null,
         "3-D version",
         "0.0"
        ],
        [
         "15",
         "tt0369610",
         "24",
         "Juras laikmeta pasaule",
         "LV",
         null,
         "imdbDisplay",
         null,
         "0.0"
        ],
        [
         "16",
         "tt0369610",
         "25",
         "Mundo Jurássico",
         "PT",
         null,
         "imdbDisplay",
         null,
         "0.0"
        ],
        [
         "17",
         "tt0369610",
         "26",
         "Мир Юрского периода",
         "RU",
         null,
         null,
         null,
         "0.0"
        ],
        [
         "18",
         "tt0369610",
         "27",
         "Jurský svět",
         "CZ",
         null,
         null,
         null,
         "0.0"
        ],
        [
         "19",
         "tt0369610",
         "28",
         "Monde jurassique",
         "CA",
         "fr",
         "imdbDisplay",
         null,
         "0.0"
        ],
        [
         "20",
         "tt0369610",
         "29",
         "Jurassic World",
         "US",
         null,
         null,
         null,
         "0.0"
        ],
        [
         "21",
         "tt0369610",
         "2",
         "Ebb Tide",
         "US",
         null,
         null,
         "fake working title",
         "0.0"
        ],
        [
         "22",
         "tt0369610",
         "30",
         "Jurassic World: Mundo Jurásico",
         "CL",
         null,
         "imdbDisplay",
         null,
         "0.0"
        ],
        [
         "23",
         "tt0369610",
         "31",
         "Jurassic World",
         "RO",
         null,
         "imdbDisplay",
         null,
         "0.0"
        ],
        [
         "24",
         "tt0369610",
         "32",
         "Juros periodo pasaulis",
         "LT",
         null,
         "imdbDisplay",
         null,
         "0.0"
        ],
        [
         "25",
         "tt0369610",
         "33",
         "Jurassic World",
         "FI",
         null,
         "imdbDisplay",
         null,
         "0.0"
        ],
        [
         "26",
         "tt0369610",
         "34",
         "Jurassic World: Mundo jurásico",
         "PE",
         null,
         "imdbDisplay",
         null,
         "0.0"
        ],
        [
         "27",
         "tt0369610",
         "35",
         "Jurassic Park 4",
         "TR",
         "tr",
         null,
         "informal alternative title",
         "0.0"
        ],
        [
         "28",
         "tt0369610",
         "36",
         "Jurassic Park IV",
         "US",
         null,
         "working",
         null,
         "0.0"
        ],
        [
         "29",
         "tt0369610",
         "37",
         "Jurassic World",
         "NO",
         null,
         "imdbDisplay",
         null,
         "0.0"
        ],
        [
         "30",
         "tt0369610",
         "38",
         "Jurski svet",
         "SI",
         null,
         "imdbDisplay",
         null,
         "0.0"
        ],
        [
         "31",
         "tt0369610",
         "39",
         "Свiт Юрського перiоду",
         "UA",
         null,
         null,
         null,
         "0.0"
        ],
        [
         "32",
         "tt0369610",
         "3",
         "The Gioi Khung Long",
         "VN",
         null,
         "imdbDisplay",
         null,
         "0.0"
        ],
        [
         "33",
         "tt0369610",
         "40",
         "Jurassic World",
         "DK",
         null,
         "imdbDisplay",
         null,
         "0.0"
        ],
        [
         "34",
         "tt0369610",
         "41",
         "Svet iz doba jure",
         "RS",
         null,
         "imdbDisplay",
         null,
         "0.0"
        ],
        [
         "35",
         "tt0369610",
         "42",
         "Jurský svet",
         "SK",
         null,
         null,
         null,
         "0.0"
        ],
        [
         "36",
         "tt0369610",
         "43",
         "Jurassic World",
         "TR",
         "tr",
         "imdbDisplay",
         null,
         "0.0"
        ],
        [
         "37",
         "tt0369610",
         "44",
         "Jurassic Park 4",
         "US",
         null,
         null,
         "informal alternative title",
         "0.0"
        ],
        [
         "38",
         "tt0369610",
         "45",
         "Jurassic World",
         null,
         null,
         "original",
         null,
         "1.0"
        ],
        [
         "39",
         "tt0369610",
         "46",
         "Jurassic World",
         "ES",
         null,
         "imdbDisplay",
         null,
         "0.0"
        ],
        [
         "40",
         "tt0369610",
         "47",
         "Jurassic World",
         "HU",
         null,
         "imdbDisplay",
         null,
         "0.0"
        ],
        [
         "41",
         "tt0369610",
         "48",
         "Park jurajski 4",
         "PL",
         null,
         "alternative",
         null,
         "0.0"
        ],
        [
         "42",
         "tt0369610",
         "4",
         "Yur dövrü Dünyasi",
         "AZ",
         null,
         "imdbDisplay",
         null,
         "0.0"
        ],
        [
         "43",
         "tt0369610",
         "5",
         "Iuruli periodis samyaro",
         "GE",
         "ka",
         "imdbDisplay",
         null,
         "0.0"
        ],
        [
         "44",
         "tt0369610",
         "6",
         "Jurassic World",
         "PL",
         null,
         "imdbDisplay",
         null,
         "0.0"
        ],
        [
         "45",
         "tt0369610",
         "7",
         "Mundo Jurásico",
         "UY",
         null,
         null,
         "3-D version",
         "0.0"
        ],
        [
         "46",
         "tt0369610",
         "8",
         "Jurassic World 3D",
         "PL",
         null,
         null,
         "3-D version",
         "0.0"
        ],
        [
         "47",
         "tt0369610",
         "9",
         "Jurassic World - Mundo Jurásico",
         "AR",
         null,
         "imdbDisplay",
         null,
         "0.0"
        ],
        [
         "48",
         "tt0381957",
         "1",
         "Cloud Cuckoo Land",
         "GB",
         null,
         null,
         null,
         "0.0"
        ],
        [
         "49",
         "tt0401729",
         "10",
         "Джон Картер: Мiж двох свiтiв",
         "UA",
         null,
         null,
         null,
         "0.0"
        ]
       ],
       "shape": {
        "columns": 8,
        "rows": 331703
       }
      },
      "text/html": [
       "<div>\n",
       "<style scoped>\n",
       "    .dataframe tbody tr th:only-of-type {\n",
       "        vertical-align: middle;\n",
       "    }\n",
       "\n",
       "    .dataframe tbody tr th {\n",
       "        vertical-align: top;\n",
       "    }\n",
       "\n",
       "    .dataframe thead th {\n",
       "        text-align: right;\n",
       "    }\n",
       "</style>\n",
       "<table border=\"1\" class=\"dataframe\">\n",
       "  <thead>\n",
       "    <tr style=\"text-align: right;\">\n",
       "      <th></th>\n",
       "      <th>movie_id</th>\n",
       "      <th>ordering</th>\n",
       "      <th>title</th>\n",
       "      <th>region</th>\n",
       "      <th>language</th>\n",
       "      <th>types</th>\n",
       "      <th>attributes</th>\n",
       "      <th>is_original_title</th>\n",
       "    </tr>\n",
       "  </thead>\n",
       "  <tbody>\n",
       "    <tr>\n",
       "      <th>0</th>\n",
       "      <td>tt0369610</td>\n",
       "      <td>10</td>\n",
       "      <td>Джурасик свят</td>\n",
       "      <td>BG</td>\n",
       "      <td>bg</td>\n",
       "      <td>None</td>\n",
       "      <td>None</td>\n",
       "      <td>0.0</td>\n",
       "    </tr>\n",
       "    <tr>\n",
       "      <th>1</th>\n",
       "      <td>tt0369610</td>\n",
       "      <td>11</td>\n",
       "      <td>Jurashikku warudo</td>\n",
       "      <td>JP</td>\n",
       "      <td>None</td>\n",
       "      <td>imdbDisplay</td>\n",
       "      <td>None</td>\n",
       "      <td>0.0</td>\n",
       "    </tr>\n",
       "    <tr>\n",
       "      <th>2</th>\n",
       "      <td>tt0369610</td>\n",
       "      <td>12</td>\n",
       "      <td>Jurassic World: O Mundo dos Dinossauros</td>\n",
       "      <td>BR</td>\n",
       "      <td>None</td>\n",
       "      <td>imdbDisplay</td>\n",
       "      <td>None</td>\n",
       "      <td>0.0</td>\n",
       "    </tr>\n",
       "    <tr>\n",
       "      <th>3</th>\n",
       "      <td>tt0369610</td>\n",
       "      <td>13</td>\n",
       "      <td>O Mundo dos Dinossauros</td>\n",
       "      <td>BR</td>\n",
       "      <td>None</td>\n",
       "      <td>None</td>\n",
       "      <td>short title</td>\n",
       "      <td>0.0</td>\n",
       "    </tr>\n",
       "    <tr>\n",
       "      <th>4</th>\n",
       "      <td>tt0369610</td>\n",
       "      <td>14</td>\n",
       "      <td>Jurassic World</td>\n",
       "      <td>FR</td>\n",
       "      <td>None</td>\n",
       "      <td>imdbDisplay</td>\n",
       "      <td>None</td>\n",
       "      <td>0.0</td>\n",
       "    </tr>\n",
       "    <tr>\n",
       "      <th>...</th>\n",
       "      <td>...</td>\n",
       "      <td>...</td>\n",
       "      <td>...</td>\n",
       "      <td>...</td>\n",
       "      <td>...</td>\n",
       "      <td>...</td>\n",
       "      <td>...</td>\n",
       "      <td>...</td>\n",
       "    </tr>\n",
       "    <tr>\n",
       "      <th>331698</th>\n",
       "      <td>tt9827784</td>\n",
       "      <td>2</td>\n",
       "      <td>Sayonara kuchibiru</td>\n",
       "      <td>None</td>\n",
       "      <td>None</td>\n",
       "      <td>original</td>\n",
       "      <td>None</td>\n",
       "      <td>1.0</td>\n",
       "    </tr>\n",
       "    <tr>\n",
       "      <th>331699</th>\n",
       "      <td>tt9827784</td>\n",
       "      <td>3</td>\n",
       "      <td>Farewell Song</td>\n",
       "      <td>XWW</td>\n",
       "      <td>en</td>\n",
       "      <td>imdbDisplay</td>\n",
       "      <td>None</td>\n",
       "      <td>0.0</td>\n",
       "    </tr>\n",
       "    <tr>\n",
       "      <th>331700</th>\n",
       "      <td>tt9880178</td>\n",
       "      <td>1</td>\n",
       "      <td>La atención</td>\n",
       "      <td>None</td>\n",
       "      <td>None</td>\n",
       "      <td>original</td>\n",
       "      <td>None</td>\n",
       "      <td>1.0</td>\n",
       "    </tr>\n",
       "    <tr>\n",
       "      <th>331701</th>\n",
       "      <td>tt9880178</td>\n",
       "      <td>2</td>\n",
       "      <td>La atención</td>\n",
       "      <td>ES</td>\n",
       "      <td>None</td>\n",
       "      <td>None</td>\n",
       "      <td>None</td>\n",
       "      <td>0.0</td>\n",
       "    </tr>\n",
       "    <tr>\n",
       "      <th>331702</th>\n",
       "      <td>tt9880178</td>\n",
       "      <td>3</td>\n",
       "      <td>The Attention</td>\n",
       "      <td>XWW</td>\n",
       "      <td>en</td>\n",
       "      <td>imdbDisplay</td>\n",
       "      <td>None</td>\n",
       "      <td>0.0</td>\n",
       "    </tr>\n",
       "  </tbody>\n",
       "</table>\n",
       "<p>331703 rows × 8 columns</p>\n",
       "</div>"
      ],
      "text/plain": [
       "         movie_id  ordering                                    title region  \\\n",
       "0       tt0369610        10                            Джурасик свят     BG   \n",
       "1       tt0369610        11                        Jurashikku warudo     JP   \n",
       "2       tt0369610        12  Jurassic World: O Mundo dos Dinossauros     BR   \n",
       "3       tt0369610        13                  O Mundo dos Dinossauros     BR   \n",
       "4       tt0369610        14                           Jurassic World     FR   \n",
       "...           ...       ...                                      ...    ...   \n",
       "331698  tt9827784         2                       Sayonara kuchibiru   None   \n",
       "331699  tt9827784         3                            Farewell Song    XWW   \n",
       "331700  tt9880178         1                              La atención   None   \n",
       "331701  tt9880178         2                              La atención     ES   \n",
       "331702  tt9880178         3                            The Attention    XWW   \n",
       "\n",
       "       language        types   attributes  is_original_title  \n",
       "0            bg         None         None                0.0  \n",
       "1          None  imdbDisplay         None                0.0  \n",
       "2          None  imdbDisplay         None                0.0  \n",
       "3          None         None  short title                0.0  \n",
       "4          None  imdbDisplay         None                0.0  \n",
       "...         ...          ...          ...                ...  \n",
       "331698     None     original         None                1.0  \n",
       "331699       en  imdbDisplay         None                0.0  \n",
       "331700     None     original         None                1.0  \n",
       "331701     None         None         None                0.0  \n",
       "331702       en  imdbDisplay         None                0.0  \n",
       "\n",
       "[331703 rows x 8 columns]"
      ]
     },
     "execution_count": 141,
     "metadata": {},
     "output_type": "execute_result"
    }
   ],
   "source": [
    "pd.read_sql(\n",
    "\"\"\"\n",
    "SELECT *\n",
    "FROM movie_akas\n",
    "\"\"\", conn)"
   ]
  },
  {
   "cell_type": "markdown",
   "metadata": {},
   "source": [
    "This table relates a person to the movies they worked on."
   ]
  },
  {
   "cell_type": "code",
   "execution_count": 142,
   "metadata": {},
   "outputs": [
    {
     "data": {
      "application/vnd.microsoft.datawrangler.viewer.v0+json": {
       "columns": [
        {
         "name": "index",
         "rawType": "int64",
         "type": "integer"
        },
        {
         "name": "person_id",
         "rawType": "object",
         "type": "string"
        },
        {
         "name": "movie_id",
         "rawType": "object",
         "type": "string"
        }
       ],
       "conversionMethod": "pd.DataFrame",
       "ref": "35601881-f70a-4430-9e57-8db8053e9540",
       "rows": [
        [
         "0",
         "nm0061671",
         "tt0837562"
        ],
        [
         "1",
         "nm0061671",
         "tt2398241"
        ],
        [
         "2",
         "nm0061671",
         "tt0844471"
        ],
        [
         "3",
         "nm0061671",
         "tt0118553"
        ],
        [
         "4",
         "nm0061865",
         "tt0896534"
        ],
        [
         "5",
         "nm0061865",
         "tt6791238"
        ],
        [
         "6",
         "nm0061865",
         "tt0287072"
        ],
        [
         "7",
         "nm0061865",
         "tt1682940"
        ],
        [
         "8",
         "nm0062070",
         "tt1470654"
        ],
        [
         "9",
         "nm0062070",
         "tt0363631"
        ],
        [
         "10",
         "nm0062070",
         "tt0104030"
        ],
        [
         "11",
         "nm0062070",
         "tt0102898"
        ],
        [
         "12",
         "nm0062195",
         "tt0114371"
        ],
        [
         "13",
         "nm0062195",
         "tt2004304"
        ],
        [
         "14",
         "nm0062195",
         "tt1618448"
        ],
        [
         "15",
         "nm0062195",
         "tt1224387"
        ],
        [
         "16",
         "nm0062798",
         "tt0452644"
        ],
        [
         "17",
         "nm0062798",
         "tt0452692"
        ],
        [
         "18",
         "nm0062798",
         "tt3458030"
        ],
        [
         "19",
         "nm0062798",
         "tt2178256"
        ],
        [
         "20",
         "nm0062879",
         "tt2590280"
        ],
        [
         "21",
         "nm0062879",
         "tt0352080"
        ],
        [
         "22",
         "nm0062879",
         "tt0216559"
        ],
        [
         "23",
         "nm0062879",
         "tt2057445"
        ],
        [
         "24",
         "nm0063198",
         "tt6579724"
        ],
        [
         "25",
         "nm0063198",
         "tt0093116"
        ],
        [
         "26",
         "nm0063432",
         "tt3106212"
        ],
        [
         "27",
         "nm0063432",
         "tt0478239"
        ],
        [
         "28",
         "nm0063432",
         "tt0264917"
        ],
        [
         "29",
         "nm0063432",
         "tt1626606"
        ],
        [
         "30",
         "nm0063618",
         "tt0183659"
        ],
        [
         "31",
         "nm0063618",
         "tt2545118"
        ],
        [
         "32",
         "nm0063618",
         "tt0384766"
        ],
        [
         "33",
         "nm0063618",
         "tt1856010"
        ],
        [
         "34",
         "nm0063750",
         "tt0404826"
        ],
        [
         "35",
         "nm0063750",
         "tt0111756"
        ],
        [
         "36",
         "nm0063750",
         "tt0367027"
        ],
        [
         "37",
         "nm0063750",
         "tt1492842"
        ],
        [
         "38",
         "nm0064023",
         "tt3501180"
        ],
        [
         "39",
         "nm0064023",
         "tt1485100"
        ],
        [
         "40",
         "nm0064023",
         "tt1358897"
        ],
        [
         "41",
         "nm0064023",
         "tt1387162"
        ],
        [
         "42",
         "nm0064350",
         "tt5479010"
        ],
        [
         "43",
         "nm0064350",
         "tt0316463"
        ],
        [
         "44",
         "nm0064350",
         "tt1286159"
        ],
        [
         "45",
         "nm0064350",
         "tt0380732"
        ],
        [
         "46",
         "nm0065847",
         "tt0108171"
        ],
        [
         "47",
         "nm0065847",
         "tt0095953"
        ],
        [
         "48",
         "nm0065847",
         "tt0266987"
        ],
        [
         "49",
         "nm0065847",
         "tt0285332"
        ]
       ],
       "shape": {
        "columns": 2,
        "rows": 1638260
       }
      },
      "text/html": [
       "<div>\n",
       "<style scoped>\n",
       "    .dataframe tbody tr th:only-of-type {\n",
       "        vertical-align: middle;\n",
       "    }\n",
       "\n",
       "    .dataframe tbody tr th {\n",
       "        vertical-align: top;\n",
       "    }\n",
       "\n",
       "    .dataframe thead th {\n",
       "        text-align: right;\n",
       "    }\n",
       "</style>\n",
       "<table border=\"1\" class=\"dataframe\">\n",
       "  <thead>\n",
       "    <tr style=\"text-align: right;\">\n",
       "      <th></th>\n",
       "      <th>person_id</th>\n",
       "      <th>movie_id</th>\n",
       "    </tr>\n",
       "  </thead>\n",
       "  <tbody>\n",
       "    <tr>\n",
       "      <th>0</th>\n",
       "      <td>nm0061671</td>\n",
       "      <td>tt0837562</td>\n",
       "    </tr>\n",
       "    <tr>\n",
       "      <th>1</th>\n",
       "      <td>nm0061671</td>\n",
       "      <td>tt2398241</td>\n",
       "    </tr>\n",
       "    <tr>\n",
       "      <th>2</th>\n",
       "      <td>nm0061671</td>\n",
       "      <td>tt0844471</td>\n",
       "    </tr>\n",
       "    <tr>\n",
       "      <th>3</th>\n",
       "      <td>nm0061671</td>\n",
       "      <td>tt0118553</td>\n",
       "    </tr>\n",
       "    <tr>\n",
       "      <th>4</th>\n",
       "      <td>nm0061865</td>\n",
       "      <td>tt0896534</td>\n",
       "    </tr>\n",
       "    <tr>\n",
       "      <th>...</th>\n",
       "      <td>...</td>\n",
       "      <td>...</td>\n",
       "    </tr>\n",
       "    <tr>\n",
       "      <th>1638255</th>\n",
       "      <td>nm9990690</td>\n",
       "      <td>tt9090932</td>\n",
       "    </tr>\n",
       "    <tr>\n",
       "      <th>1638256</th>\n",
       "      <td>nm9990690</td>\n",
       "      <td>tt8737130</td>\n",
       "    </tr>\n",
       "    <tr>\n",
       "      <th>1638257</th>\n",
       "      <td>nm9991320</td>\n",
       "      <td>tt8734436</td>\n",
       "    </tr>\n",
       "    <tr>\n",
       "      <th>1638258</th>\n",
       "      <td>nm9991320</td>\n",
       "      <td>tt9615610</td>\n",
       "    </tr>\n",
       "    <tr>\n",
       "      <th>1638259</th>\n",
       "      <td>nm9993380</td>\n",
       "      <td>tt8743182</td>\n",
       "    </tr>\n",
       "  </tbody>\n",
       "</table>\n",
       "<p>1638260 rows × 2 columns</p>\n",
       "</div>"
      ],
      "text/plain": [
       "         person_id   movie_id\n",
       "0        nm0061671  tt0837562\n",
       "1        nm0061671  tt2398241\n",
       "2        nm0061671  tt0844471\n",
       "3        nm0061671  tt0118553\n",
       "4        nm0061865  tt0896534\n",
       "...            ...        ...\n",
       "1638255  nm9990690  tt9090932\n",
       "1638256  nm9990690  tt8737130\n",
       "1638257  nm9991320  tt8734436\n",
       "1638258  nm9991320  tt9615610\n",
       "1638259  nm9993380  tt8743182\n",
       "\n",
       "[1638260 rows x 2 columns]"
      ]
     },
     "execution_count": 142,
     "metadata": {},
     "output_type": "execute_result"
    }
   ],
   "source": [
    "pd.read_sql(\n",
    "\"\"\"\n",
    "SELECT *\n",
    "FROM known_for\n",
    "\"\"\",conn)"
   ]
  },
  {
   "cell_type": "markdown",
   "metadata": {},
   "source": [
    "With some basic cleaning done, and a little quick analysis, we can begin doing our own separate analysis and creating business recommendations"
   ]
  },
  {
   "cell_type": "code",
   "execution_count": 143,
   "metadata": {},
   "outputs": [],
   "source": [
    "df_gross.to_csv('../data/cleaned_movie_gross.csv', encoding='utf-8')\n",
    "df_budgets.to_csv('../data/cleaned_budgets.csv', encoding='utf-8')\n",
    "df_movies.to_csv('../data/cleaned_movies.csv', encoding='utf-8')"
   ]
  }
 ],
 "metadata": {
  "kernelspec": {
   "display_name": "Python (learn-env)",
   "language": "python",
   "name": "learn-env"
  },
  "language_info": {
   "codemirror_mode": {
    "name": "ipython",
    "version": 3
   },
   "file_extension": ".py",
   "mimetype": "text/x-python",
   "name": "python",
   "nbconvert_exporter": "python",
   "pygments_lexer": "ipython3",
   "version": "3.8.5"
  }
 },
 "nbformat": 4,
 "nbformat_minor": 2
}
