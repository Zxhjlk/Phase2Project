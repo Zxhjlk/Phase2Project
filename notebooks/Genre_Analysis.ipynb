{
 "cells": [
  {
   "cell_type": "code",
   "execution_count": 1,
   "metadata": {},
   "outputs": [
    {
     "ename": "RuntimeError",
     "evalue": "module compiled against API version 0xe but this version of numpy is 0xd",
     "output_type": "error",
     "traceback": [
      "\u001b[1;31m---------------------------------------------------------------------------\u001b[0m",
      "\u001b[1;31mRuntimeError\u001b[0m                              Traceback (most recent call last)",
      "\u001b[1;31mRuntimeError\u001b[0m: module compiled against API version 0xe but this version of numpy is 0xd"
     ]
    }
   ],
   "source": [
    "import pandas as pd\n",
    "import numpy as np\n",
    "import sqlite3 \n",
    "import matplotlib.pyplot as plt\n",
    "\n",
    "%matplotlib inline\n",
    "pd.options.display.float_format = '{:.2f}'.format"
   ]
  },
  {
   "cell_type": "markdown",
   "metadata": {},
   "source": [
    "## Exploring ROI per genre \n",
    "This section will explore which genre will have the highest ROI with a lower budget since this will be our first foray in the film industry"
   ]
  },
  {
   "cell_type": "code",
   "execution_count": 2,
   "metadata": {},
   "outputs": [],
   "source": [
    "df_gross = pd.read_csv('../data/cleaned_movie_gross.csv', index_col=0)\n",
    "df_budgets = pd.read_csv('../data/cleaned_budgets.csv', index_col=0)\n",
    "df_movies = pd.read_csv('../data/cleaned_movies.csv', index_col=0)\n",
    "conn = sqlite3.connect('../data/im.db')"
   ]
  },
  {
   "cell_type": "code",
   "execution_count": 3,
   "metadata": {},
   "outputs": [
    {
     "data": {
      "application/vnd.microsoft.datawrangler.viewer.v0+json": {
       "columns": [
        {
         "name": "title",
         "rawType": "object",
         "type": "string"
        },
        {
         "name": "studio",
         "rawType": "object",
         "type": "string"
        },
        {
         "name": "domestic_gross",
         "rawType": "float64",
         "type": "float"
        },
        {
         "name": "foreign_gross",
         "rawType": "object",
         "type": "string"
        },
        {
         "name": "year",
         "rawType": "int64",
         "type": "integer"
        }
       ],
       "conversionMethod": "pd.DataFrame",
       "ref": "c9fbbe06-3478-42d6-a228-ff549bcd9042",
       "rows": [
        [
         "Toy Story 3",
         "BV",
         "415000000.0",
         "652000000",
         "2010"
        ],
        [
         "Alice in Wonderland (2010)",
         "BV",
         "334200000.0",
         "691300000",
         "2010"
        ],
        [
         "Harry Potter and the Deathly Hallows Part 1",
         "WB",
         "296000000.0",
         "664300000",
         "2010"
        ],
        [
         "Inception",
         "WB",
         "292600000.0",
         "535700000",
         "2010"
        ],
        [
         "Shrek Forever After",
         "P/DW",
         "238700000.0",
         "513900000",
         "2010"
        ],
        [
         "The Twilight Saga: Eclipse",
         "Sum.",
         "300500000.0",
         "398000000",
         "2010"
        ],
        [
         "Iron Man 2",
         "Par.",
         "312400000.0",
         "311500000",
         "2010"
        ],
        [
         "Tangled",
         "BV",
         "200800000.0",
         "391000000",
         "2010"
        ],
        [
         "Despicable Me",
         "Uni.",
         "251500000.0",
         "291600000",
         "2010"
        ],
        [
         "How to Train Your Dragon",
         "P/DW",
         "217600000.0",
         "277300000",
         "2010"
        ],
        [
         "Clash of the Titans (2010)",
         "WB",
         "163200000.0",
         "330000000",
         "2010"
        ],
        [
         "The Chronicles of Narnia: The Voyage of the Dawn Treader",
         "Fox",
         "104400000.0",
         "311300000",
         "2010"
        ],
        [
         "The King's Speech",
         "Wein.",
         "135500000.0",
         "275400000",
         "2010"
        ],
        [
         "Tron Legacy",
         "BV",
         "172100000.0",
         "228000000",
         "2010"
        ],
        [
         "The Karate Kid",
         "Sony",
         "176600000.0",
         "182500000",
         "2010"
        ],
        [
         "Prince of Persia: The Sands of Time",
         "BV",
         "90800000.0",
         "245600000",
         "2010"
        ],
        [
         "Black Swan",
         "FoxS",
         "107000000.0",
         "222400000",
         "2010"
        ],
        [
         "Megamind",
         "P/DW",
         "148400000.0",
         "173500000",
         "2010"
        ],
        [
         "Robin Hood",
         "Uni.",
         "105300000.0",
         "216400000",
         "2010"
        ],
        [
         "The Last Airbender",
         "Par.",
         "131800000.0",
         "187900000",
         "2010"
        ],
        [
         "Little Fockers",
         "Uni.",
         "148400000.0",
         "162200000",
         "2010"
        ],
        [
         "Resident Evil: Afterlife",
         "SGem",
         "60100000.0",
         "240100000",
         "2010"
        ],
        [
         "Shutter Island",
         "Par.",
         "128000000.0",
         "166800000",
         "2010"
        ],
        [
         "Salt",
         "Sony",
         "118300000.0",
         "175200000",
         "2010"
        ],
        [
         "Sex and the City 2",
         "WB (NL)",
         "95300000.0",
         "193000000",
         "2010"
        ],
        [
         "The Tourist",
         "Sony",
         "67600000.0",
         "210700000",
         "2010"
        ],
        [
         "The Expendables",
         "LGF",
         "103100000.0",
         "171400000",
         "2010"
        ],
        [
         "Grown Ups",
         "Sony",
         "162000000.0",
         "109400000",
         "2010"
        ],
        [
         "Knight & Day",
         "Fox",
         "76400000.0",
         "185500000",
         "2010"
        ],
        [
         "True Grit",
         "Par.",
         "171200000.0",
         "81000000",
         "2010"
        ],
        [
         "Gulliver's Travels",
         "Fox",
         "42800000.0",
         "194600000",
         "2010"
        ],
        [
         "Percy Jackson & The Olympians: The Lightning Thief",
         "Fox",
         "88800000.0",
         "137700000",
         "2010"
        ],
        [
         "The Social Network",
         "Sony",
         "97000000.0",
         "128000000",
         "2010"
        ],
        [
         "Valentine's Day",
         "WB (NL)",
         "110500000.0",
         "106000000",
         "2010"
        ],
        [
         "The Sorcerer's Apprentice",
         "BV",
         "63200000.0",
         "152100000",
         "2010"
        ],
        [
         "Due Date",
         "WB",
         "100500000.0",
         "111200000",
         "2010"
        ],
        [
         "Eat Pray Love",
         "Sony",
         "80600000.0",
         "124000000",
         "2010"
        ],
        [
         "Yogi Bear",
         "WB",
         "100200000.0",
         "101300000",
         "2010"
        ],
        [
         "Red",
         "Sum.",
         "90400000.0",
         "108600000",
         "2010"
        ],
        [
         "Paranormal Activity 2",
         "Par.",
         "84800000.0",
         "92800000",
         "2010"
        ],
        [
         "The A-Team",
         "Fox",
         "77200000.0",
         "100000000",
         "2010"
        ],
        [
         "Jackass 3-D",
         "Par.",
         "117200000.0",
         "54500000",
         "2010"
        ],
        [
         "The Other Guys",
         "Sony",
         "119200000.0",
         "51200000",
         "2010"
        ],
        [
         "Unstoppable",
         "Fox",
         "81600000.0",
         "86200000",
         "2010"
        ],
        [
         "Step Up 3-D",
         "BV",
         "42400000.0",
         "116900000",
         "2010"
        ],
        [
         "The Book of Eli",
         "WB",
         "94800000.0",
         "62300000",
         "2010"
        ],
        [
         "The Town",
         "WB",
         "92200000.0",
         "61800000",
         "2010"
        ],
        [
         "Date Night",
         "Fox",
         "98700000.0",
         "53600000",
         "2010"
        ],
        [
         "Legend of the Guardians: The Owls of Ga'Hoole",
         "WB",
         "55700000.0",
         "84400000",
         "2010"
        ],
        [
         "The Wolfman",
         "Uni.",
         "62000000.0",
         "77800000",
         "2010"
        ]
       ],
       "shape": {
        "columns": 4,
        "rows": 3387
       }
      },
      "text/html": [
       "<div>\n",
       "<style scoped>\n",
       "    .dataframe tbody tr th:only-of-type {\n",
       "        vertical-align: middle;\n",
       "    }\n",
       "\n",
       "    .dataframe tbody tr th {\n",
       "        vertical-align: top;\n",
       "    }\n",
       "\n",
       "    .dataframe thead th {\n",
       "        text-align: right;\n",
       "    }\n",
       "</style>\n",
       "<table border=\"1\" class=\"dataframe\">\n",
       "  <thead>\n",
       "    <tr style=\"text-align: right;\">\n",
       "      <th></th>\n",
       "      <th>studio</th>\n",
       "      <th>domestic_gross</th>\n",
       "      <th>foreign_gross</th>\n",
       "      <th>year</th>\n",
       "    </tr>\n",
       "    <tr>\n",
       "      <th>title</th>\n",
       "      <th></th>\n",
       "      <th></th>\n",
       "      <th></th>\n",
       "      <th></th>\n",
       "    </tr>\n",
       "  </thead>\n",
       "  <tbody>\n",
       "    <tr>\n",
       "      <th>Toy Story 3</th>\n",
       "      <td>BV</td>\n",
       "      <td>415000000.00</td>\n",
       "      <td>652000000</td>\n",
       "      <td>2010</td>\n",
       "    </tr>\n",
       "    <tr>\n",
       "      <th>Alice in Wonderland (2010)</th>\n",
       "      <td>BV</td>\n",
       "      <td>334200000.00</td>\n",
       "      <td>691300000</td>\n",
       "      <td>2010</td>\n",
       "    </tr>\n",
       "    <tr>\n",
       "      <th>Harry Potter and the Deathly Hallows Part 1</th>\n",
       "      <td>WB</td>\n",
       "      <td>296000000.00</td>\n",
       "      <td>664300000</td>\n",
       "      <td>2010</td>\n",
       "    </tr>\n",
       "    <tr>\n",
       "      <th>Inception</th>\n",
       "      <td>WB</td>\n",
       "      <td>292600000.00</td>\n",
       "      <td>535700000</td>\n",
       "      <td>2010</td>\n",
       "    </tr>\n",
       "    <tr>\n",
       "      <th>Shrek Forever After</th>\n",
       "      <td>P/DW</td>\n",
       "      <td>238700000.00</td>\n",
       "      <td>513900000</td>\n",
       "      <td>2010</td>\n",
       "    </tr>\n",
       "    <tr>\n",
       "      <th>...</th>\n",
       "      <td>...</td>\n",
       "      <td>...</td>\n",
       "      <td>...</td>\n",
       "      <td>...</td>\n",
       "    </tr>\n",
       "    <tr>\n",
       "      <th>The Quake</th>\n",
       "      <td>Magn.</td>\n",
       "      <td>6200.00</td>\n",
       "      <td>NaN</td>\n",
       "      <td>2018</td>\n",
       "    </tr>\n",
       "    <tr>\n",
       "      <th>Edward II (2018 re-release)</th>\n",
       "      <td>FM</td>\n",
       "      <td>4800.00</td>\n",
       "      <td>NaN</td>\n",
       "      <td>2018</td>\n",
       "    </tr>\n",
       "    <tr>\n",
       "      <th>El Pacto</th>\n",
       "      <td>Sony</td>\n",
       "      <td>2500.00</td>\n",
       "      <td>NaN</td>\n",
       "      <td>2018</td>\n",
       "    </tr>\n",
       "    <tr>\n",
       "      <th>The Swan</th>\n",
       "      <td>Synergetic</td>\n",
       "      <td>2400.00</td>\n",
       "      <td>NaN</td>\n",
       "      <td>2018</td>\n",
       "    </tr>\n",
       "    <tr>\n",
       "      <th>An Actor Prepares</th>\n",
       "      <td>Grav.</td>\n",
       "      <td>1700.00</td>\n",
       "      <td>NaN</td>\n",
       "      <td>2018</td>\n",
       "    </tr>\n",
       "  </tbody>\n",
       "</table>\n",
       "<p>3387 rows × 4 columns</p>\n",
       "</div>"
      ],
      "text/plain": [
       "                                                 studio  domestic_gross  \\\n",
       "title                                                                     \n",
       "Toy Story 3                                          BV    415000000.00   \n",
       "Alice in Wonderland (2010)                           BV    334200000.00   \n",
       "Harry Potter and the Deathly Hallows Part 1          WB    296000000.00   \n",
       "Inception                                            WB    292600000.00   \n",
       "Shrek Forever After                                P/DW    238700000.00   \n",
       "...                                                 ...             ...   \n",
       "The Quake                                         Magn.         6200.00   \n",
       "Edward II (2018 re-release)                          FM         4800.00   \n",
       "El Pacto                                           Sony         2500.00   \n",
       "The Swan                                     Synergetic         2400.00   \n",
       "An Actor Prepares                                 Grav.         1700.00   \n",
       "\n",
       "                                            foreign_gross  year  \n",
       "title                                                            \n",
       "Toy Story 3                                     652000000  2010  \n",
       "Alice in Wonderland (2010)                      691300000  2010  \n",
       "Harry Potter and the Deathly Hallows Part 1     664300000  2010  \n",
       "Inception                                       535700000  2010  \n",
       "Shrek Forever After                             513900000  2010  \n",
       "...                                                   ...   ...  \n",
       "The Quake                                             NaN  2018  \n",
       "Edward II (2018 re-release)                           NaN  2018  \n",
       "El Pacto                                              NaN  2018  \n",
       "The Swan                                              NaN  2018  \n",
       "An Actor Prepares                                     NaN  2018  \n",
       "\n",
       "[3387 rows x 4 columns]"
      ]
     },
     "execution_count": 3,
     "metadata": {},
     "output_type": "execute_result"
    }
   ],
   "source": [
    "df_gross"
   ]
  },
  {
   "cell_type": "markdown",
   "metadata": {},
   "source": [
    "df_gross and df_budgets seem to essentially store the same data, though df_gross has the added row of studio. We'll look at the budgets table two ways, one looking at the return_ratio and another at the raw gross number"
   ]
  },
  {
   "cell_type": "code",
   "execution_count": 4,
   "metadata": {},
   "outputs": [
    {
     "data": {
      "application/vnd.microsoft.datawrangler.viewer.v0+json": {
       "columns": [
        {
         "name": "id",
         "rawType": "int64",
         "type": "integer"
        },
        {
         "name": "release_date",
         "rawType": "datetime64[ns]",
         "type": "datetime"
        },
        {
         "name": "movie",
         "rawType": "object",
         "type": "string"
        },
        {
         "name": "production_budget",
         "rawType": "int64",
         "type": "integer"
        },
        {
         "name": "domestic_gross",
         "rawType": "int64",
         "type": "integer"
        },
        {
         "name": "worldwide_gross",
         "rawType": "int64",
         "type": "integer"
        },
        {
         "name": "return_ratio",
         "rawType": "float64",
         "type": "float"
        }
       ],
       "conversionMethod": "pd.DataFrame",
       "ref": "0d6720a8-6f10-41d8-9987-3544c1073b7b",
       "rows": [
        [
         "1",
         "2009-12-18 00:00:00",
         "Avatar",
         "425000000",
         "760507625",
         "2776345279",
         "5.53"
        ],
        [
         "2",
         "2011-05-20 00:00:00",
         "Pirates of the Caribbean: On Stranger Tides",
         "410600000",
         "241063875",
         "1045663875",
         "1.55"
        ],
        [
         "3",
         "2019-06-07 00:00:00",
         "Dark Phoenix",
         "350000000",
         "42762350",
         "149762350",
         "-0.57"
        ],
        [
         "4",
         "2015-05-01 00:00:00",
         "Avengers: Age of Ultron",
         "330600000",
         "459005868",
         "1403013963",
         "3.24"
        ],
        [
         "5",
         "2017-12-15 00:00:00",
         "Star Wars Ep. VIII: The Last Jedi",
         "317000000",
         "620181382",
         "1316721747",
         "3.15"
        ],
        [
         "6",
         "2015-12-18 00:00:00",
         "Star Wars Ep. VII: The Force Awakens",
         "306000000",
         "936662225",
         "2053311220",
         "5.71"
        ],
        [
         "7",
         "2018-04-27 00:00:00",
         "Avengers: Infinity War",
         "300000000",
         "678815482",
         "2048134200",
         "5.83"
        ],
        [
         "8",
         "2007-05-24 00:00:00",
         "Pirates of the Caribbean: At Worldâs End",
         "300000000",
         "309420425",
         "963420425",
         "2.21"
        ],
        [
         "9",
         "2017-11-17 00:00:00",
         "Justice League",
         "300000000",
         "229024295",
         "655945209",
         "1.19"
        ],
        [
         "10",
         "2015-11-06 00:00:00",
         "Spectre",
         "300000000",
         "200074175",
         "879620923",
         "1.93"
        ],
        [
         "11",
         "2012-07-20 00:00:00",
         "The Dark Knight Rises",
         "275000000",
         "448139099",
         "1084439099",
         "2.94"
        ],
        [
         "12",
         "2018-05-25 00:00:00",
         "Solo: A Star Wars Story",
         "275000000",
         "213767512",
         "393151347",
         "0.43"
        ],
        [
         "13",
         "2013-07-02 00:00:00",
         "The Lone Ranger",
         "275000000",
         "89302115",
         "260002115",
         "-0.05"
        ],
        [
         "14",
         "2012-03-09 00:00:00",
         "John Carter",
         "275000000",
         "73058679",
         "282778100",
         "0.03"
        ],
        [
         "15",
         "2010-11-24 00:00:00",
         "Tangled",
         "260000000",
         "200821936",
         "586477240",
         "1.26"
        ],
        [
         "16",
         "2007-05-04 00:00:00",
         "Spider-Man 3",
         "258000000",
         "336530303",
         "894860230",
         "2.47"
        ],
        [
         "17",
         "2016-05-06 00:00:00",
         "Captain America: Civil War",
         "250000000",
         "408084349",
         "1140069413",
         "3.56"
        ],
        [
         "18",
         "2016-03-25 00:00:00",
         "Batman v Superman: Dawn of Justice",
         "250000000",
         "330360194",
         "867500281",
         "2.47"
        ],
        [
         "19",
         "2012-12-14 00:00:00",
         "The Hobbit: An Unexpected Journey",
         "250000000",
         "303003568",
         "1017003568",
         "3.07"
        ],
        [
         "20",
         "2009-07-15 00:00:00",
         "Harry Potter and the Half-Blood Prince",
         "250000000",
         "302089278",
         "935213767",
         "2.74"
        ],
        [
         "21",
         "2013-12-13 00:00:00",
         "The Hobbit: The Desolation of Smaug",
         "250000000",
         "258366855",
         "960366855",
         "2.84"
        ],
        [
         "22",
         "2014-12-17 00:00:00",
         "The Hobbit: The Battle of the Five Armies",
         "250000000",
         "255119788",
         "945577621",
         "2.78"
        ],
        [
         "23",
         "2017-04-14 00:00:00",
         "The Fate of the Furious",
         "250000000",
         "225764765",
         "1234846267",
         "3.94"
        ],
        [
         "24",
         "2006-06-28 00:00:00",
         "Superman Returns",
         "232000000",
         "200120000",
         "374085065",
         "0.61"
        ],
        [
         "25",
         "2017-05-26 00:00:00",
         "Pirates of the Caribbean: Dead Men Tell No Tales",
         "230000000",
         "172558876",
         "788241137",
         "2.43"
        ],
        [
         "26",
         "2008-11-14 00:00:00",
         "Quantum of Solace",
         "230000000",
         "169368427",
         "591692078",
         "1.57"
        ],
        [
         "27",
         "2012-05-04 00:00:00",
         "The Avengers",
         "225000000",
         "623279547",
         "1517935897",
         "5.75"
        ],
        [
         "28",
         "2006-07-07 00:00:00",
         "Pirates of the Caribbean: Dead Manâs Chest",
         "225000000",
         "423315812",
         "1066215812",
         "3.74"
        ],
        [
         "29",
         "2013-06-14 00:00:00",
         "Man of Steel",
         "225000000",
         "291045518",
         "667999518",
         "1.97"
        ],
        [
         "30",
         "2008-05-16 00:00:00",
         "The Chronicles of Narnia: Prince Caspian",
         "225000000",
         "141621490",
         "417341288",
         "0.85"
        ],
        [
         "31",
         "2012-07-03 00:00:00",
         "The Amazing Spider-Man",
         "220000000",
         "262030663",
         "757890267",
         "2.44"
        ],
        [
         "32",
         "2012-05-18 00:00:00",
         "Battleship",
         "220000000",
         "65233400",
         "313477717",
         "0.42"
        ],
        [
         "33",
         "2017-06-21 00:00:00",
         "Transformers: The Last Knight",
         "217000000",
         "130168683",
         "602893340",
         "1.78"
        ],
        [
         "34",
         "2015-06-12 00:00:00",
         "Jurassic World",
         "215000000",
         "652270625",
         "1648854864",
         "6.67"
        ],
        [
         "35",
         "2012-05-25 00:00:00",
         "Men in Black 3",
         "215000000",
         "179020854",
         "654213485",
         "2.04"
        ],
        [
         "36",
         "2009-06-24 00:00:00",
         "Transformers: Revenge of the Fallen",
         "210000000",
         "402111870",
         "836519699",
         "2.98"
        ],
        [
         "37",
         "2014-06-27 00:00:00",
         "Transformers: Age of Extinction",
         "210000000",
         "245439076",
         "1104039076",
         "4.26"
        ],
        [
         "38",
         "2006-05-26 00:00:00",
         "X-Men: The Last Stand",
         "210000000",
         "234362462",
         "459260946",
         "1.19"
        ],
        [
         "39",
         "2010-05-14 00:00:00",
         "Robin Hood",
         "210000000",
         "105487148",
         "322459006",
         "0.54"
        ],
        [
         "40",
         "2005-12-14 00:00:00",
         "King Kong",
         "207000000",
         "218080025",
         "550517357",
         "1.66"
        ],
        [
         "41",
         "2007-12-07 00:00:00",
         "The Golden Compass",
         "205000000",
         "70107728",
         "367262558",
         "0.79"
        ],
        [
         "42",
         "2018-02-16 00:00:00",
         "Black Panther",
         "200000000",
         "700059566",
         "1348258224",
         "5.74"
        ],
        [
         "44",
         "2018-06-15 00:00:00",
         "Incredibles 2",
         "200000000",
         "608581744",
         "1242520711",
         "5.21"
        ],
        [
         "45",
         "2016-12-16 00:00:00",
         "Rogue One: A Star Wars Story",
         "200000000",
         "532177324",
         "1049102856",
         "4.25"
        ],
        [
         "46",
         "2016-06-17 00:00:00",
         "Finding Dory",
         "200000000",
         "486295561",
         "1021215193",
         "4.11"
        ],
        [
         "47",
         "2010-06-18 00:00:00",
         "Toy Story 3",
         "200000000",
         "415004880",
         "1068879522",
         "4.34"
        ],
        [
         "48",
         "2013-05-03 00:00:00",
         "Iron Man 3",
         "200000000",
         "408992272",
         "1215392272",
         "5.08"
        ],
        [
         "49",
         "2017-05-05 00:00:00",
         "Guardians of the Galaxy Vol 2",
         "200000000",
         "389813101",
         "862316233",
         "3.31"
        ],
        [
         "50",
         "2004-06-30 00:00:00",
         "Spider-Man 2",
         "200000000",
         "373524485",
         "795110670",
         "2.98"
        ],
        [
         "51",
         "2010-03-05 00:00:00",
         "Alice in Wonderland",
         "200000000",
         "334191110",
         "1025491110",
         "4.13"
        ]
       ],
       "shape": {
        "columns": 6,
        "rows": 4387
       }
      },
      "text/html": [
       "<div>\n",
       "<style scoped>\n",
       "    .dataframe tbody tr th:only-of-type {\n",
       "        vertical-align: middle;\n",
       "    }\n",
       "\n",
       "    .dataframe tbody tr th {\n",
       "        vertical-align: top;\n",
       "    }\n",
       "\n",
       "    .dataframe thead th {\n",
       "        text-align: right;\n",
       "    }\n",
       "</style>\n",
       "<table border=\"1\" class=\"dataframe\">\n",
       "  <thead>\n",
       "    <tr style=\"text-align: right;\">\n",
       "      <th></th>\n",
       "      <th>release_date</th>\n",
       "      <th>movie</th>\n",
       "      <th>production_budget</th>\n",
       "      <th>domestic_gross</th>\n",
       "      <th>worldwide_gross</th>\n",
       "      <th>return_ratio</th>\n",
       "    </tr>\n",
       "    <tr>\n",
       "      <th>id</th>\n",
       "      <th></th>\n",
       "      <th></th>\n",
       "      <th></th>\n",
       "      <th></th>\n",
       "      <th></th>\n",
       "      <th></th>\n",
       "    </tr>\n",
       "  </thead>\n",
       "  <tbody>\n",
       "    <tr>\n",
       "      <th>1</th>\n",
       "      <td>2009-12-18</td>\n",
       "      <td>Avatar</td>\n",
       "      <td>425000000</td>\n",
       "      <td>760507625</td>\n",
       "      <td>2776345279</td>\n",
       "      <td>5.53</td>\n",
       "    </tr>\n",
       "    <tr>\n",
       "      <th>2</th>\n",
       "      <td>2011-05-20</td>\n",
       "      <td>Pirates of the Caribbean: On Stranger Tides</td>\n",
       "      <td>410600000</td>\n",
       "      <td>241063875</td>\n",
       "      <td>1045663875</td>\n",
       "      <td>1.55</td>\n",
       "    </tr>\n",
       "    <tr>\n",
       "      <th>3</th>\n",
       "      <td>2019-06-07</td>\n",
       "      <td>Dark Phoenix</td>\n",
       "      <td>350000000</td>\n",
       "      <td>42762350</td>\n",
       "      <td>149762350</td>\n",
       "      <td>-0.57</td>\n",
       "    </tr>\n",
       "    <tr>\n",
       "      <th>4</th>\n",
       "      <td>2015-05-01</td>\n",
       "      <td>Avengers: Age of Ultron</td>\n",
       "      <td>330600000</td>\n",
       "      <td>459005868</td>\n",
       "      <td>1403013963</td>\n",
       "      <td>3.24</td>\n",
       "    </tr>\n",
       "    <tr>\n",
       "      <th>5</th>\n",
       "      <td>2017-12-15</td>\n",
       "      <td>Star Wars Ep. VIII: The Last Jedi</td>\n",
       "      <td>317000000</td>\n",
       "      <td>620181382</td>\n",
       "      <td>1316721747</td>\n",
       "      <td>3.15</td>\n",
       "    </tr>\n",
       "    <tr>\n",
       "      <th>...</th>\n",
       "      <td>...</td>\n",
       "      <td>...</td>\n",
       "      <td>...</td>\n",
       "      <td>...</td>\n",
       "      <td>...</td>\n",
       "      <td>...</td>\n",
       "    </tr>\n",
       "    <tr>\n",
       "      <th>77</th>\n",
       "      <td>2004-12-31</td>\n",
       "      <td>The Mongol King</td>\n",
       "      <td>7000</td>\n",
       "      <td>900</td>\n",
       "      <td>900</td>\n",
       "      <td>-0.87</td>\n",
       "    </tr>\n",
       "    <tr>\n",
       "      <th>78</th>\n",
       "      <td>2018-12-31</td>\n",
       "      <td>Red 11</td>\n",
       "      <td>7000</td>\n",
       "      <td>0</td>\n",
       "      <td>0</td>\n",
       "      <td>-1.00</td>\n",
       "    </tr>\n",
       "    <tr>\n",
       "      <th>80</th>\n",
       "      <td>2005-07-13</td>\n",
       "      <td>Return to the Land of Wonders</td>\n",
       "      <td>5000</td>\n",
       "      <td>1338</td>\n",
       "      <td>1338</td>\n",
       "      <td>-0.73</td>\n",
       "    </tr>\n",
       "    <tr>\n",
       "      <th>81</th>\n",
       "      <td>2015-09-29</td>\n",
       "      <td>A Plague So Pleasant</td>\n",
       "      <td>1400</td>\n",
       "      <td>0</td>\n",
       "      <td>0</td>\n",
       "      <td>-1.00</td>\n",
       "    </tr>\n",
       "    <tr>\n",
       "      <th>82</th>\n",
       "      <td>2005-08-05</td>\n",
       "      <td>My Date With Drew</td>\n",
       "      <td>1100</td>\n",
       "      <td>181041</td>\n",
       "      <td>181041</td>\n",
       "      <td>163.58</td>\n",
       "    </tr>\n",
       "  </tbody>\n",
       "</table>\n",
       "<p>4387 rows × 6 columns</p>\n",
       "</div>"
      ],
      "text/plain": [
       "   release_date                                        movie  \\\n",
       "id                                                             \n",
       "1    2009-12-18                                       Avatar   \n",
       "2    2011-05-20  Pirates of the Caribbean: On Stranger Tides   \n",
       "3    2019-06-07                                 Dark Phoenix   \n",
       "4    2015-05-01                      Avengers: Age of Ultron   \n",
       "5    2017-12-15            Star Wars Ep. VIII: The Last Jedi   \n",
       "..          ...                                          ...   \n",
       "77   2004-12-31                              The Mongol King   \n",
       "78   2018-12-31                                       Red 11   \n",
       "80   2005-07-13                Return to the Land of Wonders   \n",
       "81   2015-09-29                         A Plague So Pleasant   \n",
       "82   2005-08-05                            My Date With Drew   \n",
       "\n",
       "    production_budget  domestic_gross  worldwide_gross  return_ratio  \n",
       "id                                                                    \n",
       "1           425000000       760507625       2776345279          5.53  \n",
       "2           410600000       241063875       1045663875          1.55  \n",
       "3           350000000        42762350        149762350         -0.57  \n",
       "4           330600000       459005868       1403013963          3.24  \n",
       "5           317000000       620181382       1316721747          3.15  \n",
       "..                ...             ...              ...           ...  \n",
       "77               7000             900              900         -0.87  \n",
       "78               7000               0                0         -1.00  \n",
       "80               5000            1338             1338         -0.73  \n",
       "81               1400               0                0         -1.00  \n",
       "82               1100          181041           181041        163.58  \n",
       "\n",
       "[4387 rows x 6 columns]"
      ]
     },
     "execution_count": 4,
     "metadata": {},
     "output_type": "execute_result"
    }
   ],
   "source": [
    "df_budgets['release_date'] = pd.to_datetime(df_budgets['release_date'])\n",
    "df_budgets"
   ]
  },
  {
   "cell_type": "markdown",
   "metadata": {},
   "source": [
    "We'll settle on a budget of 2 million since at the budget, the movies still averaged around a 100 roi"
   ]
  },
  {
   "cell_type": "code",
   "execution_count": 5,
   "metadata": {},
   "outputs": [
    {
     "data": {
      "text/plain": [
       "production_budget     1929436.67\n",
       "domestic_gross       51048412.47\n",
       "worldwide_gross     110674630.43\n",
       "return_ratio              105.35\n",
       "dtype: float64"
      ]
     },
     "execution_count": 5,
     "metadata": {},
     "output_type": "execute_result"
    }
   ],
   "source": [
    "df_high_return = df_budgets.sort_values('return_ratio', ascending=False).head(30)\n",
    "df_high_return.mean(numeric_only=True)"
   ]
  },
  {
   "cell_type": "code",
   "execution_count": 6,
   "metadata": {},
   "outputs": [
    {
     "data": {
      "text/plain": [
       "production_budget    217080000.00\n",
       "domestic_gross       509391552.15\n",
       "worldwide_gross     1454594828.85\n",
       "return_ratio                 6.46\n",
       "dtype: float64"
      ]
     },
     "execution_count": 6,
     "metadata": {},
     "output_type": "execute_result"
    }
   ],
   "source": [
    "df_high_gross = df_budgets.sort_values('worldwide_gross', ascending=False).head(20)\n",
    "df_high_gross.mean(numeric_only=True)"
   ]
  },
  {
   "cell_type": "markdown",
   "metadata": {},
   "source": [
    "When comparing the averages we can see that there is a pretty disparity between the highest grossing, and the highest return ratio movies. The highest return ratio movies average a significantly lower production budget while the opposite is true for the highest grossing movies. Since we are a new studio, I think it is a good idea to pay attention to the lower production budget movies with a high return ratio. "
   ]
  },
  {
   "cell_type": "code",
   "execution_count": 9,
   "metadata": {},
   "outputs": [],
   "source": [
    "df_top_return = df_budgets.sort_values('return_ratio', ascending=False)\n",
    "df_top_return = df_top_return[(df_top_return['production_budget'] < 2000000) & (df_top_return['worldwide_gross'] > 0) & (df_top_return['return_ratio'] > 2)]\n",
    "#df_top_return = df_top_return[(df_top_return['production_budget'] < 200000000) & (df_top_return['production_budget'] > 125000000) & (df_top_return['worldwide_gross'] >)]\n",
    "df_top_return.rename(columns={'movie': 'primary_title'}, inplace=True)\n",
    "top_return_movies = df_top_return['primary_title'].to_list()"
   ]
  },
  {
   "cell_type": "markdown",
   "metadata": {},
   "source": [
    "Since we're looking at the movies with the highest returns, we'll also filter on a max of 1,000,000 for budget since that was the average for the top 20 highest return movies. The movies will also need to have a return_ratio greater than 1."
   ]
  },
  {
   "cell_type": "code",
   "execution_count": null,
   "metadata": {},
   "outputs": [
    {
     "data": {
      "text/plain": [
       "release_date\n",
       "2000    189\n",
       "2001    181\n",
       "2002    210\n",
       "2003    201\n",
       "2004    206\n",
       "2005    223\n",
       "2006    260\n",
       "2007    220\n",
       "2008    264\n",
       "2009    239\n",
       "2010    274\n",
       "2011    254\n",
       "2012    235\n",
       "2013    238\n",
       "2014    255\n",
       "2015    338\n",
       "2016    219\n",
       "2017    168\n",
       "2018    143\n",
       "2019     67\n",
       "2020      3\n",
       "Name: release_date, dtype: int64"
      ]
     },
     "execution_count": 325,
     "metadata": {},
     "output_type": "execute_result"
    }
   ],
   "source": [
    "df_budgets['release_date'].groupby(df_budgets.release_date.dt.year).count()"
   ]
  },
  {
   "cell_type": "markdown",
   "metadata": {},
   "source": [
    "We can also see that this dataset when grouped by years, has less movies in recent years. This could very well be a limitation of the dataset, but we can also see that the number starts decreasing at around 2015. This could be a result of streaming services being more enticing to studios and as a result releasing less movies in theaters. "
   ]
  },
  {
   "cell_type": "markdown",
   "metadata": {},
   "source": [
    "Next we will look at the sql database so that we can see if we can get more data for each movie"
   ]
  },
  {
   "cell_type": "code",
   "execution_count": null,
   "metadata": {},
   "outputs": [
    {
     "data": {
      "application/vnd.microsoft.datawrangler.viewer.v0+json": {
       "columns": [
        {
         "name": "index",
         "rawType": "int64",
         "type": "integer"
        },
        {
         "name": "name",
         "rawType": "object",
         "type": "string"
        }
       ],
       "conversionMethod": "pd.DataFrame",
       "ref": "60d745ab-61cb-409f-9fe8-5f3c3a7208a9",
       "rows": [
        [
         "0",
         "movie_basics"
        ],
        [
         "1",
         "directors"
        ],
        [
         "2",
         "known_for"
        ],
        [
         "3",
         "movie_akas"
        ],
        [
         "4",
         "movie_ratings"
        ],
        [
         "5",
         "persons"
        ],
        [
         "6",
         "principals"
        ],
        [
         "7",
         "writers"
        ]
       ],
       "shape": {
        "columns": 1,
        "rows": 8
       }
      },
      "text/html": [
       "<div>\n",
       "<style scoped>\n",
       "    .dataframe tbody tr th:only-of-type {\n",
       "        vertical-align: middle;\n",
       "    }\n",
       "\n",
       "    .dataframe tbody tr th {\n",
       "        vertical-align: top;\n",
       "    }\n",
       "\n",
       "    .dataframe thead th {\n",
       "        text-align: right;\n",
       "    }\n",
       "</style>\n",
       "<table border=\"1\" class=\"dataframe\">\n",
       "  <thead>\n",
       "    <tr style=\"text-align: right;\">\n",
       "      <th></th>\n",
       "      <th>name</th>\n",
       "    </tr>\n",
       "  </thead>\n",
       "  <tbody>\n",
       "    <tr>\n",
       "      <th>0</th>\n",
       "      <td>movie_basics</td>\n",
       "    </tr>\n",
       "    <tr>\n",
       "      <th>1</th>\n",
       "      <td>directors</td>\n",
       "    </tr>\n",
       "    <tr>\n",
       "      <th>2</th>\n",
       "      <td>known_for</td>\n",
       "    </tr>\n",
       "    <tr>\n",
       "      <th>3</th>\n",
       "      <td>movie_akas</td>\n",
       "    </tr>\n",
       "    <tr>\n",
       "      <th>4</th>\n",
       "      <td>movie_ratings</td>\n",
       "    </tr>\n",
       "    <tr>\n",
       "      <th>5</th>\n",
       "      <td>persons</td>\n",
       "    </tr>\n",
       "    <tr>\n",
       "      <th>6</th>\n",
       "      <td>principals</td>\n",
       "    </tr>\n",
       "    <tr>\n",
       "      <th>7</th>\n",
       "      <td>writers</td>\n",
       "    </tr>\n",
       "  </tbody>\n",
       "</table>\n",
       "</div>"
      ],
      "text/plain": [
       "            name\n",
       "0   movie_basics\n",
       "1      directors\n",
       "2      known_for\n",
       "3     movie_akas\n",
       "4  movie_ratings\n",
       "5        persons\n",
       "6     principals\n",
       "7        writers"
      ]
     },
     "execution_count": 326,
     "metadata": {},
     "output_type": "execute_result"
    }
   ],
   "source": [
    "pd.read_sql(\n",
    "\"\"\"\n",
    "SELECT name\n",
    "FROM sqlite_master\n",
    "WHERE type='table'            \n",
    "\"\"\", conn)"
   ]
  },
  {
   "cell_type": "markdown",
   "metadata": {},
   "source": [
    "Given the top return movies from above, if we look for those from the sql database, the genres column could be a useful entrant."
   ]
  },
  {
   "cell_type": "code",
   "execution_count": null,
   "metadata": {},
   "outputs": [
    {
     "data": {
      "application/vnd.microsoft.datawrangler.viewer.v0+json": {
       "columns": [
        {
         "name": "index",
         "rawType": "int64",
         "type": "integer"
        },
        {
         "name": "movie_id",
         "rawType": "object",
         "type": "string"
        },
        {
         "name": "primary_title",
         "rawType": "object",
         "type": "string"
        },
        {
         "name": "original_title",
         "rawType": "object",
         "type": "string"
        },
        {
         "name": "start_year",
         "rawType": "int64",
         "type": "integer"
        },
        {
         "name": "runtime_minutes",
         "rawType": "float64",
         "type": "float"
        },
        {
         "name": "genres",
         "rawType": "object",
         "type": "string"
        }
       ],
       "conversionMethod": "pd.DataFrame",
       "ref": "d16ed4b2-1503-472d-9cab-0ba20487e558",
       "rows": [
        [
         "0",
         "tt0326592",
         "The Overnight",
         "The Overnight",
         "2010",
         "88.0",
         null
        ],
        [
         "1",
         "tt10227710",
         "Brick",
         "Brick",
         "2019",
         "93.0",
         "Drama,Family,Romance"
        ],
        [
         "2",
         "tt1120985",
         "Blue Valentine",
         "Blue Valentine",
         "2010",
         "112.0",
         "Drama,Romance"
        ],
        [
         "3",
         "tt1320244",
         "The Last Exorcism",
         "The Last Exorcism",
         "2010",
         "87.0",
         "Drama,Horror,Thriller"
        ],
        [
         "4",
         "tt1366338",
         "Lowriders",
         "Lowriders",
         "2016",
         "98.0",
         "Adventure,Crime,Drama"
        ],
        [
         "5",
         "tt1441326",
         "Martha Marcy May Marlene",
         "Martha Marcy May Marlene",
         "2011",
         "102.0",
         "Drama,Mystery,Thriller"
        ],
        [
         "6",
         "tt1462758",
         "Buried",
         "Buried",
         "2010",
         "95.0",
         "Drama,Mystery,Thriller"
        ],
        [
         "7",
         "tt1470827",
         "Monsters",
         "Monsters",
         "2010",
         "94.0",
         "Drama,Sci-Fi,Thriller"
        ],
        [
         "8",
         "tt1544600",
         "The Grace Card",
         "The Grace Card",
         "2010",
         "101.0",
         "Drama"
        ],
        [
         "9",
         "tt1549572",
         "Another Earth",
         "Another Earth",
         "2011",
         "92.0",
         "Drama,Romance,Sci-Fi"
        ],
        [
         "10",
         "tt1560985",
         "The Devil Inside",
         "The Devil Inside",
         "2012",
         "83.0",
         "Horror"
        ],
        [
         "11",
         "tt1570989",
         "Tiny Furniture",
         "Tiny Furniture",
         "2010",
         "98.0",
         "Comedy,Drama,Romance"
        ],
        [
         "12",
         "tt1571249",
         "The Skeleton Twins",
         "The Skeleton Twins",
         "2014",
         "93.0",
         "Comedy,Drama,Romance"
        ],
        [
         "13",
         "tt1591095",
         "Insidious",
         "Insidious",
         "2010",
         "103.0",
         "Horror,Mystery,Thriller"
        ],
        [
         "14",
         "tt1714210",
         "Weekend",
         "Weekend",
         "2011",
         "97.0",
         "Drama,Romance"
        ],
        [
         "15",
         "tt1720182",
         "October Baby",
         "October Baby",
         "2011",
         "107.0",
         "Drama"
        ],
        [
         "16",
         "tt1742336",
         "Your Sister's Sister",
         "Your Sister's Sister",
         "2011",
         "90.0",
         "Comedy,Drama"
        ],
        [
         "17",
         "tt1748207",
         "Sound of My Voice",
         "Sound of My Voice",
         "2011",
         "85.0",
         "Drama,Mystery,Sci-Fi"
        ],
        [
         "18",
         "tt1758692",
         "Like Crazy",
         "Like Crazy",
         "2011",
         "86.0",
         "Drama,Romance"
        ],
        [
         "19",
         "tt1781784",
         "Burn",
         "Burn",
         "2012",
         "86.0",
         "Documentary"
        ],
        [
         "20",
         "tt1791679",
         "Weekend",
         "Weekend",
         "2011",
         "121.0",
         "Action,Comedy,Crime"
        ],
        [
         "21",
         "tt1853739",
         "You're Next",
         "You're Next",
         "2011",
         "95.0",
         "Action,Comedy,Horror"
        ],
        [
         "22",
         "tt1862079",
         "Safety Not Guaranteed",
         "Safety Not Guaranteed",
         "2012",
         "86.0",
         "Comedy,Drama,Romance"
        ],
        [
         "23",
         "tt1866249",
         "The Sessions",
         "The Sessions",
         "2012",
         "95.0",
         "Biography,Comedy,Drama"
        ],
        [
         "24",
         "tt1872026",
         "Cure",
         "Cure",
         "2011",
         "93.0",
         "Drama"
        ],
        [
         "25",
         "tt1910670",
         "Weekend",
         "Weekend",
         "2011",
         "80.0",
         "Comedy,Drama"
        ],
        [
         "26",
         "tt1945044",
         "Exeter",
         "Exeter",
         "2015",
         "91.0",
         "Horror,Mystery,Thriller"
        ],
        [
         "27",
         "tt1971352",
         "Compliance",
         "Compliance",
         "2012",
         "90.0",
         "Biography,Crime,Drama"
        ],
        [
         "28",
         "tt1991245",
         "Chernobyl Diaries",
         "Chernobyl Diaries",
         "2012",
         "86.0",
         "Horror,Mystery,Thriller"
        ],
        [
         "29",
         "tt1999192",
         "Kevin Hart: Laugh at My Pain",
         "Kevin Hart: Laugh at My Pain",
         "2011",
         "89.0",
         "Comedy,Documentary"
        ],
        [
         "30",
         "tt2075392",
         "Home",
         "Yurt",
         "2011",
         "76.0",
         "Drama"
        ],
        [
         "31",
         "tt2089701",
         "Home",
         "Home",
         "2011",
         "7.0",
         "Documentary,Drama,Family"
        ],
        [
         "32",
         "tt2093100",
         "Home",
         "Dom",
         "2011",
         "127.0",
         "Drama"
        ],
        [
         "33",
         "tt2125435",
         "Beasts of the Southern Wild",
         "Beasts of the Southern Wild",
         "2012",
         "93.0",
         "Adventure,Drama,Fantasy"
        ],
        [
         "34",
         "tt2224026",
         "Home",
         "Home",
         "2015",
         "94.0",
         "Adventure,Animation,Comedy"
        ],
        [
         "35",
         "tt2235108",
         "Dear White People",
         "Dear White People",
         "2014",
         "108.0",
         "Comedy,Drama,Romance"
        ],
        [
         "36",
         "tt2309260",
         "The Gallows",
         "The Gallows",
         "2015",
         "81.0",
         "Horror,Mystery,Thriller"
        ],
        [
         "37",
         "tt2321163",
         "ABCD (Any Body Can Dance)",
         "ABCD (Any Body Can Dance)",
         "2013",
         "160.0",
         "Drama,Music"
        ],
        [
         "38",
         "tt2334649",
         "Fruitvale Station",
         "Fruitvale Station",
         "2013",
         "85.0",
         "Biography,Drama,Romance"
        ],
        [
         "39",
         "tt2350496",
         "The Lunchbox",
         "Dabba",
         "2013",
         "104.0",
         "Drama,Romance"
        ],
        [
         "40",
         "tt2372760",
         "Home",
         "Hemma",
         "2013",
         "90.0",
         "Drama,Romance"
        ],
        [
         "41",
         "tt2393825",
         "Home",
         "Home",
         "2013",
         "112.0",
         "Drama"
        ],
        [
         "42",
         "tt2403021",
         "The Green Inferno",
         "The Green Inferno",
         "2013",
         "100.0",
         "Adventure,Horror"
        ],
        [
         "43",
         "tt2545384",
         "Home",
         "Home",
         "2016",
         "87.0",
         "Drama,Horror,Thriller"
        ],
        [
         "44",
         "tt2620288",
         "Monsters",
         "Monsters",
         "2013",
         "45.0",
         "Documentary,Drama,History"
        ],
        [
         "45",
         "tt2650038",
         "Home",
         "Home",
         "2012",
         "3.0",
         "Biography,Documentary"
        ],
        [
         "46",
         "tt2704210",
         "All You Need Is Love",
         "All You Need Is Love",
         "2014",
         "90.0",
         "Documentary"
        ],
        [
         "47",
         "tt2782686",
         "Exeter",
         "Exeter",
         "2014",
         null,
         "Horror"
        ],
        [
         "48",
         "tt2821866",
         "Home",
         "Home",
         "2013",
         "92.0",
         "Drama"
        ],
        [
         "49",
         "tt2910274",
         "Obvious Child",
         "Obvious Child",
         "2014",
         "84.0",
         "Comedy,Drama,Romance"
        ]
       ],
       "shape": {
        "columns": 6,
        "rows": 96
       }
      },
      "text/html": [
       "<div>\n",
       "<style scoped>\n",
       "    .dataframe tbody tr th:only-of-type {\n",
       "        vertical-align: middle;\n",
       "    }\n",
       "\n",
       "    .dataframe tbody tr th {\n",
       "        vertical-align: top;\n",
       "    }\n",
       "\n",
       "    .dataframe thead th {\n",
       "        text-align: right;\n",
       "    }\n",
       "</style>\n",
       "<table border=\"1\" class=\"dataframe\">\n",
       "  <thead>\n",
       "    <tr style=\"text-align: right;\">\n",
       "      <th></th>\n",
       "      <th>movie_id</th>\n",
       "      <th>primary_title</th>\n",
       "      <th>original_title</th>\n",
       "      <th>start_year</th>\n",
       "      <th>runtime_minutes</th>\n",
       "      <th>genres</th>\n",
       "    </tr>\n",
       "  </thead>\n",
       "  <tbody>\n",
       "    <tr>\n",
       "      <th>0</th>\n",
       "      <td>tt0326592</td>\n",
       "      <td>The Overnight</td>\n",
       "      <td>The Overnight</td>\n",
       "      <td>2010</td>\n",
       "      <td>88.00</td>\n",
       "      <td>None</td>\n",
       "    </tr>\n",
       "    <tr>\n",
       "      <th>1</th>\n",
       "      <td>tt10227710</td>\n",
       "      <td>Brick</td>\n",
       "      <td>Brick</td>\n",
       "      <td>2019</td>\n",
       "      <td>93.00</td>\n",
       "      <td>Drama,Family,Romance</td>\n",
       "    </tr>\n",
       "    <tr>\n",
       "      <th>2</th>\n",
       "      <td>tt1120985</td>\n",
       "      <td>Blue Valentine</td>\n",
       "      <td>Blue Valentine</td>\n",
       "      <td>2010</td>\n",
       "      <td>112.00</td>\n",
       "      <td>Drama,Romance</td>\n",
       "    </tr>\n",
       "    <tr>\n",
       "      <th>3</th>\n",
       "      <td>tt1320244</td>\n",
       "      <td>The Last Exorcism</td>\n",
       "      <td>The Last Exorcism</td>\n",
       "      <td>2010</td>\n",
       "      <td>87.00</td>\n",
       "      <td>Drama,Horror,Thriller</td>\n",
       "    </tr>\n",
       "    <tr>\n",
       "      <th>4</th>\n",
       "      <td>tt1366338</td>\n",
       "      <td>Lowriders</td>\n",
       "      <td>Lowriders</td>\n",
       "      <td>2016</td>\n",
       "      <td>98.00</td>\n",
       "      <td>Adventure,Crime,Drama</td>\n",
       "    </tr>\n",
       "    <tr>\n",
       "      <th>...</th>\n",
       "      <td>...</td>\n",
       "      <td>...</td>\n",
       "      <td>...</td>\n",
       "      <td>...</td>\n",
       "      <td>...</td>\n",
       "      <td>...</td>\n",
       "    </tr>\n",
       "    <tr>\n",
       "      <th>91</th>\n",
       "      <td>tt8681390</td>\n",
       "      <td>Like Crazy</td>\n",
       "      <td>Like Crazy</td>\n",
       "      <td>2018</td>\n",
       "      <td>NaN</td>\n",
       "      <td>Drama</td>\n",
       "    </tr>\n",
       "    <tr>\n",
       "      <th>92</th>\n",
       "      <td>tt8883462</td>\n",
       "      <td>Home</td>\n",
       "      <td>Home</td>\n",
       "      <td>2017</td>\n",
       "      <td>NaN</td>\n",
       "      <td>Drama,Family</td>\n",
       "    </tr>\n",
       "    <tr>\n",
       "      <th>93</th>\n",
       "      <td>tt9248762</td>\n",
       "      <td>The Terrorist</td>\n",
       "      <td>The Terrorist</td>\n",
       "      <td>2018</td>\n",
       "      <td>NaN</td>\n",
       "      <td>Thriller</td>\n",
       "    </tr>\n",
       "    <tr>\n",
       "      <th>94</th>\n",
       "      <td>tt9281490</td>\n",
       "      <td>Home</td>\n",
       "      <td>Home</td>\n",
       "      <td>2018</td>\n",
       "      <td>50.00</td>\n",
       "      <td>Documentary</td>\n",
       "    </tr>\n",
       "    <tr>\n",
       "      <th>95</th>\n",
       "      <td>tt9701552</td>\n",
       "      <td>Home</td>\n",
       "      <td>Home</td>\n",
       "      <td>2012</td>\n",
       "      <td>NaN</td>\n",
       "      <td>Action,History,War</td>\n",
       "    </tr>\n",
       "  </tbody>\n",
       "</table>\n",
       "<p>96 rows × 6 columns</p>\n",
       "</div>"
      ],
      "text/plain": [
       "      movie_id      primary_title     original_title  start_year  \\\n",
       "0    tt0326592      The Overnight      The Overnight        2010   \n",
       "1   tt10227710              Brick              Brick        2019   \n",
       "2    tt1120985     Blue Valentine     Blue Valentine        2010   \n",
       "3    tt1320244  The Last Exorcism  The Last Exorcism        2010   \n",
       "4    tt1366338          Lowriders          Lowriders        2016   \n",
       "..         ...                ...                ...         ...   \n",
       "91   tt8681390         Like Crazy         Like Crazy        2018   \n",
       "92   tt8883462               Home               Home        2017   \n",
       "93   tt9248762      The Terrorist      The Terrorist        2018   \n",
       "94   tt9281490               Home               Home        2018   \n",
       "95   tt9701552               Home               Home        2012   \n",
       "\n",
       "    runtime_minutes                 genres  \n",
       "0             88.00                   None  \n",
       "1             93.00   Drama,Family,Romance  \n",
       "2            112.00          Drama,Romance  \n",
       "3             87.00  Drama,Horror,Thriller  \n",
       "4             98.00  Adventure,Crime,Drama  \n",
       "..              ...                    ...  \n",
       "91              NaN                  Drama  \n",
       "92              NaN           Drama,Family  \n",
       "93              NaN               Thriller  \n",
       "94            50.00            Documentary  \n",
       "95              NaN     Action,History,War  \n",
       "\n",
       "[96 rows x 6 columns]"
      ]
     },
     "execution_count": 327,
     "metadata": {},
     "output_type": "execute_result"
    }
   ],
   "source": [
    "#Get the rows that exist in the list from above\n",
    "query = \"SELECT * FROM movie_basics WHERE primary_title in \" + str(tuple(top_return_movies))\n",
    "\n",
    "df_genre = pd.read_sql(query, conn)\n",
    "df_genre"
   ]
  },
  {
   "cell_type": "markdown",
   "metadata": {},
   "source": [
    "Here we create a dictionary that counts the number of genres and sort them by which appears the most"
   ]
  },
  {
   "cell_type": "code",
   "execution_count": null,
   "metadata": {},
   "outputs": [],
   "source": [
    "#Get the genres as a list\n",
    "genre_count = df_genre['genres'].str.split(',').to_list()\n",
    "#Create a dictionary of genres and their counts, ignore occasional none values\n",
    "genre_dict = {}\n",
    "for genres in genre_count:\n",
    "    if genres != None:\n",
    "        for genre in genres:\n",
    "            if genre in genre_dict:\n",
    "                genre_dict[genre] += 1\n",
    "            else:\n",
    "                genre_dict[genre] = 1\n",
    "        "
   ]
  },
  {
   "cell_type": "code",
   "execution_count": null,
   "metadata": {},
   "outputs": [
    {
     "data": {
      "text/plain": [
       "{'Drama': 51,\n",
       " 'Horror': 19,\n",
       " 'Comedy': 18,\n",
       " 'Documentary': 18,\n",
       " 'Romance': 17,\n",
       " 'Thriller': 15,\n",
       " 'Mystery': 12,\n",
       " 'Family': 5,\n",
       " 'Sci-Fi': 5,\n",
       " 'Biography': 5,\n",
       " 'Adventure': 4,\n",
       " 'Crime': 4,\n",
       " 'Action': 4,\n",
       " 'History': 3,\n",
       " 'Fantasy': 2,\n",
       " 'Animation': 2,\n",
       " 'Music': 1,\n",
       " 'War': 1}"
      ]
     },
     "execution_count": 329,
     "metadata": {},
     "output_type": "execute_result"
    }
   ],
   "source": [
    "genre_dict = dict(sorted(genre_dict.items(), key=lambda item: item[1], reverse=True))\n",
    "genre_dict"
   ]
  },
  {
   "cell_type": "markdown",
   "metadata": {},
   "source": [
    "Dramas are the most common"
   ]
  },
  {
   "cell_type": "code",
   "execution_count": null,
   "metadata": {},
   "outputs": [
    {
     "data": {
      "image/png": "[encoded data removed]",
      "text/plain": [
       "<Figure size 720x432 with 1 Axes>"
      ]
     },
     "metadata": {
      "needs_background": "light"
     },
     "output_type": "display_data"
    }
   ],
   "source": [
    "fig, ax = plt.subplots(figsize=(10,6))\n",
    "ax.bar(genre_dict.keys(), genre_dict.values())\n",
    "fig.autofmt_xdate()"
   ]
  },
  {
   "cell_type": "markdown",
   "metadata": {},
   "source": [
    "Next we'll find the movies from before in the sql database so that we can combine the dataframes and get a better picture "
   ]
  },
  {
   "cell_type": "code",
   "execution_count": null,
   "metadata": {},
   "outputs": [
    {
     "data": {
      "application/vnd.microsoft.datawrangler.viewer.v0+json": {
       "columns": [
        {
         "name": "index",
         "rawType": "int64",
         "type": "integer"
        },
        {
         "name": "movie_id",
         "rawType": "object",
         "type": "string"
        },
        {
         "name": "averagerating",
         "rawType": "float64",
         "type": "float"
        },
        {
         "name": "numvotes",
         "rawType": "int64",
         "type": "integer"
        },
        {
         "name": "primary_title",
         "rawType": "object",
         "type": "string"
        },
        {
         "name": "original_title",
         "rawType": "object",
         "type": "string"
        },
        {
         "name": "start_year",
         "rawType": "int64",
         "type": "integer"
        },
        {
         "name": "runtime_minutes",
         "rawType": "float64",
         "type": "float"
        },
        {
         "name": "genres",
         "rawType": "object",
         "type": "string"
        }
       ],
       "conversionMethod": "pd.DataFrame",
       "ref": "fd63beb9-c032-4586-b30a-2b7b41488d2a",
       "rows": [
        [
         "0",
         "tt0326592",
         "7.5",
         "24",
         "The Overnight",
         "The Overnight",
         "2010",
         "88.0",
         null
        ],
        [
         "1",
         "tt1120985",
         "7.4",
         "170089",
         "Blue Valentine",
         "Blue Valentine",
         "2010",
         "112.0",
         "Drama,Romance"
        ],
        [
         "2",
         "tt1320244",
         "5.6",
         "45815",
         "The Last Exorcism",
         "The Last Exorcism",
         "2010",
         "87.0",
         "Drama,Horror,Thriller"
        ],
        [
         "3",
         "tt1366338",
         "5.7",
         "1954",
         "Lowriders",
         "Lowriders",
         "2016",
         "98.0",
         "Adventure,Crime,Drama"
        ],
        [
         "4",
         "tt1441326",
         "6.9",
         "45873",
         "Martha Marcy May Marlene",
         "Martha Marcy May Marlene",
         "2011",
         "102.0",
         "Drama,Mystery,Thriller"
        ],
        [
         "5",
         "tt1462758",
         "7.0",
         "139426",
         "Buried",
         "Buried",
         "2010",
         "95.0",
         "Drama,Mystery,Thriller"
        ],
        [
         "6",
         "tt1470827",
         "6.4",
         "84332",
         "Monsters",
         "Monsters",
         "2010",
         "94.0",
         "Drama,Sci-Fi,Thriller"
        ],
        [
         "7",
         "tt1544600",
         "6.6",
         "2488",
         "The Grace Card",
         "The Grace Card",
         "2010",
         "101.0",
         "Drama"
        ],
        [
         "8",
         "tt1549572",
         "7.0",
         "85839",
         "Another Earth",
         "Another Earth",
         "2011",
         "92.0",
         "Drama,Romance,Sci-Fi"
        ],
        [
         "9",
         "tt1560985",
         "4.2",
         "33522",
         "The Devil Inside",
         "The Devil Inside",
         "2012",
         "83.0",
         "Horror"
        ],
        [
         "10",
         "tt1570989",
         "6.2",
         "13397",
         "Tiny Furniture",
         "Tiny Furniture",
         "2010",
         "98.0",
         "Comedy,Drama,Romance"
        ],
        [
         "11",
         "tt1571249",
         "6.8",
         "36793",
         "The Skeleton Twins",
         "The Skeleton Twins",
         "2014",
         "93.0",
         "Comedy,Drama,Romance"
        ],
        [
         "12",
         "tt1591095",
         "6.9",
         "254197",
         "Insidious",
         "Insidious",
         "2010",
         "103.0",
         "Horror,Mystery,Thriller"
        ],
        [
         "13",
         "tt1714210",
         "7.6",
         "25424",
         "Weekend",
         "Weekend",
         "2011",
         "97.0",
         "Drama,Romance"
        ],
        [
         "14",
         "tt1720182",
         "6.8",
         "6903",
         "October Baby",
         "October Baby",
         "2011",
         "107.0",
         "Drama"
        ],
        [
         "15",
         "tt1742336",
         "6.7",
         "24780",
         "Your Sister's Sister",
         "Your Sister's Sister",
         "2011",
         "90.0",
         "Comedy,Drama"
        ],
        [
         "16",
         "tt1748207",
         "6.6",
         "19387",
         "Sound of My Voice",
         "Sound of My Voice",
         "2011",
         "85.0",
         "Drama,Mystery,Sci-Fi"
        ],
        [
         "17",
         "tt1758692",
         "6.7",
         "55841",
         "Like Crazy",
         "Like Crazy",
         "2011",
         "86.0",
         "Drama,Romance"
        ],
        [
         "18",
         "tt1781784",
         "7.5",
         "663",
         "Burn",
         "Burn",
         "2012",
         "86.0",
         "Documentary"
        ],
        [
         "19",
         "tt1791679",
         "4.0",
         "583",
         "Weekend",
         "Weekend",
         "2011",
         "121.0",
         "Action,Comedy,Crime"
        ],
        [
         "20",
         "tt1853739",
         "6.6",
         "79451",
         "You're Next",
         "You're Next",
         "2011",
         "95.0",
         "Action,Comedy,Horror"
        ],
        [
         "21",
         "tt1862079",
         "7.0",
         "111907",
         "Safety Not Guaranteed",
         "Safety Not Guaranteed",
         "2012",
         "86.0",
         "Comedy,Drama,Romance"
        ],
        [
         "22",
         "tt1866249",
         "7.2",
         "39731",
         "The Sessions",
         "The Sessions",
         "2012",
         "95.0",
         "Biography,Comedy,Drama"
        ],
        [
         "23",
         "tt1872026",
         "4.9",
         "11",
         "Cure",
         "Cure",
         "2011",
         "93.0",
         "Drama"
        ],
        [
         "24",
         "tt1945044",
         "4.5",
         "5156",
         "Exeter",
         "Exeter",
         "2015",
         "91.0",
         "Horror,Mystery,Thriller"
        ],
        [
         "25",
         "tt1971352",
         "6.4",
         "28703",
         "Compliance",
         "Compliance",
         "2012",
         "90.0",
         "Biography,Crime,Drama"
        ],
        [
         "26",
         "tt1991245",
         "5.0",
         "60304",
         "Chernobyl Diaries",
         "Chernobyl Diaries",
         "2012",
         "86.0",
         "Horror,Mystery,Thriller"
        ],
        [
         "27",
         "tt1999192",
         "7.4",
         "5081",
         "Kevin Hart: Laugh at My Pain",
         "Kevin Hart: Laugh at My Pain",
         "2011",
         "89.0",
         "Comedy,Documentary"
        ],
        [
         "28",
         "tt2075392",
         "6.0",
         "96",
         "Home",
         "Yurt",
         "2011",
         "76.0",
         "Drama"
        ],
        [
         "29",
         "tt2093100",
         "7.5",
         "1049",
         "Home",
         "Dom",
         "2011",
         "127.0",
         "Drama"
        ],
        [
         "30",
         "tt2125435",
         "7.3",
         "77440",
         "Beasts of the Southern Wild",
         "Beasts of the Southern Wild",
         "2012",
         "93.0",
         "Adventure,Drama,Fantasy"
        ],
        [
         "31",
         "tt2224026",
         "6.6",
         "85831",
         "Home",
         "Home",
         "2015",
         "94.0",
         "Adventure,Animation,Comedy"
        ],
        [
         "32",
         "tt2235108",
         "6.1",
         "23321",
         "Dear White People",
         "Dear White People",
         "2014",
         "108.0",
         "Comedy,Drama,Romance"
        ],
        [
         "33",
         "tt2309260",
         "4.2",
         "17763",
         "The Gallows",
         "The Gallows",
         "2015",
         "81.0",
         "Horror,Mystery,Thriller"
        ],
        [
         "34",
         "tt2321163",
         "6.4",
         "5695",
         "ABCD (Any Body Can Dance)",
         "ABCD (Any Body Can Dance)",
         "2013",
         "160.0",
         "Drama,Music"
        ],
        [
         "35",
         "tt2334649",
         "7.5",
         "68187",
         "Fruitvale Station",
         "Fruitvale Station",
         "2013",
         "85.0",
         "Biography,Drama,Romance"
        ],
        [
         "36",
         "tt2350496",
         "7.8",
         "42618",
         "The Lunchbox",
         "Dabba",
         "2013",
         "104.0",
         "Drama,Romance"
        ],
        [
         "37",
         "tt2372760",
         "6.8",
         "306",
         "Home",
         "Hemma",
         "2013",
         "90.0",
         "Drama,Romance"
        ],
        [
         "38",
         "tt2393825",
         "7.0",
         "140",
         "Home",
         "Home",
         "2013",
         "112.0",
         "Drama"
        ],
        [
         "39",
         "tt2403021",
         "5.3",
         "33239",
         "The Green Inferno",
         "The Green Inferno",
         "2013",
         "100.0",
         "Adventure,Horror"
        ],
        [
         "40",
         "tt2545384",
         "3.9",
         "303",
         "Home",
         "Home",
         "2016",
         "87.0",
         "Drama,Horror,Thriller"
        ],
        [
         "41",
         "tt2704210",
         "6.8",
         "9",
         "All You Need Is Love",
         "All You Need Is Love",
         "2014",
         "90.0",
         "Documentary"
        ],
        [
         "42",
         "tt2782686",
         "5.7",
         "61",
         "Exeter",
         "Exeter",
         "2014",
         null,
         "Horror"
        ],
        [
         "43",
         "tt2910274",
         "6.8",
         "21536",
         "Obvious Child",
         "Obvious Child",
         "2014",
         "84.0",
         "Comedy,Drama,Romance"
        ],
        [
         "44",
         "tt2910814",
         "6.1",
         "58407",
         "The Signal",
         "The Signal",
         "2014",
         "97.0",
         "Drama,Mystery,Sci-Fi"
        ],
        [
         "45",
         "tt3713166",
         "5.6",
         "62043",
         "Unfriended",
         "Unfriended",
         "2014",
         "83.0",
         "Horror,Mystery,Thriller"
        ],
        [
         "46",
         "tt3832096",
         "3.7",
         "7873",
         "Cabin Fever",
         "Cabin Fever",
         "2016",
         "99.0",
         "Horror"
        ],
        [
         "47",
         "tt3844362",
         "6.1",
         "14828",
         "The Overnight",
         "The Overnight",
         "2015",
         "79.0",
         "Comedy,Mystery"
        ],
        [
         "48",
         "tt3966404",
         "7.6",
         "30899",
         "Mustang",
         "Mustang",
         "2015",
         "97.0",
         "Drama"
        ],
        [
         "49",
         "tt4047846",
         "7.2",
         "811",
         "Home",
         "Home",
         "2016",
         "103.0",
         "Drama"
        ]
       ],
       "shape": {
        "columns": 8,
        "rows": 66
       }
      },
      "text/html": [
       "<div>\n",
       "<style scoped>\n",
       "    .dataframe tbody tr th:only-of-type {\n",
       "        vertical-align: middle;\n",
       "    }\n",
       "\n",
       "    .dataframe tbody tr th {\n",
       "        vertical-align: top;\n",
       "    }\n",
       "\n",
       "    .dataframe thead th {\n",
       "        text-align: right;\n",
       "    }\n",
       "</style>\n",
       "<table border=\"1\" class=\"dataframe\">\n",
       "  <thead>\n",
       "    <tr style=\"text-align: right;\">\n",
       "      <th></th>\n",
       "      <th>movie_id</th>\n",
       "      <th>averagerating</th>\n",
       "      <th>numvotes</th>\n",
       "      <th>primary_title</th>\n",
       "      <th>original_title</th>\n",
       "      <th>start_year</th>\n",
       "      <th>runtime_minutes</th>\n",
       "      <th>genres</th>\n",
       "    </tr>\n",
       "  </thead>\n",
       "  <tbody>\n",
       "    <tr>\n",
       "      <th>0</th>\n",
       "      <td>tt0326592</td>\n",
       "      <td>7.50</td>\n",
       "      <td>24</td>\n",
       "      <td>The Overnight</td>\n",
       "      <td>The Overnight</td>\n",
       "      <td>2010</td>\n",
       "      <td>88.00</td>\n",
       "      <td>None</td>\n",
       "    </tr>\n",
       "    <tr>\n",
       "      <th>1</th>\n",
       "      <td>tt1120985</td>\n",
       "      <td>7.40</td>\n",
       "      <td>170089</td>\n",
       "      <td>Blue Valentine</td>\n",
       "      <td>Blue Valentine</td>\n",
       "      <td>2010</td>\n",
       "      <td>112.00</td>\n",
       "      <td>Drama,Romance</td>\n",
       "    </tr>\n",
       "    <tr>\n",
       "      <th>2</th>\n",
       "      <td>tt1320244</td>\n",
       "      <td>5.60</td>\n",
       "      <td>45815</td>\n",
       "      <td>The Last Exorcism</td>\n",
       "      <td>The Last Exorcism</td>\n",
       "      <td>2010</td>\n",
       "      <td>87.00</td>\n",
       "      <td>Drama,Horror,Thriller</td>\n",
       "    </tr>\n",
       "    <tr>\n",
       "      <th>3</th>\n",
       "      <td>tt1366338</td>\n",
       "      <td>5.70</td>\n",
       "      <td>1954</td>\n",
       "      <td>Lowriders</td>\n",
       "      <td>Lowriders</td>\n",
       "      <td>2016</td>\n",
       "      <td>98.00</td>\n",
       "      <td>Adventure,Crime,Drama</td>\n",
       "    </tr>\n",
       "    <tr>\n",
       "      <th>4</th>\n",
       "      <td>tt1441326</td>\n",
       "      <td>6.90</td>\n",
       "      <td>45873</td>\n",
       "      <td>Martha Marcy May Marlene</td>\n",
       "      <td>Martha Marcy May Marlene</td>\n",
       "      <td>2011</td>\n",
       "      <td>102.00</td>\n",
       "      <td>Drama,Mystery,Thriller</td>\n",
       "    </tr>\n",
       "    <tr>\n",
       "      <th>...</th>\n",
       "      <td>...</td>\n",
       "      <td>...</td>\n",
       "      <td>...</td>\n",
       "      <td>...</td>\n",
       "      <td>...</td>\n",
       "      <td>...</td>\n",
       "      <td>...</td>\n",
       "      <td>...</td>\n",
       "    </tr>\n",
       "    <tr>\n",
       "      <th>61</th>\n",
       "      <td>tt6265828</td>\n",
       "      <td>6.80</td>\n",
       "      <td>46280</td>\n",
       "      <td>A Ghost Story</td>\n",
       "      <td>A Ghost Story</td>\n",
       "      <td>2017</td>\n",
       "      <td>92.00</td>\n",
       "      <td>Drama,Fantasy,Romance</td>\n",
       "    </tr>\n",
       "    <tr>\n",
       "      <th>62</th>\n",
       "      <td>tt7153766</td>\n",
       "      <td>6.40</td>\n",
       "      <td>32049</td>\n",
       "      <td>Unsane</td>\n",
       "      <td>Unsane</td>\n",
       "      <td>2018</td>\n",
       "      <td>98.00</td>\n",
       "      <td>Drama,Horror,Mystery</td>\n",
       "    </tr>\n",
       "    <tr>\n",
       "      <th>63</th>\n",
       "      <td>tt8161226</td>\n",
       "      <td>5.80</td>\n",
       "      <td>244</td>\n",
       "      <td>All You Need Is Love</td>\n",
       "      <td>All You Need Is Love</td>\n",
       "      <td>2018</td>\n",
       "      <td>113.00</td>\n",
       "      <td>Comedy,Romance</td>\n",
       "    </tr>\n",
       "    <tr>\n",
       "      <th>64</th>\n",
       "      <td>tt8601408</td>\n",
       "      <td>8.40</td>\n",
       "      <td>32</td>\n",
       "      <td>Home</td>\n",
       "      <td>Dom</td>\n",
       "      <td>2018</td>\n",
       "      <td>71.00</td>\n",
       "      <td>Drama,Romance,Thriller</td>\n",
       "    </tr>\n",
       "    <tr>\n",
       "      <th>65</th>\n",
       "      <td>tt9248762</td>\n",
       "      <td>6.00</td>\n",
       "      <td>6</td>\n",
       "      <td>The Terrorist</td>\n",
       "      <td>The Terrorist</td>\n",
       "      <td>2018</td>\n",
       "      <td>NaN</td>\n",
       "      <td>Thriller</td>\n",
       "    </tr>\n",
       "  </tbody>\n",
       "</table>\n",
       "<p>66 rows × 8 columns</p>\n",
       "</div>"
      ],
      "text/plain": [
       "     movie_id  averagerating  numvotes             primary_title  \\\n",
       "0   tt0326592           7.50        24             The Overnight   \n",
       "1   tt1120985           7.40    170089            Blue Valentine   \n",
       "2   tt1320244           5.60     45815         The Last Exorcism   \n",
       "3   tt1366338           5.70      1954                 Lowriders   \n",
       "4   tt1441326           6.90     45873  Martha Marcy May Marlene   \n",
       "..        ...            ...       ...                       ...   \n",
       "61  tt6265828           6.80     46280             A Ghost Story   \n",
       "62  tt7153766           6.40     32049                    Unsane   \n",
       "63  tt8161226           5.80       244      All You Need Is Love   \n",
       "64  tt8601408           8.40        32                      Home   \n",
       "65  tt9248762           6.00         6             The Terrorist   \n",
       "\n",
       "              original_title  start_year  runtime_minutes  \\\n",
       "0              The Overnight        2010            88.00   \n",
       "1             Blue Valentine        2010           112.00   \n",
       "2          The Last Exorcism        2010            87.00   \n",
       "3                  Lowriders        2016            98.00   \n",
       "4   Martha Marcy May Marlene        2011           102.00   \n",
       "..                       ...         ...              ...   \n",
       "61             A Ghost Story        2017            92.00   \n",
       "62                    Unsane        2018            98.00   \n",
       "63      All You Need Is Love        2018           113.00   \n",
       "64                       Dom        2018            71.00   \n",
       "65             The Terrorist        2018              NaN   \n",
       "\n",
       "                    genres  \n",
       "0                     None  \n",
       "1            Drama,Romance  \n",
       "2    Drama,Horror,Thriller  \n",
       "3    Adventure,Crime,Drama  \n",
       "4   Drama,Mystery,Thriller  \n",
       "..                     ...  \n",
       "61   Drama,Fantasy,Romance  \n",
       "62    Drama,Horror,Mystery  \n",
       "63          Comedy,Romance  \n",
       "64  Drama,Romance,Thriller  \n",
       "65                Thriller  \n",
       "\n",
       "[66 rows x 8 columns]"
      ]
     },
     "execution_count": 331,
     "metadata": {},
     "output_type": "execute_result"
    }
   ],
   "source": [
    "pd.read_sql(\n",
    "\"\"\"\n",
    "SELECT *\n",
    "from movie_ratings\n",
    "join movie_basics\n",
    "using(movie_id)\n",
    "where primary_title in \n",
    "\"\"\"+ str(tuple(top_return_movies)), conn)"
   ]
  },
  {
   "cell_type": "code",
   "execution_count": null,
   "metadata": {},
   "outputs": [
    {
     "data": {
      "application/vnd.microsoft.datawrangler.viewer.v0+json": {
       "columns": [
        {
         "name": "id",
         "rawType": "int64",
         "type": "integer"
        },
        {
         "name": "original_language",
         "rawType": "object",
         "type": "string"
        },
        {
         "name": "original_title",
         "rawType": "object",
         "type": "string"
        },
        {
         "name": "popularity",
         "rawType": "float64",
         "type": "float"
        },
        {
         "name": "release_date",
         "rawType": "object",
         "type": "string"
        },
        {
         "name": "title",
         "rawType": "object",
         "type": "string"
        },
        {
         "name": "vote_average",
         "rawType": "float64",
         "type": "float"
        },
        {
         "name": "vote_count",
         "rawType": "int64",
         "type": "integer"
        }
       ],
       "conversionMethod": "pd.DataFrame",
       "ref": "2e6246c3-8d8d-48d5-804a-257a8b5f4f12",
       "rows": [
        [
         "26388",
         "en",
         "Buried",
         "10.888",
         "2010-09-24",
         "Buried",
         "6.6",
         "1487"
        ],
        [
         "43933",
         "en",
         "Monsters",
         "10.175",
         "2010-10-29",
         "Monsters",
         "6.2",
         "848"
        ],
        [
         "38358",
         "en",
         "The Last Exorcism",
         "9.35",
         "2010-08-27",
         "The Last Exorcism",
         "5.6",
         "519"
        ],
        [
         "46705",
         "en",
         "Blue Valentine",
         "8.994",
         "2010-12-29",
         "Blue Valentine",
         "6.9",
         "1677"
        ],
        [
         "33511",
         "en",
         "Nowhere Boy",
         "7.099",
         "2010-01-27",
         "Nowhere Boy",
         "7.3",
         "469"
        ],
        [
         "47607",
         "en",
         "Tiny Furniture",
         "6.695",
         "2010-11-12",
         "Tiny Furniture",
         "5.9",
         "82"
        ],
        [
         "49018",
         "en",
         "Insidious",
         "16.197",
         "2011-04-01",
         "Insidious",
         "6.9",
         "3582"
        ],
        [
         "60420",
         "en",
         "Like Crazy",
         "10.091",
         "2011-10-28",
         "Like Crazy",
         "6.5",
         "638"
        ],
        [
         "55420",
         "en",
         "Another Earth",
         "10.03",
         "2011-07-22",
         "Another Earth",
         "6.7",
         "853"
        ],
        [
         "50837",
         "en",
         "Martha Marcy May Marlene",
         "9.477",
         "2011-10-21",
         "Martha Marcy May Marlene",
         "6.7",
         "413"
        ],
        [
         "46705",
         "en",
         "Blue Valentine",
         "8.994",
         "2010-12-29",
         "Blue Valentine",
         "6.9",
         "1677"
        ],
        [
         "79120",
         "en",
         "Weekend",
         "8.326",
         "2011-09-22",
         "Weekend",
         "7.5",
         "287"
        ],
        [
         "86812",
         "en",
         "Sound of My Voice",
         "7.212",
         "2011-01-22",
         "Sound of My Voice",
         "6.4",
         "169"
        ],
        [
         "74510",
         "en",
         "Kevin Hart: Laugh at My Pain",
         "6.558",
         "2011-09-09",
         "Kevin Hart: Laugh at My Pain",
         "7.4",
         "76"
        ],
        [
         "83860",
         "en",
         "October Baby",
         "4.835",
         "2011-10-30",
         "October Baby",
         "6.8",
         "56"
        ],
        [
         "54897",
         "en",
         "The Grace Card",
         "2.142",
         "2011-02-25",
         "The Grace Card",
         "6.5",
         "18"
        ],
        [
         "467930",
         "en",
         "Tadpole",
         "0.625",
         "2011-07-25",
         "Tadpole",
         "5.0",
         "1"
        ],
        [
         "407874",
         "en",
         "Burn",
         "0.6",
         "2011-01-01",
         "Burn",
         "9.0",
         "1"
        ],
        [
         "93856",
         "en",
         "Chernobyl Diaries",
         "14.658",
         "2012-05-25",
         "Chernobyl Diaries",
         "5.0",
         "842"
        ],
        [
         "94329",
         "id",
         "Serbuan maut",
         "11.15",
         "2012-04-13",
         "The Raid",
         "7.4",
         "1626"
        ],
        [
         "84332",
         "en",
         "Safety Not Guaranteed",
         "9.214",
         "2012-06-08",
         "Safety Not Guaranteed",
         "6.9",
         "792"
        ],
        [
         "84175",
         "en",
         "Beasts of the Southern Wild",
         "7.53",
         "2012-06-29",
         "Beasts of the Southern Wild",
         "6.9",
         "605"
        ],
        [
         "76487",
         "en",
         "The Devil Inside",
         "7.403",
         "2012-01-06",
         "The Devil Inside",
         "4.7",
         "441"
        ],
        [
         "84355",
         "en",
         "Your Sister's Sister",
         "7.115",
         "2012-06-14",
         "Your Sister's Sister",
         "6.6",
         "192"
        ],
        [
         "84188",
         "en",
         "Compliance",
         "6.93",
         "2012-08-24",
         "Compliance",
         "6.4",
         "340"
        ],
        [
         "113947",
         "en",
         "The Sessions",
         "6.46",
         "2012-10-18",
         "The Sessions",
         "6.9",
         "296"
        ],
        [
         "139948",
         "en",
         "Burn",
         "1.958",
         "2012-11-01",
         "Burn",
         "7.1",
         "14"
        ],
        [
         "171424",
         "en",
         "The Green Inferno",
         "13.67",
         "2013-11-02",
         "The Green Inferno",
         "5.2",
         "619"
        ],
        [
         "83899",
         "en",
         "You're Next",
         "11.45",
         "2013-08-23",
         "You're Next",
         "6.6",
         "1258"
        ],
        [
         "157354",
         "en",
         "Fruitvale Station",
         "9.587",
         "2013-07-26",
         "Fruitvale Station",
         "7.4",
         "645"
        ],
        [
         "237303",
         "en",
         "Home",
         "0.84",
         "2013-11-22",
         "Home",
         "7.0",
         "2"
        ],
        [
         "176",
         "en",
         "Saw",
         "19.127",
         "2004-10-29",
         "Saw",
         "7.4",
         "4795"
        ],
        [
         "244772",
         "en",
         "The Skeleton Twins",
         "10.341",
         "2014-09-12",
         "The Skeleton Twins",
         "6.7",
         "394"
        ],
        [
         "242095",
         "en",
         "The Signal",
         "10.032",
         "2014-06-13",
         "The Signal",
         "5.9",
         "901"
        ],
        [
         "248774",
         "en",
         "Obvious Child",
         "8.232",
         "2014-06-06",
         "Obvious Child",
         "6.7",
         "256"
        ],
        [
         "114750",
         "en",
         "Dear White People",
         "7.455",
         "2014-10-17",
         "Dear White People",
         "6.1",
         "296"
        ],
        [
         "191714",
         "hi",
         "The Lunchbox",
         "5.888",
         "2014-02-28",
         "The Lunchbox",
         "7.3",
         "350"
        ],
        [
         "259043",
         "en",
         "Krisha",
         "0.6",
         "2014-03-07",
         "Krisha",
         "9.0",
         "1"
        ],
        [
         "228161",
         "en",
         "Home",
         "12.835",
         "2015-03-27",
         "Home",
         "6.8",
         "2372"
        ],
        [
         "299245",
         "en",
         "The Gallows",
         "9.166",
         "2015-07-10",
         "The Gallows",
         "4.8",
         "591"
        ],
        [
         "336050",
         "hu",
         "Saul fia",
         "8.758",
         "2015-12-18",
         "Son of Saul",
         "7.2",
         "506"
        ],
        [
         "277685",
         "en",
         "Unfriended",
         "8.12",
         "2015-04-17",
         "Unfriended",
         "5.4",
         "2019"
        ],
        [
         "336804",
         "tr",
         "Mustang",
         "7.459",
         "2015-11-20",
         "Mustang",
         "8.0",
         "755"
        ],
        [
         "308024",
         "en",
         "The Overnight",
         "6.576",
         "2015-06-19",
         "The Overnight",
         "6.0",
         "200"
        ],
        [
         "226458",
         "en",
         "Exeter",
         "5.934",
         "2015-03-26",
         "Exeter",
         "4.7",
         "121"
        ],
        [
         "323929",
         "en",
         "Krisha",
         "5.288",
         "2016-03-18",
         "Krisha",
         "6.8",
         "86"
        ],
        [
         "382890",
         "en",
         "Monsters",
         "1.122",
         "2015-10-28",
         "Monsters",
         "7.4",
         "5"
        ],
        [
         "362308",
         "en",
         "The Signal",
         "0.661",
         "2015-07-08",
         "The Signal",
         "7.0",
         "2"
        ],
        [
         "376867",
         "en",
         "Moonlight",
         "15.948",
         "2016-10-21",
         "Moonlight",
         "7.4",
         "3893"
        ],
        [
         "298584",
         "en",
         "Cabin Fever",
         "7.419",
         "2016-02-12",
         "Cabin Fever",
         "4.6",
         "215"
        ]
       ],
       "shape": {
        "columns": 7,
        "rows": 66
       }
      },
      "text/html": [
       "<div>\n",
       "<style scoped>\n",
       "    .dataframe tbody tr th:only-of-type {\n",
       "        vertical-align: middle;\n",
       "    }\n",
       "\n",
       "    .dataframe tbody tr th {\n",
       "        vertical-align: top;\n",
       "    }\n",
       "\n",
       "    .dataframe thead th {\n",
       "        text-align: right;\n",
       "    }\n",
       "</style>\n",
       "<table border=\"1\" class=\"dataframe\">\n",
       "  <thead>\n",
       "    <tr style=\"text-align: right;\">\n",
       "      <th></th>\n",
       "      <th>original_language</th>\n",
       "      <th>original_title</th>\n",
       "      <th>popularity</th>\n",
       "      <th>release_date</th>\n",
       "      <th>title</th>\n",
       "      <th>vote_average</th>\n",
       "      <th>vote_count</th>\n",
       "    </tr>\n",
       "    <tr>\n",
       "      <th>id</th>\n",
       "      <th></th>\n",
       "      <th></th>\n",
       "      <th></th>\n",
       "      <th></th>\n",
       "      <th></th>\n",
       "      <th></th>\n",
       "      <th></th>\n",
       "    </tr>\n",
       "  </thead>\n",
       "  <tbody>\n",
       "    <tr>\n",
       "      <th>26388</th>\n",
       "      <td>en</td>\n",
       "      <td>Buried</td>\n",
       "      <td>10.89</td>\n",
       "      <td>2010-09-24</td>\n",
       "      <td>Buried</td>\n",
       "      <td>6.60</td>\n",
       "      <td>1487</td>\n",
       "    </tr>\n",
       "    <tr>\n",
       "      <th>43933</th>\n",
       "      <td>en</td>\n",
       "      <td>Monsters</td>\n",
       "      <td>10.18</td>\n",
       "      <td>2010-10-29</td>\n",
       "      <td>Monsters</td>\n",
       "      <td>6.20</td>\n",
       "      <td>848</td>\n",
       "    </tr>\n",
       "    <tr>\n",
       "      <th>38358</th>\n",
       "      <td>en</td>\n",
       "      <td>The Last Exorcism</td>\n",
       "      <td>9.35</td>\n",
       "      <td>2010-08-27</td>\n",
       "      <td>The Last Exorcism</td>\n",
       "      <td>5.60</td>\n",
       "      <td>519</td>\n",
       "    </tr>\n",
       "    <tr>\n",
       "      <th>46705</th>\n",
       "      <td>en</td>\n",
       "      <td>Blue Valentine</td>\n",
       "      <td>8.99</td>\n",
       "      <td>2010-12-29</td>\n",
       "      <td>Blue Valentine</td>\n",
       "      <td>6.90</td>\n",
       "      <td>1677</td>\n",
       "    </tr>\n",
       "    <tr>\n",
       "      <th>33511</th>\n",
       "      <td>en</td>\n",
       "      <td>Nowhere Boy</td>\n",
       "      <td>7.10</td>\n",
       "      <td>2010-01-27</td>\n",
       "      <td>Nowhere Boy</td>\n",
       "      <td>7.30</td>\n",
       "      <td>469</td>\n",
       "    </tr>\n",
       "    <tr>\n",
       "      <th>...</th>\n",
       "      <td>...</td>\n",
       "      <td>...</td>\n",
       "      <td>...</td>\n",
       "      <td>...</td>\n",
       "      <td>...</td>\n",
       "      <td>...</td>\n",
       "      <td>...</td>\n",
       "    </tr>\n",
       "    <tr>\n",
       "      <th>347882</th>\n",
       "      <td>en</td>\n",
       "      <td>Sleight</td>\n",
       "      <td>5.66</td>\n",
       "      <td>2017-04-28</td>\n",
       "      <td>Sleight</td>\n",
       "      <td>5.30</td>\n",
       "      <td>367</td>\n",
       "    </tr>\n",
       "    <tr>\n",
       "      <th>333384</th>\n",
       "      <td>en</td>\n",
       "      <td>Lowriders</td>\n",
       "      <td>4.96</td>\n",
       "      <td>2017-05-12</td>\n",
       "      <td>Lowriders</td>\n",
       "      <td>6.50</td>\n",
       "      <td>46</td>\n",
       "    </tr>\n",
       "    <tr>\n",
       "      <th>496256</th>\n",
       "      <td>en</td>\n",
       "      <td>Home</td>\n",
       "      <td>0.60</td>\n",
       "      <td>2017-04-30</td>\n",
       "      <td>Home</td>\n",
       "      <td>4.00</td>\n",
       "      <td>1</td>\n",
       "    </tr>\n",
       "    <tr>\n",
       "      <th>505058</th>\n",
       "      <td>en</td>\n",
       "      <td>Unfriended: Dark Web</td>\n",
       "      <td>17.86</td>\n",
       "      <td>2018-07-20</td>\n",
       "      <td>Unfriended: Dark Web</td>\n",
       "      <td>6.10</td>\n",
       "      <td>365</td>\n",
       "    </tr>\n",
       "    <tr>\n",
       "      <th>467660</th>\n",
       "      <td>en</td>\n",
       "      <td>Unsane</td>\n",
       "      <td>16.32</td>\n",
       "      <td>2018-03-23</td>\n",
       "      <td>Unsane</td>\n",
       "      <td>6.20</td>\n",
       "      <td>667</td>\n",
       "    </tr>\n",
       "  </tbody>\n",
       "</table>\n",
       "<p>66 rows × 7 columns</p>\n",
       "</div>"
      ],
      "text/plain": [
       "       original_language        original_title  popularity release_date  \\\n",
       "id                                                                        \n",
       "26388                 en                Buried       10.89   2010-09-24   \n",
       "43933                 en              Monsters       10.18   2010-10-29   \n",
       "38358                 en     The Last Exorcism        9.35   2010-08-27   \n",
       "46705                 en        Blue Valentine        8.99   2010-12-29   \n",
       "33511                 en           Nowhere Boy        7.10   2010-01-27   \n",
       "...                  ...                   ...         ...          ...   \n",
       "347882                en               Sleight        5.66   2017-04-28   \n",
       "333384                en             Lowriders        4.96   2017-05-12   \n",
       "496256                en                  Home        0.60   2017-04-30   \n",
       "505058                en  Unfriended: Dark Web       17.86   2018-07-20   \n",
       "467660                en                Unsane       16.32   2018-03-23   \n",
       "\n",
       "                       title  vote_average  vote_count  \n",
       "id                                                      \n",
       "26388                 Buried          6.60        1487  \n",
       "43933               Monsters          6.20         848  \n",
       "38358      The Last Exorcism          5.60         519  \n",
       "46705         Blue Valentine          6.90        1677  \n",
       "33511            Nowhere Boy          7.30         469  \n",
       "...                      ...           ...         ...  \n",
       "347882               Sleight          5.30         367  \n",
       "333384             Lowriders          6.50          46  \n",
       "496256                  Home          4.00           1  \n",
       "505058  Unfriended: Dark Web          6.10         365  \n",
       "467660                Unsane          6.20         667  \n",
       "\n",
       "[66 rows x 7 columns]"
      ]
     },
     "execution_count": 332,
     "metadata": {},
     "output_type": "execute_result"
    }
   ],
   "source": [
    "df_movies[df_movies['original_title'].isin(top_return_movies)]"
   ]
  },
  {
   "cell_type": "markdown",
   "metadata": {},
   "source": [
    "We'll combine the sql database with the top return movies we found earlier so that we can attribute genres with a return ratio"
   ]
  },
  {
   "cell_type": "code",
   "execution_count": null,
   "metadata": {},
   "outputs": [
    {
     "data": {
      "application/vnd.microsoft.datawrangler.viewer.v0+json": {
       "columns": [
        {
         "name": "index",
         "rawType": "int64",
         "type": "integer"
        },
        {
         "name": "movie_id",
         "rawType": "object",
         "type": "string"
        },
        {
         "name": "primary_title",
         "rawType": "object",
         "type": "string"
        },
        {
         "name": "original_title",
         "rawType": "object",
         "type": "string"
        },
        {
         "name": "start_year",
         "rawType": "int64",
         "type": "integer"
        },
        {
         "name": "runtime_minutes",
         "rawType": "float64",
         "type": "float"
        },
        {
         "name": "genres",
         "rawType": "object",
         "type": "string"
        },
        {
         "name": "return_ratio",
         "rawType": "float64",
         "type": "float"
        },
        {
         "name": "production_budget",
         "rawType": "int64",
         "type": "integer"
        }
       ],
       "conversionMethod": "pd.DataFrame",
       "ref": "7fdf2979-436d-490c-91dd-145d0206bd8f",
       "rows": [
        [
         "0",
         "tt0326592",
         "The Overnight",
         "The Overnight",
         "2010",
         "88.0",
         null,
         "4.83",
         "200000"
        ],
        [
         "1",
         "tt10227710",
         "Brick",
         "Brick",
         "2019",
         "93.0",
         "Drama,Family,Romance",
         "8.43",
         "450000"
        ],
        [
         "2",
         "tt1120985",
         "Blue Valentine",
         "Blue Valentine",
         "2010",
         "112.0",
         "Drama,Romance",
         "15.57",
         "1000000"
        ],
        [
         "3",
         "tt1320244",
         "The Last Exorcism",
         "The Last Exorcism",
         "2010",
         "87.0",
         "Drama,Horror,Thriller",
         "37.98",
         "1800000"
        ],
        [
         "4",
         "tt1366338",
         "Lowriders",
         "Lowriders",
         "2016",
         "98.0",
         "Adventure,Crime,Drama",
         "5.76",
         "916000"
        ],
        [
         "5",
         "tt1441326",
         "Martha Marcy May Marlene",
         "Martha Marcy May Marlene",
         "2011",
         "102.0",
         "Drama,Mystery,Thriller",
         "4.44",
         "1000000"
        ],
        [
         "6",
         "tt1462758",
         "Buried",
         "Buried",
         "2010",
         "95.0",
         "Drama,Mystery,Thriller",
         "9.7",
         "1987650"
        ],
        [
         "7",
         "tt1470827",
         "Monsters",
         "Monsters",
         "2010",
         "94.0",
         "Drama,Sci-Fi,Thriller",
         "10.28",
         "500000"
        ],
        [
         "8",
         "tt1544600",
         "The Grace Card",
         "The Grace Card",
         "2010",
         "101.0",
         "Drama",
         "11.15",
         "200000"
        ],
        [
         "9",
         "tt1549572",
         "Another Earth",
         "Another Earth",
         "2011",
         "92.0",
         "Drama,Romance,Sci-Fi",
         "11.02",
         "175000"
        ],
        [
         "10",
         "tt1560985",
         "The Devil Inside",
         "The Devil Inside",
         "2012",
         "83.0",
         "Horror",
         "100.76",
         "1000000"
        ],
        [
         "11",
         "tt1570989",
         "Tiny Furniture",
         "Tiny Furniture",
         "2010",
         "98.0",
         "Comedy,Drama,Romance",
         "7.48",
         "50000"
        ],
        [
         "12",
         "tt1571249",
         "The Skeleton Twins",
         "The Skeleton Twins",
         "2014",
         "93.0",
         "Comedy,Drama,Romance",
         "4.8",
         "1000000"
        ],
        [
         "13",
         "tt1591095",
         "Insidious",
         "Insidious",
         "2010",
         "103.0",
         "Horror,Mystery,Thriller",
         "65.58",
         "1500000"
        ],
        [
         "14",
         "tt1714210",
         "Weekend",
         "Weekend",
         "2011",
         "97.0",
         "Drama,Romance",
         "7.3",
         "190000"
        ],
        [
         "15",
         "tt1720182",
         "October Baby",
         "October Baby",
         "2011",
         "107.0",
         "Drama",
         "4.39",
         "1000000"
        ],
        [
         "16",
         "tt1742336",
         "Your Sister's Sister",
         "Your Sister's Sister",
         "2011",
         "90.0",
         "Comedy,Drama",
         "24.75",
         "120000"
        ],
        [
         "17",
         "tt1748207",
         "Sound of My Voice",
         "Sound of My Voice",
         "2011",
         "85.0",
         "Drama,Mystery,Sci-Fi",
         "2.18",
         "135000"
        ],
        [
         "18",
         "tt1758692",
         "Like Crazy",
         "Like Crazy",
         "2011",
         "86.0",
         "Drama,Romance",
         "13.91",
         "250000"
        ],
        [
         "19",
         "tt1781784",
         "Burn",
         "Burn",
         "2012",
         "86.0",
         "Documentary",
         "3.93",
         "225000"
        ],
        [
         "20",
         "tt1791679",
         "Weekend",
         "Weekend",
         "2011",
         "121.0",
         "Action,Comedy,Crime",
         "7.3",
         "190000"
        ],
        [
         "21",
         "tt1853739",
         "You're Next",
         "You're Next",
         "2011",
         "95.0",
         "Action,Comedy,Horror",
         "25.89",
         "1000000"
        ],
        [
         "22",
         "tt1862079",
         "Safety Not Guaranteed",
         "Safety Not Guaranteed",
         "2012",
         "86.0",
         "Comedy,Drama,Romance",
         "4.9",
         "750000"
        ],
        [
         "23",
         "tt1866249",
         "The Sessions",
         "The Sessions",
         "2012",
         "95.0",
         "Biography,Comedy,Drama",
         "10.5",
         "1000000"
        ],
        [
         "24",
         "tt1872026",
         "Cure",
         "Cure",
         "2011",
         "93.0",
         "Drama",
         "8.46",
         "10000"
        ],
        [
         "25",
         "tt1910670",
         "Weekend",
         "Weekend",
         "2011",
         "80.0",
         "Comedy,Drama",
         "7.3",
         "190000"
        ],
        [
         "26",
         "tt1945044",
         "Exeter",
         "Exeter",
         "2015",
         "91.0",
         "Horror,Mystery,Thriller",
         "18.59",
         "25000"
        ],
        [
         "27",
         "tt1971352",
         "Compliance",
         "Compliance",
         "2012",
         "90.0",
         "Biography,Crime,Drama",
         "2.08",
         "270000"
        ],
        [
         "28",
         "tt1991245",
         "Chernobyl Diaries",
         "Chernobyl Diaries",
         "2012",
         "86.0",
         "Horror,Mystery,Thriller",
         "41.41",
         "1000000"
        ],
        [
         "29",
         "tt1999192",
         "Kevin Hart: Laugh at My Pain",
         "Kevin Hart: Laugh at My Pain",
         "2011",
         "89.0",
         "Comedy,Documentary",
         "9.28",
         "750000"
        ],
        [
         "30",
         "tt2075392",
         "Home",
         "Yurt",
         "2011",
         "76.0",
         "Drama",
         "88.59",
         "500000"
        ],
        [
         "31",
         "tt2089701",
         "Home",
         "Home",
         "2011",
         "7.0",
         "Documentary,Drama,Family",
         "88.59",
         "500000"
        ],
        [
         "32",
         "tt2093100",
         "Home",
         "Dom",
         "2011",
         "127.0",
         "Drama",
         "88.59",
         "500000"
        ],
        [
         "33",
         "tt2125435",
         "Beasts of the Southern Wild",
         "Beasts of the Southern Wild",
         "2012",
         "93.0",
         "Adventure,Drama,Fantasy",
         "11.93",
         "1800000"
        ],
        [
         "34",
         "tt2224026",
         "Home",
         "Home",
         "2015",
         "94.0",
         "Adventure,Animation,Comedy",
         "88.59",
         "500000"
        ],
        [
         "35",
         "tt2235108",
         "Dear White People",
         "Dear White People",
         "2014",
         "108.0",
         "Comedy,Drama,Romance",
         "3.32",
         "1250000"
        ],
        [
         "36",
         "tt2309260",
         "The Gallows",
         "The Gallows",
         "2015",
         "81.0",
         "Horror,Mystery,Thriller",
         "415.56",
         "100000"
        ],
        [
         "37",
         "tt2321163",
         "ABCD (Any Body Can Dance)",
         "ABCD (Any Body Can Dance)",
         "2013",
         "160.0",
         "Drama,Music",
         "4.34",
         "1900000"
        ],
        [
         "38",
         "tt2334649",
         "Fruitvale Station",
         "Fruitvale Station",
         "2013",
         "85.0",
         "Biography,Drama,Romance",
         "18.5",
         "900000"
        ],
        [
         "39",
         "tt2350496",
         "The Lunchbox",
         "Dabba",
         "2013",
         "104.0",
         "Drama,Romance",
         "6.2",
         "1700000"
        ],
        [
         "40",
         "tt2372760",
         "Home",
         "Hemma",
         "2013",
         "90.0",
         "Drama,Romance",
         "88.59",
         "500000"
        ],
        [
         "41",
         "tt2393825",
         "Home",
         "Home",
         "2013",
         "112.0",
         "Drama",
         "88.59",
         "500000"
        ],
        [
         "42",
         "tt2403021",
         "The Green Inferno",
         "The Green Inferno",
         "2013",
         "100.0",
         "Adventure,Horror",
         "11.93",
         "1000000"
        ],
        [
         "43",
         "tt2545384",
         "Home",
         "Home",
         "2016",
         "87.0",
         "Drama,Horror,Thriller",
         "88.59",
         "500000"
        ],
        [
         "44",
         "tt2620288",
         "Monsters",
         "Monsters",
         "2013",
         "45.0",
         "Documentary,Drama,History",
         "10.28",
         "500000"
        ],
        [
         "45",
         "tt2650038",
         "Home",
         "Home",
         "2012",
         "3.0",
         "Biography,Documentary",
         "88.59",
         "500000"
        ],
        [
         "46",
         "tt2704210",
         "All You Need Is Love",
         "All You Need Is Love",
         "2014",
         "90.0",
         "Documentary",
         "10.88",
         "300000"
        ],
        [
         "47",
         "tt2782686",
         "Exeter",
         "Exeter",
         "2014",
         null,
         "Horror",
         "18.59",
         "25000"
        ],
        [
         "48",
         "tt2821866",
         "Home",
         "Home",
         "2013",
         "92.0",
         "Drama",
         "88.59",
         "500000"
        ],
        [
         "49",
         "tt2910274",
         "Obvious Child",
         "Obvious Child",
         "2014",
         "84.0",
         "Comedy,Drama,Romance",
         "2.32",
         "1000000"
        ]
       ],
       "shape": {
        "columns": 8,
        "rows": 96
       }
      },
      "text/html": [
       "<div>\n",
       "<style scoped>\n",
       "    .dataframe tbody tr th:only-of-type {\n",
       "        vertical-align: middle;\n",
       "    }\n",
       "\n",
       "    .dataframe tbody tr th {\n",
       "        vertical-align: top;\n",
       "    }\n",
       "\n",
       "    .dataframe thead th {\n",
       "        text-align: right;\n",
       "    }\n",
       "</style>\n",
       "<table border=\"1\" class=\"dataframe\">\n",
       "  <thead>\n",
       "    <tr style=\"text-align: right;\">\n",
       "      <th></th>\n",
       "      <th>movie_id</th>\n",
       "      <th>primary_title</th>\n",
       "      <th>original_title</th>\n",
       "      <th>start_year</th>\n",
       "      <th>runtime_minutes</th>\n",
       "      <th>genres</th>\n",
       "      <th>return_ratio</th>\n",
       "      <th>production_budget</th>\n",
       "    </tr>\n",
       "  </thead>\n",
       "  <tbody>\n",
       "    <tr>\n",
       "      <th>0</th>\n",
       "      <td>tt0326592</td>\n",
       "      <td>The Overnight</td>\n",
       "      <td>The Overnight</td>\n",
       "      <td>2010</td>\n",
       "      <td>88.00</td>\n",
       "      <td>None</td>\n",
       "      <td>4.83</td>\n",
       "      <td>200000</td>\n",
       "    </tr>\n",
       "    <tr>\n",
       "      <th>1</th>\n",
       "      <td>tt10227710</td>\n",
       "      <td>Brick</td>\n",
       "      <td>Brick</td>\n",
       "      <td>2019</td>\n",
       "      <td>93.00</td>\n",
       "      <td>Drama,Family,Romance</td>\n",
       "      <td>8.43</td>\n",
       "      <td>450000</td>\n",
       "    </tr>\n",
       "    <tr>\n",
       "      <th>2</th>\n",
       "      <td>tt1120985</td>\n",
       "      <td>Blue Valentine</td>\n",
       "      <td>Blue Valentine</td>\n",
       "      <td>2010</td>\n",
       "      <td>112.00</td>\n",
       "      <td>Drama,Romance</td>\n",
       "      <td>15.57</td>\n",
       "      <td>1000000</td>\n",
       "    </tr>\n",
       "    <tr>\n",
       "      <th>3</th>\n",
       "      <td>tt1320244</td>\n",
       "      <td>The Last Exorcism</td>\n",
       "      <td>The Last Exorcism</td>\n",
       "      <td>2010</td>\n",
       "      <td>87.00</td>\n",
       "      <td>Drama,Horror,Thriller</td>\n",
       "      <td>37.98</td>\n",
       "      <td>1800000</td>\n",
       "    </tr>\n",
       "    <tr>\n",
       "      <th>4</th>\n",
       "      <td>tt1366338</td>\n",
       "      <td>Lowriders</td>\n",
       "      <td>Lowriders</td>\n",
       "      <td>2016</td>\n",
       "      <td>98.00</td>\n",
       "      <td>Adventure,Crime,Drama</td>\n",
       "      <td>5.76</td>\n",
       "      <td>916000</td>\n",
       "    </tr>\n",
       "    <tr>\n",
       "      <th>...</th>\n",
       "      <td>...</td>\n",
       "      <td>...</td>\n",
       "      <td>...</td>\n",
       "      <td>...</td>\n",
       "      <td>...</td>\n",
       "      <td>...</td>\n",
       "      <td>...</td>\n",
       "      <td>...</td>\n",
       "    </tr>\n",
       "    <tr>\n",
       "      <th>91</th>\n",
       "      <td>tt8681390</td>\n",
       "      <td>Like Crazy</td>\n",
       "      <td>Like Crazy</td>\n",
       "      <td>2018</td>\n",
       "      <td>NaN</td>\n",
       "      <td>Drama</td>\n",
       "      <td>13.91</td>\n",
       "      <td>250000</td>\n",
       "    </tr>\n",
       "    <tr>\n",
       "      <th>92</th>\n",
       "      <td>tt8883462</td>\n",
       "      <td>Home</td>\n",
       "      <td>Home</td>\n",
       "      <td>2017</td>\n",
       "      <td>NaN</td>\n",
       "      <td>Drama,Family</td>\n",
       "      <td>88.59</td>\n",
       "      <td>500000</td>\n",
       "    </tr>\n",
       "    <tr>\n",
       "      <th>93</th>\n",
       "      <td>tt9248762</td>\n",
       "      <td>The Terrorist</td>\n",
       "      <td>The Terrorist</td>\n",
       "      <td>2018</td>\n",
       "      <td>NaN</td>\n",
       "      <td>Thriller</td>\n",
       "      <td>6.80</td>\n",
       "      <td>25000</td>\n",
       "    </tr>\n",
       "    <tr>\n",
       "      <th>94</th>\n",
       "      <td>tt9281490</td>\n",
       "      <td>Home</td>\n",
       "      <td>Home</td>\n",
       "      <td>2018</td>\n",
       "      <td>50.00</td>\n",
       "      <td>Documentary</td>\n",
       "      <td>88.59</td>\n",
       "      <td>500000</td>\n",
       "    </tr>\n",
       "    <tr>\n",
       "      <th>95</th>\n",
       "      <td>tt9701552</td>\n",
       "      <td>Home</td>\n",
       "      <td>Home</td>\n",
       "      <td>2012</td>\n",
       "      <td>NaN</td>\n",
       "      <td>Action,History,War</td>\n",
       "      <td>88.59</td>\n",
       "      <td>500000</td>\n",
       "    </tr>\n",
       "  </tbody>\n",
       "</table>\n",
       "<p>96 rows × 8 columns</p>\n",
       "</div>"
      ],
      "text/plain": [
       "      movie_id      primary_title     original_title  start_year  \\\n",
       "0    tt0326592      The Overnight      The Overnight        2010   \n",
       "1   tt10227710              Brick              Brick        2019   \n",
       "2    tt1120985     Blue Valentine     Blue Valentine        2010   \n",
       "3    tt1320244  The Last Exorcism  The Last Exorcism        2010   \n",
       "4    tt1366338          Lowriders          Lowriders        2016   \n",
       "..         ...                ...                ...         ...   \n",
       "91   tt8681390         Like Crazy         Like Crazy        2018   \n",
       "92   tt8883462               Home               Home        2017   \n",
       "93   tt9248762      The Terrorist      The Terrorist        2018   \n",
       "94   tt9281490               Home               Home        2018   \n",
       "95   tt9701552               Home               Home        2012   \n",
       "\n",
       "    runtime_minutes                 genres  return_ratio  production_budget  \n",
       "0             88.00                   None          4.83             200000  \n",
       "1             93.00   Drama,Family,Romance          8.43             450000  \n",
       "2            112.00          Drama,Romance         15.57            1000000  \n",
       "3             87.00  Drama,Horror,Thriller         37.98            1800000  \n",
       "4             98.00  Adventure,Crime,Drama          5.76             916000  \n",
       "..              ...                    ...           ...                ...  \n",
       "91              NaN                  Drama         13.91             250000  \n",
       "92              NaN           Drama,Family         88.59             500000  \n",
       "93              NaN               Thriller          6.80              25000  \n",
       "94            50.00            Documentary         88.59             500000  \n",
       "95              NaN     Action,History,War         88.59             500000  \n",
       "\n",
       "[96 rows x 8 columns]"
      ]
     },
     "execution_count": 333,
     "metadata": {},
     "output_type": "execute_result"
    }
   ],
   "source": [
    "df_genre_return = pd.merge(df_genre, df_top_return[['primary_title', 'return_ratio', 'production_budget']], on=['primary_title'], how='left')\n",
    "genre_list = df_genre_return['genres'].str.split(',').to_list()\n",
    "return_list = df_genre_return['return_ratio'].to_list()\n",
    "budget_list = df_genre_return['production_budget'].to_list()\n",
    "df_genre_return"
   ]
  },
  {
   "cell_type": "code",
   "execution_count": null,
   "metadata": {},
   "outputs": [
    {
     "data": {
      "text/plain": [
       "start_year            2013.61\n",
       "runtime_minutes         84.61\n",
       "return_ratio            37.36\n",
       "production_budget   654676.56\n",
       "dtype: float64"
      ]
     },
     "execution_count": 334,
     "metadata": {},
     "output_type": "execute_result"
    }
   ],
   "source": [
    "df_genre_return.mean(numeric_only=True)"
   ]
  },
  {
   "cell_type": "code",
   "execution_count": null,
   "metadata": {},
   "outputs": [],
   "source": [
    "def moving_average(curr_avg, num, count):\n",
    "    curr_avg + (num - curr_avg)/ count\n",
    "    return curr_avg"
   ]
  },
  {
   "cell_type": "code",
   "execution_count": null,
   "metadata": {},
   "outputs": [],
   "source": [
    "genre_roi = {}\n",
    "\n",
    "#Ugly function to calculate the average roi for each genre\n",
    "for genres, roi, budget in zip(genre_list, return_list, budget_list):\n",
    "    if genres != None:\n",
    "        for genre in genres:\n",
    "            if genre in genre_roi:\n",
    "                #calculate average roi\n",
    "                curr_avg = genre_roi[genre]['average_roi']\n",
    "                num = roi\n",
    "                count = genre_roi[genre]['count']\n",
    "                genre_roi[genre]['average_roi'] = moving_average(curr_avg, num, count)\n",
    "                #calculate average budget\n",
    "                budg_avg = genre_roi[genre]['average_cost']\n",
    "                b_num = budget\n",
    "                genre_roi[genre]['average_cost'] = moving_average(budg_avg, b_num, count)\n",
    "                genre_roi[genre]['count'] += 1\n",
    "            else:\n",
    "                genre_roi[genre] = {'average_roi' : roi, 'average_cost': budget, 'count': 1}"
   ]
  },
  {
   "cell_type": "markdown",
   "metadata": {},
   "source": [
    "Here we get a breakdown of the return ratios for all the genres that occur in our dataset, though some have very low counts, we will have to decide if we still keep those or if we expand our scope to include more movies."
   ]
  },
  {
   "cell_type": "code",
   "execution_count": null,
   "metadata": {},
   "outputs": [
    {
     "data": {
      "text/plain": [
       "{'Animation': {'average_roi': 88.59, 'average_cost': 500000, 'count': 2},\n",
       " 'War': {'average_roi': 88.59, 'average_cost': 500000, 'count': 1},\n",
       " 'Horror': {'average_roi': 37.98, 'average_cost': 1800000, 'count': 19},\n",
       " 'Thriller': {'average_roi': 37.98, 'average_cost': 1800000, 'count': 15},\n",
       " 'Fantasy': {'average_roi': 11.93, 'average_cost': 1800000, 'count': 2},\n",
       " 'Biography': {'average_roi': 10.5, 'average_cost': 1000000, 'count': 5},\n",
       " 'Sci-Fi': {'average_roi': 10.28, 'average_cost': 500000, 'count': 5},\n",
       " 'History': {'average_roi': 10.28, 'average_cost': 500000, 'count': 3},\n",
       " 'Drama': {'average_roi': 8.43, 'average_cost': 450000, 'count': 51},\n",
       " 'Family': {'average_roi': 8.43, 'average_cost': 450000, 'count': 5},\n",
       " 'Romance': {'average_roi': 8.43, 'average_cost': 450000, 'count': 17},\n",
       " 'Comedy': {'average_roi': 7.48, 'average_cost': 50000, 'count': 18},\n",
       " 'Action': {'average_roi': 7.3, 'average_cost': 190000, 'count': 4},\n",
       " 'Adventure': {'average_roi': 5.76, 'average_cost': 916000, 'count': 4},\n",
       " 'Crime': {'average_roi': 5.76, 'average_cost': 916000, 'count': 4},\n",
       " 'Mystery': {'average_roi': 4.44, 'average_cost': 1000000, 'count': 12},\n",
       " 'Music': {'average_roi': 4.34, 'average_cost': 1900000, 'count': 1},\n",
       " 'Documentary': {'average_roi': 3.93, 'average_cost': 225000, 'count': 18}}"
      ]
     },
     "execution_count": 337,
     "metadata": {},
     "output_type": "execute_result"
    }
   ],
   "source": [
    "genre_roi = dict(sorted(genre_roi.items(), key=lambda item: item[1]['average_roi'], reverse=True))\n",
    "genre_roi"
   ]
  },
  {
   "cell_type": "markdown",
   "metadata": {},
   "source": [
    "We will remove genres that have less than 3 movies"
   ]
  },
  {
   "cell_type": "code",
   "execution_count": null,
   "metadata": {},
   "outputs": [
    {
     "data": {
      "text/plain": [
       "{'Horror': {'average_roi': 37.98, 'average_cost': 1800000, 'count': 19},\n",
       " 'Thriller': {'average_roi': 37.98, 'average_cost': 1800000, 'count': 15},\n",
       " 'Biography': {'average_roi': 10.5, 'average_cost': 1000000, 'count': 5},\n",
       " 'Sci-Fi': {'average_roi': 10.28, 'average_cost': 500000, 'count': 5},\n",
       " 'History': {'average_roi': 10.28, 'average_cost': 500000, 'count': 3},\n",
       " 'Drama': {'average_roi': 8.43, 'average_cost': 450000, 'count': 51},\n",
       " 'Family': {'average_roi': 8.43, 'average_cost': 450000, 'count': 5},\n",
       " 'Romance': {'average_roi': 8.43, 'average_cost': 450000, 'count': 17},\n",
       " 'Comedy': {'average_roi': 7.48, 'average_cost': 50000, 'count': 18},\n",
       " 'Action': {'average_roi': 7.3, 'average_cost': 190000, 'count': 4},\n",
       " 'Adventure': {'average_roi': 5.76, 'average_cost': 916000, 'count': 4},\n",
       " 'Crime': {'average_roi': 5.76, 'average_cost': 916000, 'count': 4},\n",
       " 'Mystery': {'average_roi': 4.44, 'average_cost': 1000000, 'count': 12},\n",
       " 'Documentary': {'average_roi': 3.93, 'average_cost': 225000, 'count': 18}}"
      ]
     },
     "execution_count": 338,
     "metadata": {},
     "output_type": "execute_result"
    }
   ],
   "source": [
    "genre_roi = {k:v for k,v in genre_roi.items() if v['count'] > 2}"
   ]
  },
  {
   "cell_type": "markdown",
   "metadata": {},
   "source": [
    "We see that horror and thriller have by far the highest return on investment numbers on the graph"
   ]
  },
  {
   "cell_type": "code",
   "execution_count": null,
   "metadata": {},
   "outputs": [
    {
     "data": {
      "image/png": "[encoded data removed]",
      "text/plain": [
       "<Figure size 720x432 with 1 Axes>"
      ]
     },
     "metadata": {
      "needs_background": "light"
     },
     "output_type": "display_data"
    }
   ],
   "source": [
    "fig, ax = plt.subplots(figsize=(10,6))\n",
    "ax.bar(genre_roi.keys(), [x['average_roi'] for x in genre_roi.values()])\n",
    "fig.autofmt_xdate()"
   ]
  },
  {
   "cell_type": "markdown",
   "metadata": {},
   "source": [
    "I'll turn this dictionary into a df so it can be written and used for visualization"
   ]
  },
  {
   "cell_type": "code",
   "execution_count": null,
   "metadata": {},
   "outputs": [
    {
     "data": {
      "application/vnd.microsoft.datawrangler.viewer.v0+json": {
       "columns": [
        {
         "name": "index",
         "rawType": "int64",
         "type": "integer"
        },
        {
         "name": "genre",
         "rawType": "object",
         "type": "string"
        },
        {
         "name": "average_roi",
         "rawType": "float64",
         "type": "float"
        },
        {
         "name": "average_cost",
         "rawType": "int64",
         "type": "integer"
        },
        {
         "name": "count",
         "rawType": "int64",
         "type": "integer"
        }
       ],
       "conversionMethod": "pd.DataFrame",
       "ref": "9a85b993-76ac-4e4f-9667-5c1604d86a25",
       "rows": [
        [
         "0",
         "Horror",
         "37.98",
         "1800000",
         "19"
        ],
        [
         "1",
         "Thriller",
         "37.98",
         "1800000",
         "15"
        ],
        [
         "2",
         "Biography",
         "10.5",
         "1000000",
         "5"
        ],
        [
         "3",
         "Sci-Fi",
         "10.28",
         "500000",
         "5"
        ],
        [
         "4",
         "History",
         "10.28",
         "500000",
         "3"
        ],
        [
         "5",
         "Drama",
         "8.43",
         "450000",
         "51"
        ],
        [
         "6",
         "Family",
         "8.43",
         "450000",
         "5"
        ],
        [
         "7",
         "Romance",
         "8.43",
         "450000",
         "17"
        ],
        [
         "8",
         "Comedy",
         "7.48",
         "50000",
         "18"
        ],
        [
         "9",
         "Action",
         "7.3",
         "190000",
         "4"
        ],
        [
         "10",
         "Adventure",
         "5.76",
         "916000",
         "4"
        ],
        [
         "11",
         "Crime",
         "5.76",
         "916000",
         "4"
        ],
        [
         "12",
         "Mystery",
         "4.44",
         "1000000",
         "12"
        ],
        [
         "13",
         "Documentary",
         "3.93",
         "225000",
         "18"
        ]
       ],
       "shape": {
        "columns": 4,
        "rows": 14
       }
      },
      "text/html": [
       "<div>\n",
       "<style scoped>\n",
       "    .dataframe tbody tr th:only-of-type {\n",
       "        vertical-align: middle;\n",
       "    }\n",
       "\n",
       "    .dataframe tbody tr th {\n",
       "        vertical-align: top;\n",
       "    }\n",
       "\n",
       "    .dataframe thead th {\n",
       "        text-align: right;\n",
       "    }\n",
       "</style>\n",
       "<table border=\"1\" class=\"dataframe\">\n",
       "  <thead>\n",
       "    <tr style=\"text-align: right;\">\n",
       "      <th></th>\n",
       "      <th>genre</th>\n",
       "      <th>average_roi</th>\n",
       "      <th>average_cost</th>\n",
       "      <th>count</th>\n",
       "    </tr>\n",
       "  </thead>\n",
       "  <tbody>\n",
       "    <tr>\n",
       "      <th>0</th>\n",
       "      <td>Horror</td>\n",
       "      <td>37.98</td>\n",
       "      <td>1800000</td>\n",
       "      <td>19</td>\n",
       "    </tr>\n",
       "    <tr>\n",
       "      <th>1</th>\n",
       "      <td>Thriller</td>\n",
       "      <td>37.98</td>\n",
       "      <td>1800000</td>\n",
       "      <td>15</td>\n",
       "    </tr>\n",
       "    <tr>\n",
       "      <th>2</th>\n",
       "      <td>Biography</td>\n",
       "      <td>10.50</td>\n",
       "      <td>1000000</td>\n",
       "      <td>5</td>\n",
       "    </tr>\n",
       "    <tr>\n",
       "      <th>3</th>\n",
       "      <td>Sci-Fi</td>\n",
       "      <td>10.28</td>\n",
       "      <td>500000</td>\n",
       "      <td>5</td>\n",
       "    </tr>\n",
       "    <tr>\n",
       "      <th>4</th>\n",
       "      <td>History</td>\n",
       "      <td>10.28</td>\n",
       "      <td>500000</td>\n",
       "      <td>3</td>\n",
       "    </tr>\n",
       "    <tr>\n",
       "      <th>5</th>\n",
       "      <td>Drama</td>\n",
       "      <td>8.43</td>\n",
       "      <td>450000</td>\n",
       "      <td>51</td>\n",
       "    </tr>\n",
       "    <tr>\n",
       "      <th>6</th>\n",
       "      <td>Family</td>\n",
       "      <td>8.43</td>\n",
       "      <td>450000</td>\n",
       "      <td>5</td>\n",
       "    </tr>\n",
       "    <tr>\n",
       "      <th>7</th>\n",
       "      <td>Romance</td>\n",
       "      <td>8.43</td>\n",
       "      <td>450000</td>\n",
       "      <td>17</td>\n",
       "    </tr>\n",
       "    <tr>\n",
       "      <th>8</th>\n",
       "      <td>Comedy</td>\n",
       "      <td>7.48</td>\n",
       "      <td>50000</td>\n",
       "      <td>18</td>\n",
       "    </tr>\n",
       "    <tr>\n",
       "      <th>9</th>\n",
       "      <td>Action</td>\n",
       "      <td>7.30</td>\n",
       "      <td>190000</td>\n",
       "      <td>4</td>\n",
       "    </tr>\n",
       "    <tr>\n",
       "      <th>10</th>\n",
       "      <td>Adventure</td>\n",
       "      <td>5.76</td>\n",
       "      <td>916000</td>\n",
       "      <td>4</td>\n",
       "    </tr>\n",
       "    <tr>\n",
       "      <th>11</th>\n",
       "      <td>Crime</td>\n",
       "      <td>5.76</td>\n",
       "      <td>916000</td>\n",
       "      <td>4</td>\n",
       "    </tr>\n",
       "    <tr>\n",
       "      <th>12</th>\n",
       "      <td>Mystery</td>\n",
       "      <td>4.44</td>\n",
       "      <td>1000000</td>\n",
       "      <td>12</td>\n",
       "    </tr>\n",
       "    <tr>\n",
       "      <th>13</th>\n",
       "      <td>Documentary</td>\n",
       "      <td>3.93</td>\n",
       "      <td>225000</td>\n",
       "      <td>18</td>\n",
       "    </tr>\n",
       "  </tbody>\n",
       "</table>\n",
       "</div>"
      ],
      "text/plain": [
       "          genre  average_roi  average_cost  count\n",
       "0        Horror        37.98       1800000     19\n",
       "1      Thriller        37.98       1800000     15\n",
       "2     Biography        10.50       1000000      5\n",
       "3        Sci-Fi        10.28        500000      5\n",
       "4       History        10.28        500000      3\n",
       "5         Drama         8.43        450000     51\n",
       "6        Family         8.43        450000      5\n",
       "7       Romance         8.43        450000     17\n",
       "8        Comedy         7.48         50000     18\n",
       "9        Action         7.30        190000      4\n",
       "10    Adventure         5.76        916000      4\n",
       "11        Crime         5.76        916000      4\n",
       "12      Mystery         4.44       1000000     12\n",
       "13  Documentary         3.93        225000     18"
      ]
     },
     "execution_count": 340,
     "metadata": {},
     "output_type": "execute_result"
    }
   ],
   "source": [
    "df_genre_roi = pd.DataFrame.from_dict(genre_roi, orient='index').reset_index()\n",
    "df_genre_roi.rename(columns={'index': 'genre'}, inplace=True)\n",
    "df_genre_roi"
   ]
  },
  {
   "cell_type": "code",
   "execution_count": null,
   "metadata": {},
   "outputs": [],
   "source": [
    "df_genre_roi.to_csv('../data/genre_roi.csv', encoding='utf-8')"
   ]
  }
 ],
 "metadata": {
  "kernelspec": {
   "display_name": "Python (learn-env)",
   "language": "python",
   "name": "learn-env"
  },
  "language_info": {
   "codemirror_mode": {
    "name": "ipython",
    "version": 3
   },
   "file_extension": ".py",
   "mimetype": "text/x-python",
   "name": "python",
   "nbconvert_exporter": "python",
   "pygments_lexer": "ipython3",
   "version": "3.8.5"
  }
 },
 "nbformat": 4,
 "nbformat_minor": 2
}
