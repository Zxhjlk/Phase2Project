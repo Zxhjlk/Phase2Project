{
 "cells": [
  {
   "cell_type": "code",
   "execution_count": 44,
   "metadata": {},
   "outputs": [],
   "source": [
    "import pandas as pd\n",
    "import matplotlib.pyplot as plt\n",
    "import seaborn as sns\n"
   ]
  },
  {
   "cell_type": "code",
   "execution_count": 45,
   "metadata": {},
   "outputs": [],
   "source": [
    "budget_data = pd.read_csv('../data/cleaned_budgets.csv')\n",
    "gross_data = pd.read_csv('../data/cleaned_movie_gross.csv')\n",
    "movie_data = pd.read_csv('../data/cleaned_movies.csv')\n"
   ]
  },
  {
   "cell_type": "code",
   "execution_count": 46,
   "metadata": {},
   "outputs": [
    {
     "data": {
      "text/html": [
       "<div>\n",
       "<style scoped>\n",
       "    .dataframe tbody tr th:only-of-type {\n",
       "        vertical-align: middle;\n",
       "    }\n",
       "\n",
       "    .dataframe tbody tr th {\n",
       "        vertical-align: top;\n",
       "    }\n",
       "\n",
       "    .dataframe thead th {\n",
       "        text-align: right;\n",
       "    }\n",
       "</style>\n",
       "<table border=\"1\" class=\"dataframe\">\n",
       "  <thead>\n",
       "    <tr style=\"text-align: right;\">\n",
       "      <th></th>\n",
       "      <th>id</th>\n",
       "      <th>release_date</th>\n",
       "      <th>movie</th>\n",
       "      <th>production_budget</th>\n",
       "      <th>domestic_gross_x</th>\n",
       "      <th>worldwide_gross</th>\n",
       "      <th>return_ratio</th>\n",
       "      <th>title</th>\n",
       "      <th>studio</th>\n",
       "      <th>domestic_gross_y</th>\n",
       "      <th>foreign_gross</th>\n",
       "      <th>year</th>\n",
       "    </tr>\n",
       "  </thead>\n",
       "  <tbody>\n",
       "    <tr>\n",
       "      <th>0</th>\n",
       "      <td>2</td>\n",
       "      <td>2011-05-20</td>\n",
       "      <td>Pirates of the Caribbean: On Stranger Tides</td>\n",
       "      <td>410600000</td>\n",
       "      <td>241063875</td>\n",
       "      <td>1045663875</td>\n",
       "      <td>1.55</td>\n",
       "      <td>Pirates of the Caribbean: On Stranger Tides</td>\n",
       "      <td>BV</td>\n",
       "      <td>241100000.0</td>\n",
       "      <td>804600000</td>\n",
       "      <td>2011</td>\n",
       "    </tr>\n",
       "    <tr>\n",
       "      <th>1</th>\n",
       "      <td>4</td>\n",
       "      <td>2015-05-01</td>\n",
       "      <td>Avengers: Age of Ultron</td>\n",
       "      <td>330600000</td>\n",
       "      <td>459005868</td>\n",
       "      <td>1403013963</td>\n",
       "      <td>3.24</td>\n",
       "      <td>Avengers: Age of Ultron</td>\n",
       "      <td>BV</td>\n",
       "      <td>459000000.0</td>\n",
       "      <td>946400000</td>\n",
       "      <td>2015</td>\n",
       "    </tr>\n",
       "    <tr>\n",
       "      <th>2</th>\n",
       "      <td>7</td>\n",
       "      <td>2018-04-27</td>\n",
       "      <td>Avengers: Infinity War</td>\n",
       "      <td>300000000</td>\n",
       "      <td>678815482</td>\n",
       "      <td>2048134200</td>\n",
       "      <td>5.83</td>\n",
       "      <td>Avengers: Infinity War</td>\n",
       "      <td>BV</td>\n",
       "      <td>678800000.0</td>\n",
       "      <td>1,369.5</td>\n",
       "      <td>2018</td>\n",
       "    </tr>\n",
       "    <tr>\n",
       "      <th>3</th>\n",
       "      <td>9</td>\n",
       "      <td>2017-11-17</td>\n",
       "      <td>Justice League</td>\n",
       "      <td>300000000</td>\n",
       "      <td>229024295</td>\n",
       "      <td>655945209</td>\n",
       "      <td>1.19</td>\n",
       "      <td>Justice League</td>\n",
       "      <td>WB</td>\n",
       "      <td>229000000.0</td>\n",
       "      <td>428900000</td>\n",
       "      <td>2017</td>\n",
       "    </tr>\n",
       "    <tr>\n",
       "      <th>4</th>\n",
       "      <td>10</td>\n",
       "      <td>2015-11-06</td>\n",
       "      <td>Spectre</td>\n",
       "      <td>300000000</td>\n",
       "      <td>200074175</td>\n",
       "      <td>879620923</td>\n",
       "      <td>1.93</td>\n",
       "      <td>Spectre</td>\n",
       "      <td>Sony</td>\n",
       "      <td>200100000.0</td>\n",
       "      <td>680600000</td>\n",
       "      <td>2015</td>\n",
       "    </tr>\n",
       "    <tr>\n",
       "      <th>...</th>\n",
       "      <td>...</td>\n",
       "      <td>...</td>\n",
       "      <td>...</td>\n",
       "      <td>...</td>\n",
       "      <td>...</td>\n",
       "      <td>...</td>\n",
       "      <td>...</td>\n",
       "      <td>...</td>\n",
       "      <td>...</td>\n",
       "      <td>...</td>\n",
       "      <td>...</td>\n",
       "      <td>...</td>\n",
       "    </tr>\n",
       "    <tr>\n",
       "      <th>1237</th>\n",
       "      <td>68</td>\n",
       "      <td>2012-04-27</td>\n",
       "      <td>Sound of My Voice</td>\n",
       "      <td>135000</td>\n",
       "      <td>408015</td>\n",
       "      <td>429448</td>\n",
       "      <td>2.18</td>\n",
       "      <td>Sound of My Voice</td>\n",
       "      <td>FoxS</td>\n",
       "      <td>408000.0</td>\n",
       "      <td>NaN</td>\n",
       "      <td>2012</td>\n",
       "    </tr>\n",
       "    <tr>\n",
       "      <th>1238</th>\n",
       "      <td>73</td>\n",
       "      <td>2012-06-15</td>\n",
       "      <td>Your Sister's Sister</td>\n",
       "      <td>120000</td>\n",
       "      <td>1597486</td>\n",
       "      <td>3090593</td>\n",
       "      <td>24.75</td>\n",
       "      <td>Your Sister's Sister</td>\n",
       "      <td>IFC</td>\n",
       "      <td>1600000.0</td>\n",
       "      <td>NaN</td>\n",
       "      <td>2012</td>\n",
       "    </tr>\n",
       "    <tr>\n",
       "      <th>1239</th>\n",
       "      <td>80</td>\n",
       "      <td>2015-07-10</td>\n",
       "      <td>The Gallows</td>\n",
       "      <td>100000</td>\n",
       "      <td>22764410</td>\n",
       "      <td>41656474</td>\n",
       "      <td>415.56</td>\n",
       "      <td>The Gallows</td>\n",
       "      <td>WB (NL)</td>\n",
       "      <td>22800000.0</td>\n",
       "      <td>20200000</td>\n",
       "      <td>2015</td>\n",
       "    </tr>\n",
       "    <tr>\n",
       "      <th>1240</th>\n",
       "      <td>86</td>\n",
       "      <td>2017-07-07</td>\n",
       "      <td>A Ghost Story</td>\n",
       "      <td>100000</td>\n",
       "      <td>1594798</td>\n",
       "      <td>2769782</td>\n",
       "      <td>26.70</td>\n",
       "      <td>A Ghost Story</td>\n",
       "      <td>A24</td>\n",
       "      <td>1600000.0</td>\n",
       "      <td>NaN</td>\n",
       "      <td>2017</td>\n",
       "    </tr>\n",
       "    <tr>\n",
       "      <th>1241</th>\n",
       "      <td>18</td>\n",
       "      <td>2010-11-12</td>\n",
       "      <td>Tiny Furniture</td>\n",
       "      <td>50000</td>\n",
       "      <td>391674</td>\n",
       "      <td>424149</td>\n",
       "      <td>7.48</td>\n",
       "      <td>Tiny Furniture</td>\n",
       "      <td>IFC</td>\n",
       "      <td>392000.0</td>\n",
       "      <td>NaN</td>\n",
       "      <td>2010</td>\n",
       "    </tr>\n",
       "  </tbody>\n",
       "</table>\n",
       "<p>1242 rows × 12 columns</p>\n",
       "</div>"
      ],
      "text/plain": [
       "      id release_date                                        movie  \\\n",
       "0      2   2011-05-20  Pirates of the Caribbean: On Stranger Tides   \n",
       "1      4   2015-05-01                      Avengers: Age of Ultron   \n",
       "2      7   2018-04-27                       Avengers: Infinity War   \n",
       "3      9   2017-11-17                               Justice League   \n",
       "4     10   2015-11-06                                      Spectre   \n",
       "...   ..          ...                                          ...   \n",
       "1237  68   2012-04-27                            Sound of My Voice   \n",
       "1238  73   2012-06-15                         Your Sister's Sister   \n",
       "1239  80   2015-07-10                                  The Gallows   \n",
       "1240  86   2017-07-07                                A Ghost Story   \n",
       "1241  18   2010-11-12                               Tiny Furniture   \n",
       "\n",
       "      production_budget  domestic_gross_x  worldwide_gross  return_ratio  \\\n",
       "0             410600000         241063875       1045663875          1.55   \n",
       "1             330600000         459005868       1403013963          3.24   \n",
       "2             300000000         678815482       2048134200          5.83   \n",
       "3             300000000         229024295        655945209          1.19   \n",
       "4             300000000         200074175        879620923          1.93   \n",
       "...                 ...               ...              ...           ...   \n",
       "1237             135000            408015           429448          2.18   \n",
       "1238             120000           1597486          3090593         24.75   \n",
       "1239             100000          22764410         41656474        415.56   \n",
       "1240             100000           1594798          2769782         26.70   \n",
       "1241              50000            391674           424149          7.48   \n",
       "\n",
       "                                            title   studio  domestic_gross_y  \\\n",
       "0     Pirates of the Caribbean: On Stranger Tides       BV       241100000.0   \n",
       "1                         Avengers: Age of Ultron       BV       459000000.0   \n",
       "2                          Avengers: Infinity War       BV       678800000.0   \n",
       "3                                  Justice League       WB       229000000.0   \n",
       "4                                         Spectre     Sony       200100000.0   \n",
       "...                                           ...      ...               ...   \n",
       "1237                            Sound of My Voice     FoxS          408000.0   \n",
       "1238                         Your Sister's Sister      IFC         1600000.0   \n",
       "1239                                  The Gallows  WB (NL)        22800000.0   \n",
       "1240                                A Ghost Story      A24         1600000.0   \n",
       "1241                               Tiny Furniture      IFC          392000.0   \n",
       "\n",
       "     foreign_gross  year  \n",
       "0        804600000  2011  \n",
       "1        946400000  2015  \n",
       "2          1,369.5  2018  \n",
       "3        428900000  2017  \n",
       "4        680600000  2015  \n",
       "...            ...   ...  \n",
       "1237           NaN  2012  \n",
       "1238           NaN  2012  \n",
       "1239      20200000  2015  \n",
       "1240           NaN  2017  \n",
       "1241           NaN  2010  \n",
       "\n",
       "[1242 rows x 12 columns]"
      ]
     },
     "execution_count": 46,
     "metadata": {},
     "output_type": "execute_result"
    }
   ],
   "source": [
    "#data = budget_data.merge(gross_data, on='movie_id').merge(movie_data, on='movie_id')\n",
    "#data = budget_data.merge(gross_data, on='movie_data', how='left')\n",
    "data = budget_data.merge(gross_data, left_on='movie', right_on='title')\n",
    "data"
   ]
  },
  {
   "cell_type": "code",
   "execution_count": 47,
   "metadata": {},
   "outputs": [
    {
     "data": {
      "text/plain": [
       "23231760.9"
      ]
     },
     "execution_count": 47,
     "metadata": {},
     "output_type": "execute_result"
    }
   ],
   "source": [
    "#data_r_rated = data[data['rating'] == 'R']\n",
    "#r_rated_profit = data_r_rated['profit'].mean()\n",
    "data_rt = pd.read_csv('../data/cleaned_rt_info.csv')\n",
    "data_r_rated = data_rt[data_rt['rating'] == 'R']\n",
    "\n",
    "\n",
    "data_r_rated['box_office'].mean().round(2)"
   ]
  },
  {
   "cell_type": "code",
   "execution_count": 48,
   "metadata": {},
   "outputs": [
    {
     "data": {
      "text/plain": [
       "53306675.37"
      ]
     },
     "execution_count": 48,
     "metadata": {},
     "output_type": "execute_result"
    }
   ],
   "source": [
    "data_not_r = data_rt[(data_rt['rating'] != 'R') & (data_rt['rating'] != 'NR')]\n",
    "data_not_r['box_office'].mean().round(2)"
   ]
  },
  {
   "cell_type": "code",
   "execution_count": 49,
   "metadata": {},
   "outputs": [
    {
     "data": {
      "text/plain": [
       "rating\n",
       "R        521\n",
       "NR       503\n",
       "PG       240\n",
       "PG-13    235\n",
       "G         57\n",
       "NC17       1\n",
       "Name: count, dtype: int64"
      ]
     },
     "execution_count": 49,
     "metadata": {},
     "output_type": "execute_result"
    }
   ],
   "source": [
    "data_rt['rating'].value_counts()"
   ]
  },
  {
   "cell_type": "code",
   "execution_count": 50,
   "metadata": {},
   "outputs": [],
   "source": [
    "data_rt = pd.read_csv('../data/cleaned_rt_info.csv')\n",
    "\n",
    "data_r_rated = data_rt[data_rt['rating'] == 'R']\n",
    "data_not_r = data_rt[(data_rt['rating'] != 'R') & (data_rt['rating'] != 'NR')]\n",
    "\n",
    "r_rated_profit = data_r_rated['box_office'].mean().round(2)\n",
    "non_r_rated_profit = data_not_r['box_office'].mean().round(2)\n"
   ]
  },
  {
   "cell_type": "code",
   "execution_count": 51,
   "metadata": {},
   "outputs": [
    {
     "name": "stdout",
     "output_type": "stream",
     "text": [
      "Non-R Rated Profit: 53306675.37\n",
      "R Rated Profit: 23231760.9\n"
     ]
    }
   ],
   "source": [
    "print(f'Non-R Rated Profit: {non_r_rated_profit}')\n",
    "print(f'R Rated Profit: {r_rated_profit}')"
   ]
  },
  {
   "cell_type": "code",
   "execution_count": 52,
   "metadata": {},
   "outputs": [],
   "source": [
    "data_r_rated = data_rt[data_rt['rating'] == 'R']\n",
    "r_genre_profit = data_r_rated.groupby('genre')['box_office'].mean().sort_values(ascending=False)\n",
    "rating_df = data_rt.groupby('rating')['box_office'].mean().sort_values(ascending=False)\n"
   ]
  },
  {
   "cell_type": "code",
   "execution_count": 56,
   "metadata": {},
   "outputs": [
    {
     "data": {
      "image/png": "[encoded data removed]",
      "text/plain": [
       "<Figure size 1000x500 with 1 Axes>"
      ]
     },
     "metadata": {},
     "output_type": "display_data"
    }
   ],
   "source": [
    "plt.figure(figsize=(10, 5))\n",
    "sns.barplot(x=rating_df.index, y=rating_df.values, color='red')\n",
    "plt.xticks(rotation=45)\n",
    "plt.ylabel('Mean Profit ($)')\n",
    "plt.title('Average Profit by Age Rating')\n",
    "plt.show()\n"
   ]
  }
 ],
 "metadata": {
  "kernelspec": {
   "display_name": "learn-env",
   "language": "python",
   "name": "python3"
  },
  "language_info": {
   "codemirror_mode": {
    "name": "ipython",
    "version": 3
   },
   "file_extension": ".py",
   "mimetype": "text/x-python",
   "name": "python",
   "nbconvert_exporter": "python",
   "pygments_lexer": "ipython3",
   "version": "3.9.21"
  }
 },
 "nbformat": 4,
 "nbformat_minor": 2
}
